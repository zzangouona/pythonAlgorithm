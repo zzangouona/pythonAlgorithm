{
 "cells": [
  {
   "cell_type": "markdown",
   "metadata": {},
   "source": [
    "## 실습"
   ]
  },
  {
   "cell_type": "markdown",
   "metadata": {},
   "source": [
    "### 실습 1. \n",
    "#### 너비우선 탐색 방법을 활용하여 주어진 그래프에서  주어진 시작 노드와 종단 노드간의 최단 경로를 찾는 파이썬 함수를 코딩하여 보고, 이를 [그림 4]에 적용하여 보시오, \n",
    "![Alttext](fig12-4.png)\n",
    "#### 주어진 그래프 표현은 인접목록으로 주어진다고 가정함. 즉, [그림 4]의 그래프 표현은 \n",
    "\n",
    "```\n",
    "graph_w = {\n",
    "             'B': [['F', 245], ['L', 115], ['N', 145], ['S', 175]],\n",
    "             'E': [['F', 450],['L', 645]],\n",
    "             'F': [['B', 245], ['E', 450],['N', 385]],\n",
    "             'L': [['B', 115], ['E', 645],['F', 220],['N', 260],['S', 125]],\n",
    "             'N': [['B', 145], ['F', 385],['L', 260],['S', 320]],             \n",
    "             'S': [['B', 175], ['L', 125],['N', 320]]} \n",
    "```"
   ]
  },
  {
   "cell_type": "code",
   "execution_count": 1,
   "metadata": {},
   "outputs": [],
   "source": [
    "graph_w = {\n",
    "             'B': [['F', 245], ['L', 115], ['N', 145], ['S', 175]],\n",
    "             'E': [['F', 450],['L', 645]],\n",
    "             'F': [['B', 245], ['E', 450],['N', 385]],\n",
    "             'L': [['B', 115], ['E', 645],['F', 220],['N', 260],['S', 125]],\n",
    "             'N': [['B', 145], ['F', 385],['L', 260],['S', 320]],             \n",
    "             'S': [['B', 175], ['L', 125],['N', 320]]} "
   ]
  },
  {
   "cell_type": "code",
   "execution_count": 2,
   "metadata": {},
   "outputs": [],
   "source": [
    "def find_shortest_path_by_bfs2(graph, start, end):     \n",
    "    path_queue = [[0, [start]]]\n",
    "    paths = list()\n",
    "    shortest_distance = float(\"inf\")\n",
    "    shortest_path = None\n",
    "    if not start in graph:\n",
    "            return print(\"start node is not a graph node\")\n",
    "    if start == end:\n",
    "        return [start, 0]\n",
    "\n",
    "    while path_queue:\n",
    "        path=path_queue.pop(0) #1st_stage - path=[0, [start='S']] ; 1st_stage - path=[175, ['S', 'B']]\n",
    "       # print(\"path=\", path)\n",
    "        for w in graph[path[1][-1]]: #w 는 'S' 의 인접노드로  ['B', 175], ['L', 125],['N', 320] 등임 \n",
    "            if end == w[0] :\n",
    "                #print(\"path[1][-1]={}, w[0]={}\".format(path[1][-1], w[0])) \n",
    "                if path[0]+w[1] < shortest_distance:                      \n",
    "                    shortest_path=path[1]+[w[0]]\n",
    "                    shortest_distance=path[0]+w[1]  \n",
    "                #    print(\"1shortest_path={}, 1shortest_istance={}\".format(shortest_path, shortest_distance))\n",
    "                    continue\n",
    "            if w[0] not in path[1]: \n",
    "                path_queue.append([path[0]+w[1], path[1]+[w[0]]]) #path[0]+w[1]= 175, path[1]+[[w[0]]=['S']+['B']=['S', 'B'] \n",
    "           #     print(\"path_queue=\", path_queue)\n",
    "    return shortest_distance, shortest_path"
   ]
  },
  {
   "cell_type": "code",
   "execution_count": 3,
   "metadata": {},
   "outputs": [
    {
     "data": {
      "text/plain": [
       "(345, ['S', 'L', 'F'])"
      ]
     },
     "execution_count": 3,
     "metadata": {},
     "output_type": "execute_result"
    }
   ],
   "source": [
    "find_shortest_path_by_bfs2(graph_w, 'S', 'F')"
   ]
  },
  {
   "cell_type": "markdown",
   "metadata": {},
   "source": [
    "### 실습 2.\n",
    "#### 주어진 그래프 표현이 인접행렬일 때,  그래프의 인접노드들을 다르게 색칠되는, 그래프의    노드들의 색상을 구하는 함수를 파이썬 함수로  코딩하고, 이를 [그림 8] 그래프에 적용하여 보시오. \n",
    "![Altext](fig12-8.png)"
   ]
  },
  {
   "cell_type": "code",
   "execution_count": 4,
   "metadata": {},
   "outputs": [
    {
     "data": {
      "text/plain": [
       "{'a': ['b', 'c', 'd', 'e'],\n",
       " 'b': ['a', 'c', 'd'],\n",
       " 'c': ['a', 'b', 'd'],\n",
       " 'd': ['a', 'b', 'c', 'e', 'f', 'g'],\n",
       " 'e': ['a', 'd', 'f', 'g'],\n",
       " 'f': ['d', 'e', 'g'],\n",
       " 'g': ['d', 'e', 'f']}"
      ]
     },
     "execution_count": 4,
     "metadata": {},
     "output_type": "execute_result"
    }
   ],
   "source": [
    "dual_graph = {'a': ['b', 'c', 'd', 'e'],\n",
    "       'b': ['a', 'c', 'd'],\n",
    "       'c': ['a', 'b', 'd'],\n",
    "       'd': ['a', 'b', 'c', 'e', 'f', 'g'],\n",
    "       'e': ['a', 'd', 'f', 'g'],\n",
    "       'f': ['d', 'e', 'g'],\n",
    "       'g': ['d', 'e', 'f']   \n",
    "             }\n",
    "dual_graph"
   ]
  },
  {
   "cell_type": "code",
   "execution_count": 5,
   "metadata": {},
   "outputs": [],
   "source": [
    "dual_graph_M = [[0, 1, 1, 1, 1, 0, 0],\n",
    "                [1, 0, 1, 1, 0, 0, 0],\n",
    "                [1, 1, 0, 1, 0, 0, 0],\n",
    "                [1, 1, 1, 0, 1, 1, 1],\n",
    "                [1, 0, 0, 1, 0, 1, 1],\n",
    "                [0, 0, 0, 1, 1, 0, 1],\n",
    "                [0, 0, 0, 1, 1, 1, 0],\n",
    "            ]"
   ]
  },
  {
   "cell_type": "code",
   "execution_count": 6,
   "metadata": {},
   "outputs": [],
   "source": [
    "# 주어진 색상(color)이 채색된 노드의 인접 노드에 칠할 수있는 지 여부   \n",
    "def promising(graph_M, i, nodes,  colors_of_nodes, color):  \n",
    "# graph는 그래프의 인접목록 표현, node 는 현재 탐색 노드, 현재까지 색칠된 노드의 색상\n",
    "# colors_of_nodes 는 현재까지 색칠된 노드의 색상들, color 는 색상 테이블에 있는 색상\n",
    "    for k in range(len(nodes)):\n",
    "        if graph_M[i][k]!=0:          \n",
    "            if nodes[k] in set(colors_of_nodes.keys()): #colors_of_nodes.keys()는 현재까지 색칠된 노드들\n",
    "                color_of_neighbor = colors_of_nodes[nodes[k]]  \n",
    "            else: color_of_neighbor= None     \n",
    "       \n",
    "            if color_of_neighbor == color:\n",
    "               return False\n",
    "    return True\n",
    "\n",
    "def get_color_for_node(graph_M, i, nodes,  colors_of_nodes, color_table):\n",
    "    for color in color_table:  \n",
    "        if promising(graph_M, i, nodes,  colors_of_nodes, color):\n",
    "            return color\n",
    "\n",
    "def graph_coloring2(nodes, graph_M, color_table):\n",
    "    colors_of_nodes = {}\n",
    "    nodes.sort()\n",
    "    for i, node in enumerate(nodes):     \n",
    "        colors_of_nodes[node] = get_color_for_node(graph_M, i, nodes,  colors_of_nodes, color_table)       \n",
    "    return colors_of_nodes"
   ]
  },
  {
   "cell_type": "code",
   "execution_count": 7,
   "metadata": {},
   "outputs": [
    {
     "data": {
      "text/plain": [
       "{'a': 'Black',\n",
       " 'b': 'Blue',\n",
       " 'c': 'Green',\n",
       " 'd': 'Red',\n",
       " 'e': 'Blue',\n",
       " 'f': 'Black',\n",
       " 'g': 'Green'}"
      ]
     },
     "execution_count": 7,
     "metadata": {},
     "output_type": "execute_result"
    }
   ],
   "source": [
    "nodes=['a', 'b' , 'c',  'd' , 'e', 'f', 'g']\n",
    "color_table = ['Black', 'Blue', 'Green', 'Red', 'Violet', 'Yellow']\n",
    "graph_coloring2(nodes, dual_graph_M, color_table)"
   ]
  },
  {
   "cell_type": "markdown",
   "metadata": {},
   "source": [
    "{'a': 'Black',  'b': 'Blue',  'c': 'Green',  'd': 'Red',  'e': 'Blue',  'f': 'Black',  'g': 'Green'}\n",
    "![Alttext](fig12-exer2.png)"
   ]
  },
  {
   "cell_type": "markdown",
   "metadata": {},
   "source": [
    "### 실습 3. \n",
    "#### 주어진 그래프 표현이 인접 행렬로 주어지는 경우에, 그래프가 이분이 가능한 지(즉 그래프가 Bipartite graph 인지)를 판별하는 파이썬 함수를 작성하고, 이를  다음 [그림 10] 의 그래프와 [그림 1] 의 그래프에 적용하여 보시오.  \n",
    "![Alttext](fig12-10.png)"
   ]
  },
  {
   "cell_type": "code",
   "execution_count": 8,
   "metadata": {},
   "outputs": [],
   "source": [
    "def isBipartite2(graph): # graph 는   해당 그래프의 인접행렬  \n",
    "    n=len(graph[0])    \n",
    "    colorArr = [-1] * n\n",
    "    colorArr[0] = 1\n",
    " \n",
    "    queue = []\n",
    "    queue.append(0)\n",
    " \n",
    "    while queue:\n",
    "        u = queue.pop()\n",
    "       \n",
    "        # 만일 자체 루프가 있으면 'false' 복귀\n",
    "        if graph[u][u] == 1:               \n",
    "                return False\n",
    " \n",
    "        for v in range(n):\n",
    "            # 노드  u 에서 노드 v 로의 에지가 존재하고, 목적노드가 채색되어 있지 않으면 \n",
    "            if graph[u][v] == 1 and colorArr[v] == -1: \n",
    "                    # 인접노드 의 색을 현 노드와 다르게 채색                    \n",
    "                    colorArr[v] = 1 - colorArr[u]\n",
    "                    queue.append(v)\n",
    " \n",
    "                # 현노드가 인접노드와 다르게 색칠되어 있으면, 'false' 복귀 \n",
    "              \n",
    "            elif graph[u][v] == 1 and colorArr[v] == colorArr[u]:\n",
    "                print(\"colorArr=\", colorArr)\n",
    "                return False\n",
    " \n",
    "        #여기까지 도달되면, 모든 노드들이 인접노드와 다르게 채색됨 \n",
    "    print(\"colorArr=\", colorArr)\n",
    "    return True "
   ]
  },
  {
   "cell_type": "markdown",
   "metadata": {},
   "source": [
    "#### [그림  10] 그래프의 인접행렬 표현은 다음과 같다."
   ]
  },
  {
   "cell_type": "code",
   "execution_count": 9,
   "metadata": {},
   "outputs": [
    {
     "name": "stdout",
     "output_type": "stream",
     "text": [
      "colorArr= [1, 0, 1, 0]\n",
      "Yes\n"
     ]
    }
   ],
   "source": [
    "graph_B10 = [[0, 1, 0, 1],\n",
    "            [1, 0, 1, 0],\n",
    "            [0, 1, 0, 1],\n",
    "            [1, 0, 1, 0]\n",
    "            ]\n",
    "             \n",
    "if isBipartite2(graph_B10): \n",
    "    print(\"Yes\")\n",
    "else:\n",
    "    print(\"No\")"
   ]
  },
  {
   "cell_type": "markdown",
   "metadata": {},
   "source": [
    "#### [그림 1] 그래프의 인접행렬 표현은 다음과 같다."
   ]
  },
  {
   "cell_type": "code",
   "execution_count": 10,
   "metadata": {},
   "outputs": [
    {
     "name": "stdout",
     "output_type": "stream",
     "text": [
      "colorArr= [1, -1, 0, 0, 0, 0]\n",
      "No\n"
     ]
    }
   ],
   "source": [
    "graph_B1 =[[0, 0, 1, 1, 1, 1],\n",
    "           [0, 0, 1, 1, 0, 0],\n",
    "           [1, 1, 0, 1, 1, 0],\n",
    "           [1, 1, 1, 0, 1, 1],\n",
    "           [1, 0, 1, 1, 0, 1],\n",
    "           [1, 0, 0, 1, 1, 0]]\n",
    "if isBipartite2(graph_B1): \n",
    "    print(\"Yes\")\n",
    "else:\n",
    "    print(\"No\")"
   ]
  }
 ],
 "metadata": {
  "kernelspec": {
   "display_name": "Python 3",
   "language": "python",
   "name": "python3"
  },
  "language_info": {
   "codemirror_mode": {
    "name": "ipython",
    "version": 3
   },
   "file_extension": ".py",
   "mimetype": "text/x-python",
   "name": "python",
   "nbconvert_exporter": "python",
   "pygments_lexer": "ipython3",
   "version": "3.8.3"
  }
 },
 "nbformat": 4,
 "nbformat_minor": 2
}
