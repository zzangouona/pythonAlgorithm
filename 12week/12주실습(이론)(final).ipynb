{
 "cells": [
  {
   "cell_type": "markdown",
   "metadata": {},
   "source": [
    "#  10장 . 그래프 탐색(순회)\n",
    "### 본 실습에서는 그래프 의 각 노드를 순회하는 알고리즘을 살펴 봅시다. 그래프 순회는 깊이우선(Depth First) 와 너비우선(Width First) 알고리즘들이 있습니다.\n",
    "![alt text](fig12-DFS_BFS.jpg)\n",
    "![alt text](fig12-DFS_WFS.jpg)\n",
    "#### 그래프 탐색들은 순회하여 보면 트리 탐색으로 구성됩니다 ([그림 1] 과 [그림 2], [그림 3] 비교). "
   ]
  },
  {
   "cell_type": "markdown",
   "metadata": {},
   "source": [
    "## 1. 그래프 깊이 우선 및 너비 우선 탐색\n",
    "####  11주 실습에서 살펴보았던 다음 [그림1 ] 의 그래프에 대해 깊이우선탐색, 너비우선탐색에 대해 살펴보기로 합니다. \n",
    "![alt text](fig12-1.png)"
   ]
  },
  {
   "cell_type": "markdown",
   "metadata": {},
   "source": [
    "#### 상기  [그림1]의  그래프에 대해, 그래프 표현은 이미 학습한대로  adjacency list 를 사용하며, 파이썬에서는 이를 dictionary 로 다음과 같이 표현합니다."
   ]
  },
  {
   "cell_type": "code",
   "execution_count": 19,
   "metadata": {
    "scrolled": true
   },
   "outputs": [
    {
     "data": {
      "text/plain": [
       "{'B': ['F', 'L', 'N', 'S'],\n",
       " 'E': ['F', 'L'],\n",
       " 'F': ['B', 'E', 'L', 'N'],\n",
       " 'L': ['B', 'E', 'F', 'N', 'S'],\n",
       " 'N': ['B', 'F', 'L', 'S'],\n",
       " 'S': ['B', 'L', 'N']}"
      ]
     },
     "execution_count": 19,
     "metadata": {},
     "output_type": "execute_result"
    }
   ],
   "source": [
    "graph1 = {\n",
    "       'B': ['F', 'L', 'N', 'S'],\n",
    "       'E': ['F', 'L'],\n",
    "       'F': ['B', 'E', 'L', 'N'],  \n",
    "       'L': ['B', 'E', 'F', 'N', 'S'],\n",
    "       'N': ['B', 'F', 'L', 'S'],\n",
    "       'S': ['B', 'L', 'N'],}\n",
    "graph1"
   ]
  },
  {
   "cell_type": "markdown",
   "metadata": {},
   "source": [
    "<br/>"
   ]
  },
  {
   "cell_type": "markdown",
   "metadata": {},
   "source": [
    "## 깊이우선탐색 (Depth First Search)"
   ]
  },
  {
   "cell_type": "markdown",
   "metadata": {},
   "source": [
    "#### 그래프의 연결된 노드들에 대한 깊이우선탐색에 대한  의사코드(pseudo-code)는 아래와 같습니다. \n",
    "\n",
    "~~~python\n",
    "DFS(graph G, start vertex s):\n",
    "    // all nodes initially unexplored\n",
    "    mark s as explored\n",
    "    for every edge (s, v):\n",
    "       if v unexplored:\n",
    "          DFS(G, v)\n",
    "~~~"
   ]
  },
  {
   "cell_type": "markdown",
   "metadata": {},
   "source": [
    "### 다음은 깊이우선탐색에 의한 그래프 모든 노드의 탐색(순회) 파이썬 알고리즘 구현입니다. "
   ]
  },
  {
   "cell_type": "code",
   "execution_count": 20,
   "metadata": {},
   "outputs": [],
   "source": [
    "def dfs(graph, start,explored=[]):  #graph ; 인접 노드 목록 그래프 표현, #start ;  시작 노드, explored=탐색된 노드 리스트\n",
    "    if not start in graph: #시작노드가 그래프 노드 가 아니면 문제 있음 \n",
    "        return None\n",
    "   \n",
    "    if start in explored: # (1) 만일 시작 노드가 이미 탐색된 것이면, explored 리턴\n",
    "        return explored\n",
    "\n",
    "    explored = explored + [start] # (2) 시작 노드를 탐색된 노드 리스트에 추가 \n",
    "    for w in graph[start]: # (3) 시작노드들의 인접 노드들에 대해 for looping   \n",
    "        if w not in explored:  # (4) 인접 노드가 탐색 노드 리스트에 없는 지를 점검\n",
    "            explored=dfs(graph, w, explored)  # (5)계속해서 깊이 탐색해 들어감    \n",
    "    return explored"
   ]
  },
  {
   "cell_type": "markdown",
   "metadata": {},
   "source": [
    "#### [그림 1]  의 그래프에 대해 깊이우선탐색 기반으로 모든 노드를 순회해 봅시다.\n",
    "![Alttext](fig12-2.PNG)\n",
    "#### [그림 2 (c)] 는  깊이 우선 탐색 그래프 순회 알고리즘 ([그림 2(a)] )의 그래프 노드 순회 순서를 보여 줍니다. [그림 2 (c)] 에서 순회노드 &#9326; 에서 순회노드 &#9327; 으로 거술러 올라 가는 것을 backtracking 이라 합니다."
   ]
  },
  {
   "cell_type": "code",
   "execution_count": 21,
   "metadata": {},
   "outputs": [
    {
     "data": {
      "text/plain": [
       "['S', 'B', 'F', 'E', 'L', 'N']"
      ]
     },
     "execution_count": 21,
     "metadata": {},
     "output_type": "execute_result"
    }
   ],
   "source": [
    "dfs(graph1, 'S')"
   ]
  },
  {
   "cell_type": "markdown",
   "metadata": {},
   "source": [
    "#### [그림 2 (c)] 의 깊이 우선 탐색 그래프 순회 알고리즘 ([그림 2(a)] )의 그래프 노드 순회 순서가 맞는 지를 확인하여 봅시다."
   ]
  },
  {
   "cell_type": "code",
   "execution_count": 22,
   "metadata": {},
   "outputs": [],
   "source": [
    "def dfs_check(graph, start, explored=[]):  #graph ; 인접 노드 목록 그래프 표현, #start ;  시작 노드, explored=탐색된 노드 리스트\n",
    "    global traversal\n",
    "    if not start in graph: #시작노드가 그래프 노드 가 아니면 문제 있음 \n",
    "        return None\n",
    "    \n",
    "    if start in explored: # (1) 만일 시작 노드가 이미 탐색된 것이면, explored 리턴\n",
    "        return explored\n",
    "    \n",
    "    explored = explored + [start] # (2) 시작 노드를 탐색된 노드 리스트에 추가 \n",
    "    for w in graph[start]: # (3) 시작노드들의 인접 노드들에 대해 for looping\n",
    "        traversal.append(w)\n",
    "        if w not in explored:  # (4) 인접 노드가 탐색 노드 리스트에 없는 지를 점검\n",
    "            explored=dfs_check(graph, w, explored)  # (5)계속해서 깊이 탐색해 들어감    \n",
    "    return explored"
   ]
  },
  {
   "cell_type": "code",
   "execution_count": 23,
   "metadata": {},
   "outputs": [
    {
     "name": "stdout",
     "output_type": "stream",
     "text": [
      "\n",
      " explored nodes= ['S', 'B', 'F', 'E', 'L', 'N']\n",
      "\n",
      " Traversal nodes = ['S', 'B', 'F', 'B', 'E', 'F', 'L', 'B', 'E', 'F', 'N', 'B', 'F', 'L', 'S', 'S', 'L', 'N', 'L', 'N', 'S', 'L', 'N']\n",
      "\n",
      " The number of traversal nodes = 23\n"
     ]
    }
   ],
   "source": [
    "traversal=['S']\n",
    "explored=dfs_check(graph1, 'S')\n",
    "print(\"\\n explored nodes=\", explored)\n",
    "print(\"\\n Traversal nodes =\",traversal)\n",
    "print(\"\\n The number of traversal nodes =\", len(traversal))"
   ]
  },
  {
   "cell_type": "markdown",
   "metadata": {},
   "source": [
    "#### 상기 [그림 1] 의 그래프에서 노드 $'L'$  에서 노드 $'N'$ 까지 에지가 없는 [그림 2-1 (b)] 그래프 노드들의 깊이 탐색 순회의 경루를 검토해 봅시다.  \n",
    "![Alttext](fig12-2_1.png)\n",
    "#### 이 때, [그림 2-1] 의 가운데 있는 그래표 에서 노드 'S' , 노드 'B' ,노드 'F' , 노드 'E' , 노드 'L' 순으로 게속 깊이 들어가서 탐색했다가, 상위 레벨로 올라가 노드 'F 의 나머지 다른 인접노드  'L' 은 이미 탐색하였고 마지막으로 노드 'F 의  마지막 인접노드  'N' 을 탐색하게 된다.  이렇게 거슬러 올라가서 탐색하는 것을  \"Back Tracking\" 이라 합니다.¶"
   ]
  },
  {
   "cell_type": "code",
   "execution_count": 87,
   "metadata": {},
   "outputs": [
    {
     "data": {
      "text/plain": [
       "{'B': ['F', 'L', 'N', 'S'],\n",
       " 'E': ['F', 'L'],\n",
       " 'F': ['B', 'E', 'L', 'N'],\n",
       " 'L': ['B', 'E', 'F', 'S'],\n",
       " 'N': ['B', 'F', 'S'],\n",
       " 'S': ['B', 'L', 'N']}"
      ]
     },
     "execution_count": 87,
     "metadata": {},
     "output_type": "execute_result"
    }
   ],
   "source": [
    "graph2_1 = {\n",
    "       'B': ['F', 'L', 'N', 'S'],\n",
    "       'E': ['F', 'L'],\n",
    "       'F': ['B', 'E', 'L', 'N'],  \n",
    "       'L': ['B', 'E', 'F', 'S'],\n",
    "       'N': ['B', 'F', 'S'],\n",
    "       'S': ['B', 'L', 'N'],}\n",
    "graph2_1"
   ]
  },
  {
   "cell_type": "code",
   "execution_count": 88,
   "metadata": {},
   "outputs": [
    {
     "name": "stdout",
     "output_type": "stream",
     "text": [
      "\n",
      " explored nodes= ['S', 'B', 'F', 'E', 'L', 'N']\n",
      "\n",
      " Traversal nodes = ['S', 'B', 'F', 'B', 'E', 'F', 'L', 'B', 'E', 'F', 'S', 'L', 'N', 'B', 'F', 'S', 'L', 'N', 'S', 'L', 'N']\n",
      "\n",
      " The number of traversal nodes = 21\n"
     ]
    }
   ],
   "source": [
    "traversal=['S']\n",
    "explored=dfs_check(graph2_1, 'S')\n",
    "print(\"\\n explored nodes=\", explored)\n",
    "print(\"\\n Traversal nodes =\",traversal)\n",
    "print(\"\\n The number of traversal nodes =\", len(traversal))"
   ]
  },
  {
   "cell_type": "markdown",
   "metadata": {},
   "source": [
    "### networkX 패키기를 활용한 깊이 우선 탐색 "
   ]
  },
  {
   "cell_type": "code",
   "execution_count": 20,
   "metadata": {},
   "outputs": [
    {
     "name": "stdout",
     "output_type": "stream",
     "text": [
      "Nodes of graph: \n",
      "['B', 'E', 'F', 'L', 'N', 'S']\n",
      "Edges of graph: \n",
      "[('B', 'F', {}), ('B', 'L', {}), ('B', 'N', {}), ('B', 'S', {}), ('E', 'F', {}), ('E', 'L', {}), ('F', 'L', {}), ('F', 'N', {}), ('L', 'S', {}), ('L', 'N', {}), ('N', 'S', {})]\n"
     ]
    }
   ],
   "source": [
    "import networkx as nx # networkx 패키지 임포트\n",
    "G1=nx.Graph()\n",
    "Nodes=['B', 'E', 'F', 'L', 'N',  'S' ]\n",
    "G1.add_nodes_from(Nodes)\n",
    "\n",
    "# adding a list of edges:\n",
    "G1.add_edges_from([('B', 'F'), ('B', 'L'), ('B', 'N'), ('B', 'S'),('L', 'S' ), ('E', 'F'), ('E', 'L'), ('F', 'L'), ('L', 'N'), ('N', 'F'), ('N', 'S')])                   \n",
    "print(\"Nodes of graph: \")\n",
    "print(G1.nodes())\n",
    "print(\"Edges of graph: \")\n",
    "print(G1.edges(data=True))"
   ]
  },
  {
   "cell_type": "code",
   "execution_count": 21,
   "metadata": {},
   "outputs": [
    {
     "data": {
      "text/plain": [
       "[('S', 'B'), ('B', 'F'), ('F', 'E'), ('E', 'L'), ('L', 'N')]"
      ]
     },
     "execution_count": 21,
     "metadata": {},
     "output_type": "execute_result"
    }
   ],
   "source": [
    "list(nx.dfs_edges(G1, 'S'))"
   ]
  },
  {
   "cell_type": "markdown",
   "metadata": {},
   "source": [
    "### 깊이우선탐색에 의한 경로 찾기\n",
    "#### 깊이우선탐색 알고리즘은 시작노드에서 시작하여 하나의 인접노드를 탐색하고, 이 인접노드의 인접노드 가운데 하나를 탐색하는 과정을 되풀이하는 것입니다.  탐색된 노드의 인접노 하나를 계속해서 면서,  이  탐색한 노드를  다음 단계 탐색을 위해 큐에 저장합니다.  현 단계의 탐색이 모두 마쳐지면, 현 단계에서 탐색된 노드들을 큐에서 하나씩 꺼내어 인접 노드들을 탐색해 나가는 것입니다. \n",
    "#### [그림 2]에서 보면, ['S', 'B', 'F' ] 순서로 깊이우선 탐색하다가, 다시 ['B']  노드로 back tracking 하여, 노드 ['B'] 와 인접한 다른 노드 ['E']  를 탐색하는 과정을 'back tracking' 이라고 합니다."
   ]
  },
  {
   "cell_type": "markdown",
   "metadata": {},
   "source": [
    "#### 이전 11주 실습에서 살펴 본 길 찾기 알고리즘은 깊이우선탐색을 이용한 것입니다."
   ]
  },
  {
   "cell_type": "code",
   "execution_count": 21,
   "metadata": {},
   "outputs": [],
   "source": [
    "def find_path_by_dfs(graph, start, end, path=[]):          \n",
    "        if not start in graph:\n",
    "            return None\n",
    "        \n",
    "        path = path + [start]\n",
    "        \n",
    "        if start == end: #시작노드로부터 종단노드까지의 경로인지를 점검\n",
    "            return path\n",
    "  \n",
    "        for node in graph[start]:            \n",
    "                if node not in path:                \n",
    "                    newpath = find_path_by_dfs(graph, node, end, path)\n",
    "                    if newpath: return newpath #시작 노드로 부터 종단노드까지의 경로를 발견했으면 알고리즘 수행을 종료하고 찾은 경로 복귀\n",
    "        return None         "
   ]
  },
  {
   "cell_type": "markdown",
   "metadata": {},
   "source": [
    "#### [그림 1]  의 그래프에 대해 깊이우선탐색 기반으로 경로 하나를 탐색해 봅시다."
   ]
  },
  {
   "cell_type": "code",
   "execution_count": 22,
   "metadata": {},
   "outputs": [
    {
     "data": {
      "text/plain": [
       "['S', 'B', 'F']"
      ]
     },
     "execution_count": 22,
     "metadata": {},
     "output_type": "execute_result"
    }
   ],
   "source": [
    "find_path_by_dfs(graph1, 'S', 'F')"
   ]
  },
  {
   "cell_type": "markdown",
   "metadata": {},
   "source": [
    "### 깊이우선탐색으로 모든 경로 찾기 \n",
    "#### 이전 11주 실습에서 살펴본 모든 경로 탐색은 깊이우선탐색을 이용한 것입니다.\n",
    "#### 본 실습에서는 경로가 사이클은 포함하지 않는 것으로 합니다. 즉, 경로에서 동일한 노드가 두 번 이상 들어가지 않는 것으로 합니다.¶"
   ]
  },
  {
   "cell_type": "code",
   "execution_count": 110,
   "metadata": {},
   "outputs": [],
   "source": [
    "def find_all_paths_by_dfs(graph, start, end, path=[]):\n",
    "        path = path + [start] # (1) ; 경로 업데이트 \n",
    "        if start == end:  # (2) 시작노드 와 종단 노드간 경로를 찾았는 지 점검\n",
    "            return [path]  # 'find_all_paths'의 return  타입을 리스트의 리스트로 맞추기 위해, [path] 로 함\n",
    "        if not start in graph : # (3) 시작노드가  그래프 노드 인지 점검\n",
    "            return []\n",
    "        all_paths = [] # (4) 모든 시작노드 와 종단 노드간의 모든 경로를 담는 경로(리스트 타입)의 리스트\n",
    "        for node in graph[start]: # (5) 시작 노드의 인접 노드 탐색 \n",
    "            if node not in path:\n",
    "                newpaths = find_all_paths_by_dfs(graph, node, end, path) # (6) newpaths 는 해당 노드를 시작로 한 모든 경로들의 리스트\n",
    "              #  print(\"NewPaths=\", newpaths)\n",
    "                for newpath in newpaths:  # (7) all_paths에  newpaths에 있는 모든 경로를 추가 \n",
    "                    all_paths.append(newpath)\n",
    "            # 이때 \"all_paths\" 는 graph[start] 에 있는 인접노드들중 처음부터 'node' 까지의 각각을 통과하는 '시작' 노드 및 '종단' 노드 까지의 \n",
    "            # 의 경로들의 모임 \n",
    "            # 따라서, 'start' 가 시작노드 이며, 'for' loop 동안 시작노드에서 시작노드에서 시작하여  시작노드의 인접노드들을 종단노드에 도달하는 \n",
    "            # 모든 경로가  all_paths 에 포함됨\n",
    "        return all_paths"
   ]
  },
  {
   "cell_type": "markdown",
   "metadata": {},
   "source": [
    "#### [그림 1]  의 그래프에 대해 깊이우선탐색 기반으로 모든 경로를 탐색해 봅시다."
   ]
  },
  {
   "cell_type": "code",
   "execution_count": 111,
   "metadata": {
    "scrolled": true
   },
   "outputs": [
    {
     "data": {
      "text/plain": [
       "[['S', 'B', 'F'],\n",
       " ['S', 'B', 'L', 'E', 'F'],\n",
       " ['S', 'B', 'L', 'F'],\n",
       " ['S', 'B', 'L', 'N', 'F'],\n",
       " ['S', 'B', 'N', 'F'],\n",
       " ['S', 'B', 'N', 'L', 'E', 'F'],\n",
       " ['S', 'B', 'N', 'L', 'F'],\n",
       " ['S', 'L', 'B', 'F'],\n",
       " ['S', 'L', 'B', 'N', 'F'],\n",
       " ['S', 'L', 'E', 'F'],\n",
       " ['S', 'L', 'F'],\n",
       " ['S', 'L', 'N', 'B', 'F'],\n",
       " ['S', 'L', 'N', 'F'],\n",
       " ['S', 'N', 'B', 'F'],\n",
       " ['S', 'N', 'B', 'L', 'E', 'F'],\n",
       " ['S', 'N', 'B', 'L', 'F'],\n",
       " ['S', 'N', 'F'],\n",
       " ['S', 'N', 'L', 'B', 'F'],\n",
       " ['S', 'N', 'L', 'E', 'F'],\n",
       " ['S', 'N', 'L', 'F']]"
      ]
     },
     "execution_count": 111,
     "metadata": {},
     "output_type": "execute_result"
    }
   ],
   "source": [
    "find_all_paths_by_dfs(graph1, 'S', 'F')"
   ]
  },
  {
   "cell_type": "code",
   "execution_count": 112,
   "metadata": {},
   "outputs": [
    {
     "data": {
      "text/plain": [
       "20"
      ]
     },
     "execution_count": 112,
     "metadata": {},
     "output_type": "execute_result"
    }
   ],
   "source": [
    "len(find_all_paths_by_dfs(graph1, 'S', 'F'))"
   ]
  },
  {
   "cell_type": "markdown",
   "metadata": {},
   "source": [
    "### networkX 패키기를 활용한 모든 경로 찾기"
   ]
  },
  {
   "cell_type": "code",
   "execution_count": 26,
   "metadata": {},
   "outputs": [
    {
     "data": {
      "text/plain": [
       "[['S', 'B', 'F'],\n",
       " ['S', 'B', 'L', 'E', 'F'],\n",
       " ['S', 'B', 'L', 'F'],\n",
       " ['S', 'B', 'L', 'N', 'F'],\n",
       " ['S', 'B', 'N', 'L', 'E', 'F'],\n",
       " ['S', 'B', 'N', 'L', 'F'],\n",
       " ['S', 'B', 'N', 'F'],\n",
       " ['S', 'L', 'B', 'F'],\n",
       " ['S', 'L', 'B', 'N', 'F'],\n",
       " ['S', 'L', 'E', 'F'],\n",
       " ['S', 'L', 'F'],\n",
       " ['S', 'L', 'N', 'B', 'F'],\n",
       " ['S', 'L', 'N', 'F'],\n",
       " ['S', 'N', 'B', 'F'],\n",
       " ['S', 'N', 'B', 'L', 'E', 'F'],\n",
       " ['S', 'N', 'B', 'L', 'F'],\n",
       " ['S', 'N', 'L', 'B', 'F'],\n",
       " ['S', 'N', 'L', 'E', 'F'],\n",
       " ['S', 'N', 'L', 'F'],\n",
       " ['S', 'N', 'F']]"
      ]
     },
     "execution_count": 26,
     "metadata": {},
     "output_type": "execute_result"
    }
   ],
   "source": [
    "list(nx.all_simple_paths(G1, 'S', 'F'))"
   ]
  },
  {
   "cell_type": "markdown",
   "metadata": {},
   "source": [
    "<br/>"
   ]
  },
  {
   "cell_type": "markdown",
   "metadata": {},
   "source": [
    "## 너비우선탐색(Breadth First Search)\n",
    "#### 너비우선탐색 알고리즘은 시작노드에서 시작하여 인접노드를 순서대로 탐색하면서,  이  탐색한 노드를  다음 단계 탐색을 위해 큐에 저장합니다.  현 단계의 탐색이 모두 마쳐지면, 현 단계에서 탐색된 노드들을 큐에서 하나씩 꺼내어 인접 노드들을 탐색해 나가는 것입니다. \n",
    "#### 너비우선탐색에 대한 의사코드(pseudo-code)는 아래와 같습니다."
   ]
  },
  {
   "cell_type": "markdown",
   "metadata": {},
   "source": [
    "~~~python\n",
    "BFS(graph G, start vertex s):\n",
    "    // all nodes initially unexplored\n",
    "    mark s as explored\n",
    "    let Q = queue data structure, initialized with s\n",
    "    while Q is non-empty:\n",
    "        remove the first node of Q, call it v\n",
    "        for each edge(v, w):  // for w in graph[v]\n",
    "            if w unexplored:\n",
    "                mark w as explored\n",
    "                add w to Q (at the end)\n",
    "            ~~~"
   ]
  },
  {
   "cell_type": "markdown",
   "metadata": {},
   "source": [
    "### 다음은 너비우선탐색에 의한 그래프 모든 노드의 탐색(순회) 파이썬 알고리즘 구현입니다. \n"
   ]
  },
  {
   "cell_type": "code",
   "execution_count": 25,
   "metadata": {},
   "outputs": [],
   "source": [
    "def bfs(graph, start): \n",
    "    explored, queue = list(), [start]  #  큐에는 순회될  다음 레벨의 노드들이 순차적으로 저장됨\n",
    "    explored.append(start)\n",
    "    while queue: #탐색할 큐에 노드가 있는 한 계속 수행  \n",
    "        v = queue.pop(0)  # 큐에서  FIFO 순으로 큐의 제일앞에 있는 노드을  뽑음\n",
    "        for w in graph[v]:   #현재 노드 v 의 인접 모드들에 대해 for looping        \n",
    "            if w not in explored:                \n",
    "                explored.append(w) #현 노드가 순회되지 않았으면 현 노드를 순회된 리스트에 등록   \n",
    "                queue.append(w) # 다음 레벨 탐색을 위해  큐에 해당 노드 를 저장함\n",
    "    return explored"
   ]
  },
  {
   "cell_type": "markdown",
   "metadata": {},
   "source": [
    "#### [그림 1]  의 그래프에 대해 너비우선탐색 기반으로 모든 노드를 순회해 봅시다.\n",
    "![Alttext](fig12-3.png)\n",
    "#### 여기서, 주의할 것은 너비우선 탐색에서, 시작 노드로 부터 깊이 1의 1차 레벨 노드들은 시작노드들의 인접노드입니다. 이들 시작 노드의  인접 노드들을 모두 순회한 다음,  다음 2번째 레벨인 노드들을 순회하여야 하는 데, 이들은 시작 노드의 인접노드들의 인접노드들입니다. 일단 순회된 노드들은 순회리스트('explored')에 등록해야 합니다. 한편,  2차레벨 노드들을 순회하기 위해 1차 레벨 노드들이 순회될 때 이를 큐에 저장해 놓아야만, 이로부터 순회할 2차 레벨 노드들을 찾아낼 수있습니다. "
   ]
  },
  {
   "cell_type": "code",
   "execution_count": 26,
   "metadata": {},
   "outputs": [
    {
     "data": {
      "text/plain": [
       "['S', 'B', 'L', 'N', 'F', 'E']"
      ]
     },
     "execution_count": 26,
     "metadata": {},
     "output_type": "execute_result"
    }
   ],
   "source": [
    " bfs(graph1, 'S')"
   ]
  },
  {
   "cell_type": "markdown",
   "metadata": {},
   "source": [
    "#### 너비우선 탐색에서 [그림 3(C)]와 같이 순회하는 지를 살펴보기 위해여 앞의 코드를 다음과 같이 악간 변형하여 봅시다. "
   ]
  },
  {
   "cell_type": "code",
   "execution_count": 27,
   "metadata": {},
   "outputs": [],
   "source": [
    "def bfs_check(graph, start): \n",
    "    traversal2=[start]\n",
    "    explored, queue = list(), [start]  #  큐에는 다음 레벨의 노드들이 순차적으로 저장됨    \n",
    "    explored.append(start)\n",
    "    while queue:\n",
    "        v = queue.pop(0)   # 큐에서  FIFO 순으로 큐의 제일앞에 있는 노드을  뽑음  \n",
    "        print(\"popped node=\", v)\n",
    "        for w in graph[v]: #현재 노드 v 의 인접 모드들에 대해 for looping\n",
    "            traversal2.append(w)          \n",
    "            if w not in explored:                \n",
    "                explored.append(w)#현 노드가 순회되지 않았으면 현 노드를 순회된 리스트에 등록     \n",
    "                queue.append(w) # 다음 레벨 탐색을 위해  큐에 해당 노드 를 저장함\n",
    "                print(\"queue={}, explored={}\".format(queue, explored))\n",
    "            print(\"queue={}, explored={}\".format(queue, explored))     \n",
    "    print(\"\\n\")\n",
    "    print(\"The total traversal nodes=\", traversal2)           \n",
    "    print(\"The Number of the total traversal nodes=\", len(traversal2))           \n",
    "    return explored"
   ]
  },
  {
   "cell_type": "code",
   "execution_count": 28,
   "metadata": {},
   "outputs": [
    {
     "ename": "NameError",
     "evalue": "name 'trasversal' is not defined",
     "output_type": "error",
     "traceback": [
      "\u001b[1;31m---------------------------------------------------------------------------\u001b[0m",
      "\u001b[1;31mNameError\u001b[0m                                 Traceback (most recent call last)",
      "\u001b[1;32m<ipython-input-28-1a9e5a6bbdb5>\u001b[0m in \u001b[0;36m<module>\u001b[1;34m\u001b[0m\n\u001b[1;32m----> 1\u001b[1;33m \u001b[0mtrasversal\u001b[0m\u001b[1;33m.\u001b[0m\u001b[0mappend\u001b[0m\u001b[1;33m(\u001b[0m\u001b[1;34m'S'\u001b[0m\u001b[1;33m)\u001b[0m\u001b[1;33m\u001b[0m\u001b[0m\n\u001b[0m\u001b[0;32m      2\u001b[0m \u001b[0mexplored\u001b[0m\u001b[1;33m=\u001b[0m\u001b[0mbfs_check\u001b[0m\u001b[1;33m(\u001b[0m\u001b[0mgraph1\u001b[0m\u001b[1;33m,\u001b[0m \u001b[1;34m'S'\u001b[0m\u001b[1;33m)\u001b[0m\u001b[1;33m\u001b[0m\u001b[0m\n\u001b[0;32m      3\u001b[0m \u001b[0mprint\u001b[0m\u001b[1;33m(\u001b[0m\u001b[1;34m\"\\n explored nodes=\"\u001b[0m\u001b[1;33m,\u001b[0m \u001b[0mexplored\u001b[0m\u001b[1;33m)\u001b[0m\u001b[1;33m\u001b[0m\u001b[0m\n",
      "\u001b[1;31mNameError\u001b[0m: name 'trasversal' is not defined"
     ]
    }
   ],
   "source": [
    "trasversal.append('S')\n",
    "explored=bfs_check(graph1, 'S')\n",
    "print(\"\\n explored nodes=\", explored)"
   ]
  },
  {
   "cell_type": "markdown",
   "metadata": {},
   "source": [
    "### networkX 패키기를 활용한 너비우선 탐색 "
   ]
  },
  {
   "cell_type": "code",
   "execution_count": 29,
   "metadata": {},
   "outputs": [
    {
     "name": "stdout",
     "output_type": "stream",
     "text": [
      "Nodes of graph: \n",
      "['B', 'E', 'F', 'L', 'N', 'S']\n",
      "Edges of graph: \n",
      "[('B', 'F', {}), ('B', 'L', {}), ('B', 'N', {}), ('B', 'S', {}), ('E', 'F', {}), ('E', 'L', {}), ('F', 'L', {}), ('F', 'N', {}), ('L', 'S', {}), ('L', 'N', {}), ('N', 'S', {})]\n"
     ]
    }
   ],
   "source": [
    "import networkx as nx # networkx 패키지 임포트\n",
    "G1=nx.Graph()\n",
    "Nodes=['B', 'E', 'F', 'L', 'N',  'S' ]\n",
    "G1.add_nodes_from(Nodes)\n",
    "\n",
    "# adding a list of edges:\n",
    "G1.add_edges_from([('B', 'F'), ('B', 'L'), ('B', 'N'), ('B', 'S'),('L', 'S' ), ('E', 'F'), ('E', 'L'), ('F', 'L'), ('L', 'N'), ('N', 'F'), ('N', 'S')])                   \n",
    "print(\"Nodes of graph: \")\n",
    "print(G1.nodes())\n",
    "print(\"Edges of graph: \")\n",
    "print(G1.edges(data=True))"
   ]
  },
  {
   "cell_type": "code",
   "execution_count": 74,
   "metadata": {},
   "outputs": [
    {
     "data": {
      "text/plain": [
       "[('S', 'B'), ('S', 'L'), ('S', 'N'), ('B', 'F'), ('L', 'E')]"
      ]
     },
     "execution_count": 74,
     "metadata": {},
     "output_type": "execute_result"
    }
   ],
   "source": [
    "list(nx.bfs_edges(G1, 'S'))"
   ]
  },
  {
   "cell_type": "markdown",
   "metadata": {},
   "source": [
    "### 너비우선탐색에 의한 경로 찾기\n",
    "#### 본 실습에서는 경로가 사이클은 포함하지 않는 것으로 합니다. 즉, 경로에서 동일한 노드가 두 번 이상 들어가지 않는 것으로 합니다.¶"
   ]
  },
  {
   "cell_type": "markdown",
   "metadata": {},
   "source": [
    "#### [그림 1]  의 그래프에 대해 너비우선탐색 기반으로 경로 한 개를 탐색해 봅시다."
   ]
  },
  {
   "cell_type": "markdown",
   "metadata": {},
   "source": [
    "(방법 1)"
   ]
  },
  {
   "cell_type": "code",
   "execution_count": 83,
   "metadata": {},
   "outputs": [],
   "source": [
    "import copy\n",
    "def find_path_by_bfs(graph, start, end):     \n",
    "    \n",
    "    if not start in graph:\n",
    "            return None\n",
    "        \n",
    "    path = [start]  # 경로 갱신\n",
    "        \n",
    "    if start == end:\n",
    "        return path #시작노드로부터 종단노드까지의 경로를 찾았으면 해당 경로 리턴\n",
    " \n",
    "    path_queue=[path] # 경로 큐\n",
    " \n",
    "    while True:\n",
    "        path=path_queue.pop(0) #경로 큐에서       \n",
    "        v=path[-1]  # 경로의 마지막 노드 추출\n",
    "        for w in graph[v]:  #경로의 마지막 노드 의 인접노드 들을 조사     \n",
    "            if w not in path: #인접노드가  경로에 없으면\n",
    "                path.append(w) #인접노드를 경로에 추가하여 경로 갱신\n",
    "                if w==end: return path  # 만일 갱신된 경로가 시작노드로부터 종단노드까지의 경로이면, 해당 갱신 경로를 복귀 \n",
    "                else: \n",
    "                    new_path= copy.deepcopy(path) #갱신된 경로를 탐색된 경로로 등록하고\n",
    "                    path_queue.append(new_path)  #이를 경로 큐에 추가                                           \n",
    "                    path.pop() #경로에 새롭게 추가된 인접 노드 제거\n",
    "    return path"
   ]
  },
  {
   "cell_type": "code",
   "execution_count": 84,
   "metadata": {},
   "outputs": [
    {
     "data": {
      "text/plain": [
       "['S', 'B', 'F']"
      ]
     },
     "execution_count": 84,
     "metadata": {},
     "output_type": "execute_result"
    }
   ],
   "source": [
    "find_path_by_bfs(graph1, 'S', 'F')"
   ]
  },
  {
   "cell_type": "markdown",
   "metadata": {},
   "source": [
    "#### [그림 1]  의 그래프에 대해 너비우선탐색 기반으로  시작노드로부터 종단노드까지의 경로 하나를 찾아봅시다.\n",
    "![Alttext](fig12-3_1.png)"
   ]
  },
  {
   "cell_type": "code",
   "execution_count": 103,
   "metadata": {},
   "outputs": [],
   "source": [
    "import copy\n",
    "def find_path_by_bfs_check(graph, start, end):     \n",
    "    \n",
    "    if not start in graph:\n",
    "            return None\n",
    "        \n",
    "    path = [start]  # 경로 갱신\n",
    "        \n",
    "    if start == end:\n",
    "        return path #시작노드로부터 종단노드까지의 경로를 찾았으면 해당 경로 리턴\n",
    " \n",
    "    path_queue=[path] # 경로 큐\n",
    "    print(\"path=\", path)\n",
    "    traversal=['S']\n",
    "    while True:        \n",
    "        path=path_queue.pop(0) #경로 큐에서       \n",
    "        v=path[-1]  # 경로의 마지막 노드 추출\n",
    "        for w in graph[v]:  #경로의 마지막 노드 의 인접노드 들을 조사  \n",
    "            traversal.append(w)\n",
    "            if w not in path: #인접노드가  경로에 없으면\n",
    "                path.append(w) #인접노드를 경로에 추가하여 경로 갱신                \n",
    "                if w==end: \n",
    "                    print(\"path={}, path_queue={}\".format(path, path_queue))\n",
    "                    print(\"Travesal nodes=\", traversal)\n",
    "                    return path  # 만일 갱신된 경로가 시작노드로부터 종단노드까지의 경로이면, 해당 갱신 경로를 복귀 \n",
    "                else: \n",
    "                    new_path= copy.deepcopy(path) #갱신된 경로를 탐색된 경로로 등록하고\n",
    "                    path_queue.append(new_path)  #이를 경로 큐에 추가 \n",
    "                    print(\"new_path={}, path_queue={}\".format(new_path,path_queue))\n",
    "                    path.pop() #경로에 새롭게 추가된 인접 노드 제거\n",
    "    print(\"Travesal nodes=\", traversal)\n",
    "    return path"
   ]
  },
  {
   "cell_type": "code",
   "execution_count": 104,
   "metadata": {},
   "outputs": [
    {
     "name": "stdout",
     "output_type": "stream",
     "text": [
      "path= ['S']\n",
      "new_path=['S', 'B'], path_queue=[['S', 'B']]\n",
      "new_path=['S', 'L'], path_queue=[['S', 'B'], ['S', 'L']]\n",
      "new_path=['S', 'N'], path_queue=[['S', 'B'], ['S', 'L'], ['S', 'N']]\n",
      "path=['S', 'B', 'F'], path_queue=[['S', 'L'], ['S', 'N']]\n",
      "Travesal nodes= ['S', 'B', 'L', 'N', 'F']\n"
     ]
    },
    {
     "data": {
      "text/plain": [
       "['S', 'B', 'F']"
      ]
     },
     "execution_count": 104,
     "metadata": {},
     "output_type": "execute_result"
    }
   ],
   "source": [
    "find_path_by_bfs_check(graph1, 'S', 'F')"
   ]
  },
  {
   "cell_type": "markdown",
   "metadata": {},
   "source": [
    "(방법 2)"
   ]
  },
  {
   "cell_type": "code",
   "execution_count": 105,
   "metadata": {},
   "outputs": [],
   "source": [
    "def find_path_by_bfs2(graph, start, end):     \n",
    "    path_queue = [[start]]\n",
    "    paths = list()\n",
    "    if not start in graph:\n",
    "            return None\n",
    "    if start == end:\n",
    "        return path_queue\n",
    "\n",
    "    while path_queue: #탐색할 path-queue에 path가 있는 한 계속 수행  \n",
    "#        print(\"path_queue=\", path_queue)\n",
    "        v=path_queue.pop(0)\n",
    "        \n",
    "        for w in graph[v[-1]]:\n",
    "            if end == w :\n",
    "                    paths.append(v+[w])\n",
    "#                    print(\"paths=\", paths)\n",
    "                    continue\n",
    "            if w not in v: \n",
    "                path_queue.append(v+[w])\n",
    "    return paths[0] if paths else None"
   ]
  },
  {
   "cell_type": "code",
   "execution_count": 106,
   "metadata": {},
   "outputs": [
    {
     "data": {
      "text/plain": [
       "['S', 'B', 'F']"
      ]
     },
     "execution_count": 106,
     "metadata": {},
     "output_type": "execute_result"
    }
   ],
   "source": [
    "find_path_by_bfs2(graph1, 'S', 'F')"
   ]
  },
  {
   "cell_type": "markdown",
   "metadata": {},
   "source": [
    "### 너비우선탐색으로 모든 경로 찾기 "
   ]
  },
  {
   "cell_type": "markdown",
   "metadata": {},
   "source": [
    "#### [그림 1]  의 그래프에 대해 너비우선탐색 기반으로 모든 경로를 탐색해 봅시다."
   ]
  },
  {
   "cell_type": "markdown",
   "metadata": {},
   "source": [
    "(방법 1)"
   ]
  },
  {
   "cell_type": "code",
   "execution_count": 113,
   "metadata": {},
   "outputs": [],
   "source": [
    "import copy\n",
    "def find_all_paths_by_bfs(graph, start, end, path=[]):     \n",
    "    \n",
    "    if not start in graph:\n",
    "            return None\n",
    "        \n",
    "    path = path + [start]\n",
    "        \n",
    "    if start == end:\n",
    "        return path\n",
    "    \n",
    "    node_queue=[start]\n",
    "    path_queue=[path]\n",
    "    all_paths=[]\n",
    "\n",
    "    while True:        \n",
    "        if path_queue: path=path_queue.pop(0)\n",
    "        else: return all_paths    \n",
    "        new_path=path        \n",
    "        v=path[-1]       \n",
    "        for w in graph[v]:        \n",
    "            if w not in path: \n",
    "                path.append(w)            \n",
    "                new_path= copy.deepcopy(path)\n",
    "                if w==end: all_paths.append(new_path)\n",
    "                else:                    \n",
    "                    path_queue.append(new_path)                                             \n",
    "                if path: path.pop()\n",
    "    return all_paths"
   ]
  },
  {
   "cell_type": "code",
   "execution_count": 114,
   "metadata": {
    "scrolled": true
   },
   "outputs": [
    {
     "data": {
      "text/plain": [
       "[['S', 'B', 'F'],\n",
       " ['S', 'L', 'F'],\n",
       " ['S', 'N', 'F'],\n",
       " ['S', 'B', 'L', 'F'],\n",
       " ['S', 'B', 'N', 'F'],\n",
       " ['S', 'L', 'B', 'F'],\n",
       " ['S', 'L', 'E', 'F'],\n",
       " ['S', 'L', 'N', 'F'],\n",
       " ['S', 'N', 'B', 'F'],\n",
       " ['S', 'N', 'L', 'F'],\n",
       " ['S', 'B', 'L', 'E', 'F'],\n",
       " ['S', 'B', 'L', 'N', 'F'],\n",
       " ['S', 'B', 'N', 'L', 'F'],\n",
       " ['S', 'L', 'B', 'N', 'F'],\n",
       " ['S', 'L', 'N', 'B', 'F'],\n",
       " ['S', 'N', 'B', 'L', 'F'],\n",
       " ['S', 'N', 'L', 'B', 'F'],\n",
       " ['S', 'N', 'L', 'E', 'F'],\n",
       " ['S', 'B', 'N', 'L', 'E', 'F'],\n",
       " ['S', 'N', 'B', 'L', 'E', 'F']]"
      ]
     },
     "execution_count": 114,
     "metadata": {},
     "output_type": "execute_result"
    }
   ],
   "source": [
    "find_all_paths_by_bfs(graph1, 'S', 'F')"
   ]
  },
  {
   "cell_type": "code",
   "execution_count": 115,
   "metadata": {},
   "outputs": [
    {
     "data": {
      "text/plain": [
       "20"
      ]
     },
     "execution_count": 115,
     "metadata": {},
     "output_type": "execute_result"
    }
   ],
   "source": [
    "len(find_all_paths_by_bfs(graph1, 'S', 'F'))"
   ]
  },
  {
   "cell_type": "markdown",
   "metadata": {},
   "source": [
    "(방법 2)"
   ]
  },
  {
   "cell_type": "code",
   "execution_count": 118,
   "metadata": {},
   "outputs": [],
   "source": [
    "def find_all_paths_by_bfs2(graph, start, end):     \n",
    "    path_queue = [[start]]\n",
    "    paths = list()\n",
    "    if not start in graph:\n",
    "            return None\n",
    "    if start == end:\n",
    "        return path_queue\n",
    "\n",
    "    while path_queue:\n",
    "        v=path_queue.pop(0)\n",
    "        for w in graph[v[-1]]:\n",
    "            if end == w :\n",
    "                    paths.append(v+[w])\n",
    "                    continue\n",
    "            if w not in v: \n",
    "                path_queue.append(v+[w])\n",
    "    return paths if paths else None"
   ]
  },
  {
   "cell_type": "code",
   "execution_count": 119,
   "metadata": {
    "scrolled": false
   },
   "outputs": [
    {
     "data": {
      "text/plain": [
       "[['S', 'B', 'F'],\n",
       " ['S', 'L', 'F'],\n",
       " ['S', 'N', 'F'],\n",
       " ['S', 'B', 'L', 'F'],\n",
       " ['S', 'B', 'N', 'F'],\n",
       " ['S', 'L', 'B', 'F'],\n",
       " ['S', 'L', 'E', 'F'],\n",
       " ['S', 'L', 'N', 'F'],\n",
       " ['S', 'N', 'B', 'F'],\n",
       " ['S', 'N', 'L', 'F'],\n",
       " ['S', 'B', 'L', 'E', 'F'],\n",
       " ['S', 'B', 'L', 'N', 'F'],\n",
       " ['S', 'B', 'N', 'L', 'F'],\n",
       " ['S', 'L', 'B', 'N', 'F'],\n",
       " ['S', 'L', 'N', 'B', 'F'],\n",
       " ['S', 'N', 'B', 'L', 'F'],\n",
       " ['S', 'N', 'L', 'B', 'F'],\n",
       " ['S', 'N', 'L', 'E', 'F'],\n",
       " ['S', 'B', 'N', 'L', 'E', 'F'],\n",
       " ['S', 'N', 'B', 'L', 'E', 'F']]"
      ]
     },
     "execution_count": 119,
     "metadata": {},
     "output_type": "execute_result"
    }
   ],
   "source": [
    "find_all_paths_by_bfs2(graph1, 'S', 'F')"
   ]
  },
  {
   "cell_type": "code",
   "execution_count": 120,
   "metadata": {},
   "outputs": [
    {
     "data": {
      "text/plain": [
       "20"
      ]
     },
     "execution_count": 120,
     "metadata": {},
     "output_type": "execute_result"
    }
   ],
   "source": [
    "len(find_all_paths_by_bfs2(graph1, 'S', 'F'))"
   ]
  },
  {
   "cell_type": "markdown",
   "metadata": {},
   "source": [
    "## 2. Dijkstra's Algorithm for Shortest-distance   \n",
    "####  11주 실습에서는 그래프의 시작노드와 종단노드간의 최단 거리를 구한 알고리즘을 살펴 보았습니다.  \n",
    "#### 다익스트라 알고리즘은 시작노드로부터 그래프의 모든 노드까지의 최단 거리들을 구합니다."
   ]
  },
  {
   "cell_type": "markdown",
   "metadata": {},
   "source": [
    "#### Dijkstra’s algorithm 은 시작노드에서 그래프의 모든 노드까지의 최단경로 거리를 계산하는 알고리즘입니다. \n",
    "#### Dijkstra’s algorithm 의 기본 가정 \n",
    "  * 무향 연결 단순 그래프 (undirected connected simple graph)\n",
    "  * 모든 에지의 가중치(weight)는 positive value  \n",
    "\n",
    "#### 알고리즘은 시작 노드 (a 라 가정)를 시작으로 반복 단계마다 새로운 노드를 추가하면서 증가하는 노드세트( $S_k $)를 구성해가면서  수행되어 갑니다. 이 노드세트는 최종적으로는 그래프의 모든 노드를 포함하게 됩니다. \n",
    "#### 노드세트 $S_k (S_0 = ∅)$ 은 $S_{k−1}$  에 없는 노드 $u$ 를 추가함으로써 업데이트합니다. 알고리즘 반복의 각 단계 ($k$) 때에, 노드세트는 $S_{k-1} $ ) 에 없는 각 노드  $v$ 들에 대해, 시작노드로부터 해당 노드 $v$ 까지의 최단경로 길이를 나타내는 레이블 $L_k (v)$  를 다음과 같이  계산합니다. (초기값 $L_0 (a) = 0,  L_0 (v)=∞ $).  이때,  시작노드 $a$ 로부터 노드 $v$  까지의 경로를 구성하는 노드들은 모두 노드세트 $S_k $ 에 속한 노드들이어야 합니다. \n",
    "### &nbsp;      &nbsp; &nbsp;     $L_k (v)= min \\{L_{k-1} (v), ~ L_k (u) +w(u,v) \\} $  (여기서, 노드 $u$  는 $S_k−1$    에  속한 노드들 중,  노드 $v$ 의 인접 노드이며, $w(u,v)$ 는 노드 $u$ 에서 노드 $v$ 까지의 에지의 가중치임. )\n",
    "\n",
    "####  다음,  상기 계산된 $L_k (v)$ 들중 가장 작은 값을 갖는 노드 $v$ 를 노드세트 $S_{k-1}$ 추가하여,  $S_k $ 로 업데이트트하고, 다시 상기 과정을 $S_k $ 가 그래프의 모든 노드들을 포함할 때까지 계속합니다. \n",
    "\n",
    "![Alttext](dijstra.png)"
   ]
  },
  {
   "cell_type": "markdown",
   "metadata": {},
   "source": [
    "![Alttext](dijstra-ex.png)"
   ]
  },
  {
   "cell_type": "markdown",
   "metadata": {},
   "source": [
    "####  다음 [그림 4] 그래프에 대해 다익스트라 알고리즘을 적용해보자.\n",
    "![Alttext](fig12-4.png)"
   ]
  },
  {
   "cell_type": "code",
   "execution_count": 9,
   "metadata": {},
   "outputs": [],
   "source": [
    "graph4 = {\n",
    "          'B': {'B': 0, 'E': float(\"inf\"), 'F': 245, 'L': 115, 'N': 145, 'S': 175},          \n",
    "          'E': {'B': float(\"inf\"), 'E': 0, 'F': 450, 'L': 645, 'N': float(\"inf\"), 'S': float(\"inf\")},\n",
    "          'F': {'B': 245, 'E': 450, 'F': 0, 'L': float(\"inf\"), 'N': 305, 'S': float(\"inf\")},\n",
    "          'L': {'B': 115, 'E': 645, 'F': 220, 'L': 0, 'N': 260, 'S': 125},\n",
    "          'N': {'B': 145, 'E': float(\"inf\"), 'F': 385, 'L': 260, 'N': 0, 'S': 320},\n",
    "          'S': {'B': 175, 'E': float(\"inf\"), 'F': float(\"inf\"), 'L': 125, 'N': 320, 'S':0}}"
   ]
  },
  {
   "cell_type": "code",
   "execution_count": 10,
   "metadata": {},
   "outputs": [
    {
     "data": {
      "text/plain": [
       "{'B': 175, 'E': inf, 'F': inf, 'L': 125, 'N': 320, 'S': 0}"
      ]
     },
     "execution_count": 10,
     "metadata": {},
     "output_type": "execute_result"
    }
   ],
   "source": [
    "graph4['S']"
   ]
  },
  {
   "cell_type": "code",
   "execution_count": 13,
   "metadata": {},
   "outputs": [
    {
     "name": "stdout",
     "output_type": "stream",
     "text": [
      "B\n",
      "E\n",
      "F\n",
      "L\n",
      "N\n",
      "S\n"
     ]
    }
   ],
   "source": [
    "for w in graph4['S']:\n",
    "    print(w)"
   ]
  },
  {
   "cell_type": "code",
   "execution_count": 12,
   "metadata": {},
   "outputs": [
    {
     "data": {
      "text/plain": [
       "175"
      ]
     },
     "execution_count": 12,
     "metadata": {},
     "output_type": "execute_result"
    }
   ],
   "source": [
    "graph4['S']['B']"
   ]
  },
  {
   "cell_type": "code",
   "execution_count": 30,
   "metadata": {},
   "outputs": [],
   "source": [
    "def Dijkstra(graph, src) : # graph 는 노드가 거리 정보를 갖는 그래프의 인접행렬의 한 표현, src 는 시작 노드\n",
    "    if src not in graph :\n",
    "        return print(\"source node is not in the given graph\")\n",
    "   \n",
    "    # Initialize : paths == {해당노드 이름 : [시작 노드와의 해당노드와의 최단거리, 시작 노드와의 해당노드간의 최단 경로], ...}.  \n",
    "         # 경로는 노드 리스트로 표현됨\n",
    "    paths = {node:[float('inf'), None] for node in graph}     \n",
    "    # paths는  dictionary 타입으로 각 요소는 key 인 해당 그래프 노드와 value 인 [소스 노드와 해당 그래프 노드까지의 최단거리,  소스노드로부터의 해당 그래프 노드까지의 최단 경로] 을 나타냄., \n",
    "    # 먼저, 소스노드로부터 모든 노드까지의 거리를 $ float('inf') $ 로, 소스노드로부터의 도달 최소 경로는 'None' 로 초기화함.\n",
    "    # 즉, paths= {'B': [inf, None], 'E': [inf, None], 'F': [inf, None], 'L': [inf, None], 'N': [inf, None], 'S': [inf, None]} 로 초기화함. \n",
    "    \n",
    "    path_queue = [[src]]  #path_queue 는 경로들의 큐이며 , 시작노드 하나로만 된 경로인 [src] (['S'])로 초기화. 경로는 노드 리스트로 표현됨 \n",
    "    \n",
    "    # Start Dijkstra algorithm\n",
    "    paths[src] = [0, [src]]  # paths[src] ; [시작노드에서 노드 'src' 까지의 최단거리, 시작노드에서 노드 'src' 까지의 최단경로]\n",
    "    while path_queue: #path_queue 가 비워있지않는 한 'while' 루프 수행\n",
    "        v=path_queue.pop(0) # v 는 경로로 노드 리스트로 표현됨\n",
    "        for w in graph[v[-1]]: # w; 큐에서 뽑은 경로의 마지막 노드의 인접 노드 \n",
    "            #print(\"w=\", w)\n",
    "            d = paths[v[-1]][0]+graph[v[-1]][w] # paths[v[-1]][0]; 경로의 마지막 노드까지의 거리,  + graph[v[-1]][w] ; 경로의 마지막 노드\n",
    "                                                #와  그 인접 노드와의 거리\n",
    "            if paths[w][0] > d :  #\n",
    "                paths[w] = [d, v+[w]]  #인접노드 w 의 소스노드와의 최단 거리 (d) , 소스노드와의 최단 경로 (v+[w])\n",
    "              #  print(\"paths=\", paths)\n",
    "                path_queue.append(paths[w][1]) # 업데이트된 경로를 path_queue에 추기\n",
    "              #  print(\"path_queue=\", path_queue)\n",
    "    return paths if paths else None"
   ]
  },
  {
   "cell_type": "code",
   "execution_count": 15,
   "metadata": {},
   "outputs": [
    {
     "data": {
      "text/plain": [
       "{'B': [175, ['S', 'B']],\n",
       " 'E': [770, ['S', 'L', 'E']],\n",
       " 'F': [345, ['S', 'L', 'F']],\n",
       " 'L': [125, ['S', 'L']],\n",
       " 'N': [320, ['S', 'N']],\n",
       " 'S': [0, ['S']]}"
      ]
     },
     "execution_count": 15,
     "metadata": {},
     "output_type": "execute_result"
    }
   ],
   "source": [
    "Dijkstra(graph4, 'S')"
   ]
  },
  {
   "cell_type": "markdown",
   "metadata": {},
   "source": [
    "![Alttext](fig12-4.png)"
   ]
  },
  {
   "cell_type": "markdown",
   "metadata": {},
   "source": [
    "#### 상기 Dijstra Algorithm 을 더 잘 이해하기 위해,  어떤 경로를 탐색해나가는 지를 살펴봅시다. "
   ]
  },
  {
   "cell_type": "code",
   "execution_count": 16,
   "metadata": {},
   "outputs": [],
   "source": [
    "def Dijkstra_check(graph, src) : # graph 는 노드가 거리 정보를 갖는 그래프의 인접행렬의 한 표현, src 는 시작 노드\n",
    "    if src not in graph :\n",
    "        return print(\"source node is not in the given graph\")\n",
    "   \n",
    "    # Initialize : paths == {해당노드 이름 : [시작 노드와의 해당노드와의 최단거리, 시작 노드와의 해당노드간의 최단 경로], ...}.  \n",
    "         # 경로는 노드 리스트로 표현됨\n",
    "    paths = {node:[float('inf'), None] for node in graph}     \n",
    "    # paths는  dictionary 타입으로 각 요소는 key 인 해당 그래프 노드와 value 인 [소스 노드와 해당 그래프 노드까지의 최단거리,  소스노드로부터의 해당 그래프 노드까지의 최단 경로] 을 나타냄., \n",
    "    # 먼저, 소스노드로부터 모든 노드까지의 거리를 $ float('inf') $ 로, 소스노드로부터의 도달 최소 경로는 'None' 로 초기화함.\n",
    "    # 즉, paths= {'B': [inf, None], 'E': [inf, None], 'F': [inf, None], 'L': [inf, None], 'N': [inf, None], 'S': [inf, None]} 로 초기화함. \n",
    "    \n",
    "    path_queue = [[src]]  #path_queue 는 경로들의 큐이며 , 시작노드 하나로만 된 경로인 [src] 로 초기화. 경로는 노드 리스트로 표현됨 \n",
    "    \n",
    "    # Start Dijkstra algorithm\n",
    "    paths[src] = [0, [src]]  # paths[src] ; [시작노드에서 노드 'src' 까지의 최단거리, 시작노드에서 노드 'src' 까지의 최단경로]\n",
    "    while path_queue: #path_queue 가 비워있지않는 한 'while' 루프 수행\n",
    "        v=path_queue.pop(0) # v 는 경로로 노드 리스트로 표현됨\n",
    "        print(\"Explored paths=\", v)\n",
    "        for w in graph[v[-1]]: # w; 큐에서 뽑은 경로의 마지막 노드의 인접 노드 \n",
    "            #print(\"w=\", w)\n",
    "            d = paths[v[-1]][0]+graph[v[-1]][w] # paths[v[-1]][0]; 경로의 마지막 노드까지의 거리,  + graph[v[-1]][w] ; 경로의 마지막 노드\n",
    "                                                #와  그 인접 노드와의 거리\n",
    "            if paths[w][0] > d :  #\n",
    "                paths[w] = [d, v+[w]]  #인접노드 w 의 소스노드와의 최단 거리 (d) , 소스노드와의 최단 경로 (v+[w])\n",
    "              #  print(\"paths=\", paths)\n",
    "                path_queue.append(paths[w][1]) # 업데이트된 경로를 path_queue에 추기\n",
    "              #  print(\"path_queue=\", path_queue)\n",
    "    return paths if paths else None"
   ]
  },
  {
   "cell_type": "code",
   "execution_count": 17,
   "metadata": {},
   "outputs": [
    {
     "name": "stdout",
     "output_type": "stream",
     "text": [
      "Explored paths= ['S']\n",
      "Explored paths= ['S', 'B']\n",
      "Explored paths= ['S', 'L']\n",
      "Explored paths= ['S', 'N']\n",
      "Explored paths= ['S', 'B', 'F']\n",
      "Explored paths= ['S', 'L', 'E']\n",
      "Explored paths= ['S', 'L', 'F']\n"
     ]
    },
    {
     "data": {
      "text/plain": [
       "{'B': [175, ['S', 'B']],\n",
       " 'E': [770, ['S', 'L', 'E']],\n",
       " 'F': [345, ['S', 'L', 'F']],\n",
       " 'L': [125, ['S', 'L']],\n",
       " 'N': [320, ['S', 'N']],\n",
       " 'S': [0, ['S']]}"
      ]
     },
     "execution_count": 17,
     "metadata": {},
     "output_type": "execute_result"
    }
   ],
   "source": [
    "Dijkstra_check(graph4, 'S')"
   ]
  },
  {
   "cell_type": "markdown",
   "metadata": {},
   "source": [
    "### 다음 [그림 5] 의 경우에, 시작노드 'A'에서  다른 노드들까지의 최단 거리를 구해 봅시다.\n",
    "![Altext](fig12-5.png)"
   ]
  },
  {
   "cell_type": "code",
   "execution_count": 124,
   "metadata": {},
   "outputs": [],
   "source": [
    "graph5 = {'A': {'A': 0, 'B': 8, 'C': 2, 'D': 4,'E': float(\"inf\"), 'F':float(\"inf\")},\n",
    "          'B': {'A': 8, 'B': 0, 'C': 7, 'D': float(\"inf\"),'E': 2, 'F': float(\"inf\")},\n",
    "          'C': {'A': 2, 'B': 7, 'C': 0, 'D': 1,'E': 3, 'F':9 },\n",
    "          'D': {'A': 4, 'B':float(\"inf\"), 'C': 1, 'D': 0,'E': float(\"inf\"), 'F': 5},\n",
    "          'E': {'A': float(\"inf\"), 'B': 2, 'C': 3, 'D': float(\"inf\"),'E': 0, 'F': float(\"inf\")},\n",
    "          'F': {'A': float(\"inf\"), 'B':float(\"inf\"), 'C': 9, 'D': 5,'E': float(\"inf\"), 'F':0},\n",
    "         }            "
   ]
  },
  {
   "cell_type": "markdown",
   "metadata": {},
   "source": [
    "![Alttext](dijstra-ex2.png)"
   ]
  },
  {
   "cell_type": "code",
   "execution_count": 125,
   "metadata": {},
   "outputs": [],
   "source": [
    "def Dijkstra(graph, src) :\n",
    "    if src not in graph :\n",
    "        return print(\"source node is not in the given graph\")\n",
    "    # Initialize : path == {노드 이름 : [시작 노드와의 거리, 시작 노드와의 최단 경로], ...}\n",
    "    paths = {node:[float('inf'), None] for node in graph}\n",
    "    path_queue = [[src]]\n",
    "    \n",
    "    # Start Dijkstra\n",
    "    paths[src] = [0, [src]]\n",
    "    while path_queue:\n",
    "        v=path_queue.pop(0)\n",
    "        for w in graph[v[-1]]:\n",
    "            d = paths[v[-1]][0]+graph[v[-1]][w]\n",
    "            if paths[w][0] > d :      \n",
    "                if (w=='B'): print(\"W==B\", v)\n",
    "                if w in v: continue        \n",
    "                paths[w] = [d, v+[w]]\n",
    "             #   print(\"paths=\", paths)\n",
    "                path_queue.append(paths[w][1])\n",
    "             #   print(\"path_queue=\", path_queue)\n",
    "    return paths if paths else None"
   ]
  },
  {
   "cell_type": "code",
   "execution_count": 126,
   "metadata": {},
   "outputs": [
    {
     "name": "stdout",
     "output_type": "stream",
     "text": [
      "W==B ['A']\n",
      "W==B ['A', 'B', 'E']\n",
      "W==B ['A', 'C', 'E']\n"
     ]
    },
    {
     "data": {
      "text/plain": [
       "{'A': [0, ['A']],\n",
       " 'B': [7, ['A', 'C', 'E', 'B']],\n",
       " 'C': [2, ['A', 'C']],\n",
       " 'D': [3, ['A', 'C', 'D']],\n",
       " 'E': [5, ['A', 'C', 'E']],\n",
       " 'F': [8, ['A', 'D', 'F']]}"
      ]
     },
     "execution_count": 126,
     "metadata": {},
     "output_type": "execute_result"
    }
   ],
   "source": [
    "Dijkstra(graph5, 'A')"
   ]
  },
  {
   "cell_type": "code",
   "execution_count": 127,
   "metadata": {},
   "outputs": [
    {
     "name": "stdout",
     "output_type": "stream",
     "text": [
      "W==B ['E']\n"
     ]
    },
    {
     "data": {
      "text/plain": [
       "{'A': [5, ['E', 'C', 'A']],\n",
       " 'B': [2, ['E', 'B']],\n",
       " 'C': [3, ['E', 'C']],\n",
       " 'D': [4, ['E', 'C', 'D']],\n",
       " 'E': [0, ['E']],\n",
       " 'F': [9, ['E', 'C', 'D', 'F']]}"
      ]
     },
     "execution_count": 127,
     "metadata": {},
     "output_type": "execute_result"
    }
   ],
   "source": [
    "Dijkstra(graph5, 'E')"
   ]
  },
  {
   "cell_type": "markdown",
   "metadata": {},
   "source": [
    "#### 그래프 adjacency matrix 표현이 순서가 다르더라도 다익스트라 알고리즘은 잘 적용됨을 살펴 봅시다.  "
   ]
  },
  {
   "cell_type": "code",
   "execution_count": 128,
   "metadata": {},
   "outputs": [],
   "source": [
    "graph5_1 = {'A': {'A': 0, 'B': 8, 'C': 2, 'D': 4,'E': float(\"inf\"), 'F':float(\"inf\")},       \n",
    "          'C': {'A': 2, 'B': 7, 'C': 0, 'D': 1,'E': 3, 'F':9 },\n",
    "          'D': {'A': 4, 'B':float(\"inf\"), 'C': 1, 'D': 0,'E': float(\"inf\"), 'F': 5},\n",
    "          'E': {'A': float(\"inf\"), 'B': 2, 'C': 3, 'D': float(\"inf\"),'E': 0, 'F': float(\"inf\")},\n",
    "          'B': {'A': 8, 'B': 0, 'C': 7, 'D': float(\"inf\"),'E': 2, 'F': float(\"inf\")},\n",
    "          'F': {'A': float(\"inf\"), 'B':float(\"inf\"), 'C': 9, 'D': 5,'E': float(\"inf\"), 'F':0},\n",
    "         }            "
   ]
  },
  {
   "cell_type": "code",
   "execution_count": 46,
   "metadata": {},
   "outputs": [
    {
     "name": "stdout",
     "output_type": "stream",
     "text": [
      "W==B ['E']\n"
     ]
    },
    {
     "data": {
      "text/plain": [
       "{'A': [5, ['E', 'C', 'A']],\n",
       " 'C': [3, ['E', 'C']],\n",
       " 'D': [4, ['E', 'C', 'D']],\n",
       " 'E': [0, ['E']],\n",
       " 'B': [2, ['E', 'B']],\n",
       " 'F': [9, ['E', 'C', 'D', 'F']]}"
      ]
     },
     "execution_count": 46,
     "metadata": {},
     "output_type": "execute_result"
    }
   ],
   "source": [
    "Dijkstra(graph5_1, 'E')"
   ]
  },
  {
   "cell_type": "markdown",
   "metadata": {},
   "source": [
    "### NetworkX 패키지 활용 '다익스트라' 알고리즘\n",
    "#### [그림 4]의 경우에 대해서 NetworkX 패키지 활용 '다익스트라' 알고리즘 활용을 살펴보기로 합니다. "
   ]
  },
  {
   "cell_type": "code",
   "execution_count": 50,
   "metadata": {},
   "outputs": [
    {
     "name": "stdout",
     "output_type": "stream",
     "text": [
      "Nodes of graph: \n",
      "['B', 'E', 'F', 'L', 'N', 'S']\n",
      "Edges of graph: \n",
      "[('B', 'F', {'weight': 245}), ('B', 'L', {'weight': 115}), ('B', 'N', {'weight': 145}), ('B', 'S', {'weight': 175}), ('E', 'F', {'weight': 450}), ('E', 'L', {'weight': 645}), ('F', 'L', {'weight': 220}), ('F', 'N', {'weight': 385}), ('L', 'N', {'weight': 260}), ('L', 'S', {'weight': 125}), ('N', 'S', {'weight': 320})]\n"
     ]
    }
   ],
   "source": [
    "import networkx as nx # networkx 패키지 임포트\n",
    "G4=nx.Graph()\n",
    "Nodes=[ 'B', 'E', 'F', 'L', 'N',  'S']\n",
    "G4.add_nodes_from(Nodes)\n",
    "\n",
    "# adding a list of edges:\n",
    "G4.add_weighted_edges_from([('B', 'F', 245), ('B', 'L', 115), ('B', 'N', 145), ('B', 'S', 175 ), ('E', 'F', 450), ('E', 'L', 645), ('F', 'L', 220), ('F', 'N', 385), ('L', 'N', 260), ('L', 'S', 125),  ('N', 'S', 320) ])\n",
    "print(\"Nodes of graph: \")\n",
    "print(G4.nodes())\n",
    "print(\"Edges of graph: \")\n",
    "print(G4.edges(data=True))"
   ]
  },
  {
   "cell_type": "code",
   "execution_count": 51,
   "metadata": {},
   "outputs": [
    {
     "data": {
      "text/plain": [
       "{'S': ['S'],\n",
       " 'B': ['S', 'B'],\n",
       " 'L': ['S', 'L'],\n",
       " 'N': ['S', 'N'],\n",
       " 'E': ['S', 'L', 'E'],\n",
       " 'F': ['S', 'L', 'F']}"
      ]
     },
     "execution_count": 51,
     "metadata": {},
     "output_type": "execute_result"
    }
   ],
   "source": [
    "nx.single_source_dijkstra_path(G4, 'S', weight='weight')"
   ]
  },
  {
   "cell_type": "code",
   "execution_count": 52,
   "metadata": {},
   "outputs": [
    {
     "data": {
      "text/plain": [
       "{'S': 0, 'L': 125, 'B': 175, 'N': 320, 'F': 345, 'E': 770}"
      ]
     },
     "execution_count": 52,
     "metadata": {},
     "output_type": "execute_result"
    }
   ],
   "source": [
    "nx.single_source_dijkstra_path_length(G4, 'S', weight='weight')"
   ]
  },
  {
   "cell_type": "markdown",
   "metadata": {},
   "source": [
    "## 3. 그래프 컬러링 \n",
    "#### 아래 [그림 6] 처럼  [그림 1]과 같은 그래프에서 각 노드 색을 인접한 노드들과 다른 색깔로 칠하는 그래프 컬러링 알고리즘에 대해 살펴 본다. \n",
    "![Alttext](fig12-6.png)"
   ]
  },
  {
   "cell_type": "code",
   "execution_count": 53,
   "metadata": {},
   "outputs": [
    {
     "data": {
      "text/plain": [
       "{'B': ['F', 'L', 'N', 'S'],\n",
       " 'E': ['F', 'L'],\n",
       " 'F': ['B', 'E', 'L', 'N'],\n",
       " 'L': ['B', 'E', 'F', 'N', 'S'],\n",
       " 'N': ['B', 'F', 'L', 'S'],\n",
       " 'S': ['B', 'L', 'N']}"
      ]
     },
     "execution_count": 53,
     "metadata": {},
     "output_type": "execute_result"
    }
   ],
   "source": [
    "graph1 = {\n",
    "       'B': ['F', 'L', 'N', 'S'],\n",
    "       'E': ['F', 'L'],\n",
    "       'F': ['B', 'E', 'L', 'N'],  \n",
    "       'L': ['B', 'E', 'F', 'N', 'S'],\n",
    "       'N': ['B', 'F', 'L', 'S'],\n",
    "       'S': ['B', 'L', 'N'],}\n",
    "graph1"
   ]
  },
  {
   "cell_type": "code",
   "execution_count": 54,
   "metadata": {},
   "outputs": [],
   "source": [
    "# 주어진 색상(color)이 채색된 노드의 인접 노드에 칠할 수있는 지 여부   \n",
    "def promising(graph, node,  colors_of_nodes, color):  \n",
    "# graph는 그래프의 인접목록 표현, node 는 현재 탐색 노드, 현재까지 색칠된 노드의 색상\n",
    "# colors_of_nodes 는 현재까지 색칠된 노드의 색상들, color 는 색상 테이블에 있는 색상\n",
    "    for neighbor in graph[node]:          \n",
    "        if neighbor in set(colors_of_nodes.keys()): #colors_of_nodes.keys()는 현재까지 색칠된 노드들\n",
    "            color_of_neighbor = colors_of_nodes[neighbor]  \n",
    "        else: color_of_neighbor= None     \n",
    "       \n",
    "        if color_of_neighbor == color:  #현 노드의 인접노드의 색상이 색상 'color' 과 같으면 이 색상 'color' 은 사용못함\n",
    "            return False\n",
    "    return True #현 노드의 인접노드들의 색상들이 색상 'color' 와 겹치는 것이 없는 경우에 이 색상 'color' 은 사용 가능\n",
    "\n",
    "#인접노드 목록 'graph' 와 현재까지 조사된 노드들에 대한 할당 색상 정보를 갖는 'colors_of_nodes'  노드 'node', 'colors_of_nodes' 컬러테이블 'color_table' 이 함수 인자로 주어졌을 때, 인접노느는 같은 색인 아닌 각 그래프 노드의 색상을 복귀한다.\n",
    "def get_color_for_node(graph, node,  colors_of_nodes, color_table):\n",
    "    for color in color_table:  \n",
    "        if promising(graph, node,  colors_of_nodes, color):\n",
    "            return color\n",
    "\n",
    "#인접노드 목록 'graph' 와 컬러테이블 'color_table' 이 함수 인자로 주어졌을 때, 인접노느는 같은 색인 아닌 각 그래프 노드의 색상을 복귀한다.        \n",
    "def graph_coloring(graph, color_table):\n",
    "    colors_of_nodes = {} # dictionary 타입으로 키는 노드 이고, 값은 해당노드에 할당된 색상  \n",
    "    for node in graph: # node ={'B', 'E', 'F', 'L', 'N', 'S'}    \n",
    "        colors_of_nodes[node] = get_color_for_node(graph, node,  colors_of_nodes, color_table)       \n",
    "    return colors_of_nodes\n"
   ]
  },
  {
   "cell_type": "markdown",
   "metadata": {},
   "source": [
    "#### 상기 [그림 1] 그래프에 적용한 graph coloring 결과는 다음과 같습니다. "
   ]
  },
  {
   "cell_type": "code",
   "execution_count": 55,
   "metadata": {
    "scrolled": true
   },
   "outputs": [
    {
     "data": {
      "text/plain": [
       "{'B': 'Black',\n",
       " 'E': 'Black',\n",
       " 'F': 'Blue',\n",
       " 'L': 'Green',\n",
       " 'N': 'Red',\n",
       " 'S': 'Blue'}"
      ]
     },
     "execution_count": 55,
     "metadata": {},
     "output_type": "execute_result"
    }
   ],
   "source": [
    "color_table = ['Black', 'Blue', 'Green', 'Red', 'Violet', 'Yellow']\n",
    "graph_coloring(graph1, color_table)"
   ]
  },
  {
   "cell_type": "markdown",
   "metadata": {},
   "source": [
    "![Alttext](fig12-6_1.png)"
   ]
  },
  {
   "cell_type": "markdown",
   "metadata": {},
   "source": [
    "#### 위에서 구한 컬러 그래프를 그려 봅시다."
   ]
  },
  {
   "cell_type": "code",
   "execution_count": 56,
   "metadata": {},
   "outputs": [],
   "source": [
    "import networkx as nx\n",
    "import matplotlib.pyplot as plt"
   ]
  },
  {
   "cell_type": "code",
   "execution_count": 57,
   "metadata": {},
   "outputs": [],
   "source": [
    "def draw_colored_graph(graph, color = None, pos = None) :\n",
    "    G = nx.Graph()\n",
    "    nodes = graph.keys()\n",
    "    edges = [(src, dst) for src in graph for dst in graph[src] ]\n",
    "   \n",
    "    G.add_nodes_from(nodes)\n",
    "    G.add_edges_from(edges)\n",
    "\n",
    "    \n",
    "    plt.figure(figsize=(10, 10))\n",
    "    if not color : color = 'cyan'\n",
    "    if not pos : pos=nx.spring_layout(G)\n",
    "    nx.draw_networkx_nodes(G, pos=pos, node_size=2000, node_color=color)\n",
    "    nx.draw_networkx_edges(G, pos=pos)\n",
    "    nx.draw_networkx_labels(G, pos=pos, font_size=30)\n",
    "    plt.show()"
   ]
  },
  {
   "cell_type": "code",
   "execution_count": 58,
   "metadata": {},
   "outputs": [
    {
     "name": "stdout",
     "output_type": "stream",
     "text": [
      "{'B': 'Black', 'E': 'Black', 'F': 'Blue', 'L': 'Green', 'N': 'Red', 'S': 'Blue'}\n"
     ]
    },
    {
     "data": {
      "image/png": "[encoded data removed]",
      "text/plain": [
       "<Figure size 720x720 with 1 Axes>"
      ]
     },
     "metadata": {},
     "output_type": "display_data"
    }
   ],
   "source": [
    "pos = {'B':(2,2), 'E':(1,4), 'F':(2.5, 4), 'L':(0,2), 'N':(3, 0), 'S':(0, 0.5)}\n",
    "color = graph_coloring(graph1, color_table)\n",
    "print(color)\n",
    "draw_colored_graph(graph1, pos=pos, color=list(color.values()))"
   ]
  },
  {
   "cell_type": "markdown",
   "metadata": {},
   "source": [
    "#### 상기 [그림 1]은 planar graph 가 아니어서,  4 color 이하로 색칠할 수있다는 사실이 가 적용되지 않습니다. \n",
    "#### 다음 [그림 7]와 같은 지도에 대해서 graph coloring 을 적용해봅시다.\n",
    "![Altext](fig12-7.png)"
   ]
  },
  {
   "cell_type": "markdown",
   "metadata": {},
   "source": [
    "#### 교과서에서 배운 바대로 [그림 7]에 대해 다음과 같이 dual graph 를 구한 후에 dual graph 의 그래프 표현을 구한 후에  상기 graph coloring 알고리즘을 적용해 봅시다.  \n",
    "![Altext](fig12-8.png)"
   ]
  },
  {
   "cell_type": "code",
   "execution_count": 168,
   "metadata": {},
   "outputs": [
    {
     "data": {
      "text/plain": [
       "{'a': ['b', 'c', 'd', 'e'],\n",
       " 'b': ['a', 'c', 'd'],\n",
       " 'c': ['a', 'b', 'd'],\n",
       " 'd': ['a', 'b', 'c', 'e', 'f', 'g'],\n",
       " 'e': ['a', 'd', 'f', 'g'],\n",
       " 'f': ['d', 'e', 'g'],\n",
       " 'g': ['d', 'e', 'f']}"
      ]
     },
     "execution_count": 168,
     "metadata": {},
     "output_type": "execute_result"
    }
   ],
   "source": [
    "dual_graph = {'a': ['b', 'c', 'd', 'e'],\n",
    "       'b': ['a', 'c', 'd'],\n",
    "       'c': ['a', 'b', 'd'],\n",
    "       'd': ['a', 'b', 'c', 'e', 'f', 'g'],\n",
    "       'e': ['a', 'd', 'f', 'g'],\n",
    "       'f': ['d', 'e', 'g'],\n",
    "       'g': ['d', 'e', 'f']   \n",
    "             }\n",
    "dual_graph"
   ]
  },
  {
   "cell_type": "code",
   "execution_count": 171,
   "metadata": {},
   "outputs": [
    {
     "data": {
      "text/plain": [
       "{'a': 'Red',\n",
       " 'b': 'Blue',\n",
       " 'c': 'Green',\n",
       " 'd': 'Yellow',\n",
       " 'e': 'Blue',\n",
       " 'f': 'Red',\n",
       " 'g': 'Green'}"
      ]
     },
     "execution_count": 171,
     "metadata": {},
     "output_type": "execute_result"
    }
   ],
   "source": [
    "color_table2 = ['Red', 'Blue', 'Green', 'Yellow', 'Violet']\n",
    "graph_coloring(dual_graph, color_table2)"
   ]
  },
  {
   "cell_type": "markdown",
   "metadata": {},
   "source": [
    "#### 실제로 위에서 만든 함수를 이용하여 직접 그래프를 그려 봅시다."
   ]
  },
  {
   "cell_type": "code",
   "execution_count": 173,
   "metadata": {
    "scrolled": false
   },
   "outputs": [
    {
     "data": {
      "image/png": "[encoded data removed]",
      "text/plain": [
       "<Figure size 720x720 with 1 Axes>"
      ]
     },
     "metadata": {},
     "output_type": "display_data"
    }
   ],
   "source": [
    "color = graph_coloring(dual_graph, color_table2)\n",
    "pos = {'a':(0, 2),'b':(1, 4),'c':(1, 3),'d':(2.5, 2),'e':(3, 0),'f':(3, 1),'g':(4, 2)}\n",
    "draw_colored_graph(dual_graph, pos=pos, color=list(color.values()))"
   ]
  },
  {
   "cell_type": "markdown",
   "metadata": {},
   "source": [
    "#### 상기 graph coloring 알고리즘을 적용한 결과는 다음 [그림 9] 와 같습니다.\n",
    "![Altext](fig12-9.png)"
   ]
  },
  {
   "cell_type": "markdown",
   "metadata": {},
   "source": [
    "###  NetworkX 패키지 활용 그래프 컬러링 "
   ]
  },
  {
   "cell_type": "code",
   "execution_count": 177,
   "metadata": {},
   "outputs": [
    {
     "data": {
      "text/plain": [
       "{'L': 0, 'B': 1, 'F': 2, 'N': 3, 'S': 2, 'E': 1}"
      ]
     },
     "execution_count": 177,
     "metadata": {},
     "output_type": "execute_result"
    }
   ],
   "source": [
    "color_table = ['Black', 'Blue', 'Green', 'Red', 'Violet', 'Yellow']\n",
    "d = nx.coloring.greedy_color(G1, strategy=\"largest_first\")\n",
    "d"
   ]
  },
  {
   "cell_type": "code",
   "execution_count": null,
   "metadata": {},
   "outputs": [],
   "source": [
    "{'B': 'Red', 'E': 'Red', 'F': 'Blue', 'L': 'Green', 'N': 'Yellow', 'S': 'Blue'}"
   ]
  },
  {
   "cell_type": "markdown",
   "metadata": {},
   "source": [
    "## 5. Bipartite Graph 여부 "
   ]
  },
  {
   "cell_type": "markdown",
   "metadata": {},
   "source": [
    "### 그래프가 Bipartite인지 확인하는 알고리즘 :\n",
    "#### 한 가지 접근 방식은  $m$ 채색 문제를 사용하여 그래프가 2(즉, $m=2$)색으로 채색이 가능한지 여부를 확인하는 것입니다.\n",
    "#### 다음은 주어진 그래프가 BFS (Breadth First Search)를 사용하여 Birpartite인지 여부를 확인하는 간단한 알고리즘입니다.\n",
    "#### 1. 시작 노드에 빨강색(또는 1)을 할당합니다 (세트 U에 넣음).\n",
    "##### 2. 해당 노드의 인접노드들에   파랑색(또는  0 ) 을 할당합니다 (세트 V에 넣음).\n",
    "##### 3.  상기 인접노드들의 인접노드들을 빨강색(또는 1)을  할당합니다 (세트 U에 넣음).\n",
    "##### 4. 이런 방식으로, m = 2 인 m 방향 채색 문제의 모든 제약 조건을 충족하도록 모든  노드에 색상을 할당합니다.\n",
    "##### 5. 색상을 할당하는 동안 현재  노드와 같은 색이 할당된 인접노드를 발견하게  되면 그래프는  2개의  색상으로 채색 할 수 없습니다 (즉,  그래프가 Bipartite가 아님)."
   ]
  },
  {
   "cell_type": "code",
   "execution_count": 85,
   "metadata": {},
   "outputs": [],
   "source": [
    "def isBipartite(graph): # graph 는   해당 그래프의 인접목록 dictionary   \n",
    "    V=[]                                           # V=해당 그래프의 노드 리스트 \n",
    "    for key in graph:                              #인접목록 그래프 표현으로부터  그래프 노드 목록 생성 \n",
    "        V.append(key)\n",
    "    V.sort()                                       # 추후 처리를 위해 그래프 노드들을 정렬          \n",
    "    colorArr = [-1]*len(graph)                     # 노드들의 색상 정보 목록 생성(-1 로 초기화)        \n",
    "    colorArr[0] = 1                                # 시작노드에 첫번째 색상(1) 할당         \n",
    "    explored=[]                                    # 탐색된 노드 목록 생성    \n",
    "    queue = []                                     # 너비우선탐색 을 위한, 탐색할 노드 큐(FIFO) 생성  \n",
    "    queue.append(V[0])                             # 탐색할 큐에 시작 노드 삽입 \n",
    "\n",
    "        \n",
    "    while queue:  #  탐색할 큐에 노드가 있는 한 계속 수행  \n",
    "        u = queue.pop(0)        \n",
    "        i=-1\n",
    "        j=V.index(u)\n",
    "        \n",
    "        # Return false if there is a self-loop         \n",
    "        for node in graph[u]:           \n",
    "            if node not in explored:               \n",
    "                i=V.index(node)\n",
    "\n",
    "                if  colorArr[i]==colorArr[j]:     #해당 노드의 색상(colorArr[j])이 인접노드의 색상(colorArr[i])과 같으면, Bipartite 아님  \n",
    "                    print(\"Node coloring: {}={}\".format(V, colorArr))                  \n",
    "                    return False\n",
    "                else:                            #해당 노드의 인접 노드드들의 색상을 할당 \n",
    "                    if colorArr[i]==-1: \n",
    "                        colorArr[i]=1-colorArr[j]                                          \n",
    "                        queue.append(node)      #색상이 할당된 인접노드는 다음 이의 인접노드들에 대해 탐색해야 하므로, 탐색 목록에 등록                                \n",
    "        if u not in explored:                   # 해당 노드가 이미 탐색된 것이 아니면, 탐색된 노드 목록에 등록\n",
    "            explored.append(u)                         \n",
    "    print(\"Node coloring: {}={}\".format(V, colorArr))          \n",
    "    return True  \n",
    " \n"
   ]
  },
  {
   "cell_type": "markdown",
   "metadata": {},
   "source": [
    "#### 다음 [그림 10] 그래프가  'Bipartition' 이 가능한지에 대해 적용해 봅시다. \n",
    "![Alttext](fig12-10.png)"
   ]
  },
  {
   "cell_type": "code",
   "execution_count": 195,
   "metadata": {},
   "outputs": [
    {
     "name": "stdout",
     "output_type": "stream",
     "text": [
      "Node coloring: ['a', 'b', 'c', 'd']=[1, 0, 0, 1]\n"
     ]
    },
    {
     "data": {
      "text/plain": [
       "True"
      ]
     },
     "execution_count": 195,
     "metadata": {},
     "output_type": "execute_result"
    }
   ],
   "source": [
    "graph={'a': ['b', 'c'], 'b':['a', 'd'], 'c':['a', 'd'], 'd':['b', 'c']}\n",
    "isBipartite(graph)"
   ]
  },
  {
   "cell_type": "markdown",
   "metadata": {},
   "source": [
    "####  앞 [그림 1] 그래프가  'Bipartition' 이 가능한지에 대해 적용해 봅시다. "
   ]
  },
  {
   "cell_type": "code",
   "execution_count": 196,
   "metadata": {},
   "outputs": [
    {
     "name": "stdout",
     "output_type": "stream",
     "text": [
      "Node coloring: ['B', 'E', 'F', 'L', 'N', 'S']=[1, 1, 0, 0, 0, 0]\n"
     ]
    },
    {
     "data": {
      "text/plain": [
       "False"
      ]
     },
     "execution_count": 196,
     "metadata": {},
     "output_type": "execute_result"
    }
   ],
   "source": [
    "graph = {\n",
    "       'B': ['F', 'L', 'N', 'S'],\n",
    "       'E': ['F', 'L'],\n",
    "       'F': ['B', 'E', 'L', 'N'],  \n",
    "       'L': ['B', 'E', 'F', 'N', 'S'],\n",
    "       'N': ['B', 'F', 'L', 'S'],\n",
    "       'S': ['B', 'L', 'N'],}\n",
    "isBipartite(graph)"
   ]
  },
  {
   "cell_type": "markdown",
   "metadata": {},
   "source": [
    "### networkx 패키지를 활용한 Graph 의 Bipartitioning  여부"
   ]
  },
  {
   "cell_type": "code",
   "execution_count": 83,
   "metadata": {},
   "outputs": [
    {
     "name": "stdout",
     "output_type": "stream",
     "text": [
      "Nodes of graph: \n",
      "['A', 'B', 'C', 'D']\n",
      "Edges of graph: \n",
      "[('A', 'B'), ('A', 'D'), ('B', 'C'), ('C', 'D')]\n"
     ]
    },
    {
     "data": {
      "text/plain": [
       "True"
      ]
     },
     "execution_count": 83,
     "metadata": {},
     "output_type": "execute_result"
    }
   ],
   "source": [
    "import networkx as nx\n",
    "G1=nx.Graph()\n",
    "Nodes1=['A', 'B', 'C', 'D']\n",
    "G1.add_nodes_from(Nodes1)\n",
    "# adding a list of edges:\n",
    "Edges= [('A', 'B'), ('A', 'D'), ('B', 'C'), ('C', 'D')] \n",
    "                  \n",
    "G1.add_edges_from(Edges)\n",
    "print(\"Nodes of graph: \")\n",
    "print(G1.nodes())\n",
    "print(\"Edges of graph: \")\n",
    "print(G1.edges())\n",
    "nx.is_bipartite(G1)"
   ]
  },
  {
   "cell_type": "code",
   "execution_count": 84,
   "metadata": {},
   "outputs": [
    {
     "name": "stdout",
     "output_type": "stream",
     "text": [
      "Nodes of graph: \n",
      "['S', 'B', 'L', 'N', 'E', 'F']\n",
      "Edges of graph: \n",
      "[('S', 'L'), ('S', 'B'), ('S', 'N'), ('B', 'F'), ('B', 'L'), ('B', 'N'), ('L', 'E'), ('L', 'F'), ('L', 'N'), ('N', 'F'), ('E', 'F')]\n"
     ]
    },
    {
     "data": {
      "text/plain": [
       "False"
      ]
     },
     "execution_count": 84,
     "metadata": {},
     "output_type": "execute_result"
    }
   ],
   "source": [
    "import networkx as nx\n",
    "G=nx.Graph()\n",
    "Nodes=['S', 'B', 'L', 'N', 'E', 'F' ]\n",
    "G.add_nodes_from(Nodes)\n",
    "\n",
    "# adding a list of edges:\n",
    "G.add_edges_from([('S', 'L'), ('S', 'B'), ('S', 'N'), ('B', 'F'), ('B', 'L'), ('B', 'N'), ('L', 'E'), ('L', 'F'), ('L', 'N'), \n",
    "                   ('N', 'F'), ('E', 'F') ])\n",
    "print(\"Nodes of graph: \")\n",
    "print(G.nodes())\n",
    "print(\"Edges of graph: \")\n",
    "print(G.edges())\n",
    "nx.is_bipartite(G)"
   ]
  },
  {
   "cell_type": "markdown",
   "metadata": {},
   "source": [
    "<br/><br/><br/><br/>\n",
    "<h1 style='text-align:center;'>실습 문제"
   ]
  },
  {
   "cell_type": "markdown",
   "metadata": {},
   "source": [
    "### 실습 1. \n",
    "#### 너비우선 탐색 방법을 활용하여 주어진 그래프에서 주어진 시작 노드와 종단 노드간의최단 경로를 찾는 파이썬 함수를 코딩하여 보고, 이를 [그림 4]에 적용하여 보시오. \n",
    "#### 주어진 그래프 표현은 인접목록으로 주어진다고 가정함. 즉, [그림 4]의 그래프 표현은 \n",
    "\n",
    "graph_w = {'S': [['B', 175], ['L', 125],['N', 320]],\n",
    "             'B': [['F', 245], ['L', 115], ['N', 145], ['S', 175]],\n",
    "             'L': [['B', 115], ['E', 645],['F', 220],['N', 260],['S', 125]],\n",
    "             'N': [['B', 145], ['F', 385],['L', 260],['S', 320]],\n",
    "             'E': [['F', 450],['L', 645]],\n",
    "             'F': [['B', 245], ['E', 450],['N', 385]]} $\n"
   ]
  },
  {
   "cell_type": "markdown",
   "metadata": {},
   "source": [
    "### 실습 2.\n",
    "#### 주어진 그래프 표현이 인접행렬일 때,  그래프의 인접노드들을 다르게 색칠되는, 그래프의    노드들의 색상을 구하는 함수를 파이썬 함수로  코딩하고, 이를 [그림 8] 에 적용하여 보시오. "
   ]
  },
  {
   "cell_type": "markdown",
   "metadata": {},
   "source": [
    "### 실습 3. \n",
    "#### 주어진 그래프 표현이 인접 행렬로 주어지는 경우에, 그래프가 이분이 가능한 지(즉 그래프가 Bipartite graph 인지)를 판별하는 파이썬 함수를 작성하고, 이를  다음 [그림 10] 의 그래프와 [그림 1] 의 그래프에 적용하여 보시오.  "
   ]
  }
 ],
 "metadata": {
  "kernelspec": {
   "display_name": "Python 3",
   "language": "python",
   "name": "python3"
  },
  "language_info": {
   "codemirror_mode": {
    "name": "ipython",
    "version": 3
   },
   "file_extension": ".py",
   "mimetype": "text/x-python",
   "name": "python",
   "nbconvert_exporter": "python",
   "pygments_lexer": "ipython3",
   "version": "3.6.5"
  }
 },
 "nbformat": 4,
 "nbformat_minor": 2
}
