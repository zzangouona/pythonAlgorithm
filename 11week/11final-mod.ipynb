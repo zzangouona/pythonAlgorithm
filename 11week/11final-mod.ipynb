{
 "cells": [
  {
   "cell_type": "markdown",
   "metadata": {},
   "source": [
    "## 제10장 그래프 - 경로 탐색"
   ]
  },
  {
   "cell_type": "markdown",
   "metadata": {},
   "source": [
    "### 1. 두 노드 사이의  경로 수  계산\n",
    "####   그래프의 인접 행렬을 사용하여 그래프에서 두 노드 사이의 경로 수를 찾을 수 있습니다.\n",
    "#### 다음 [그림 1]의 그래프를 통해서 각 노드간 경로 수 계산을 학습하여 봅시다. \n",
    "![Alttext](fig11-1.png)"
   ]
  },
  {
   "cell_type": "markdown",
   "metadata": {},
   "source": [
    "#### 상기 [그림 1] 그래프의 인접노드 목록 표현은 아래와 같습니다."
   ]
  },
  {
   "cell_type": "code",
   "execution_count": 1,
   "metadata": {},
   "outputs": [],
   "source": [
    "adjL_s = {\n",
    "       'B': ['F', 'L', 'N', 'S'],\n",
    "       'E': ['F', 'L'],\n",
    "       'F': ['B', 'E', 'L', 'N'],\n",
    "       'L': ['B', 'E', 'F', 'N', 'S'],\n",
    "       'N': ['B', 'F', 'L', 'S'],\n",
    "       'S': ['B', 'L', 'N']  }"
   ]
  },
  {
   "cell_type": "markdown",
   "metadata": {},
   "source": [
    "#### 또한 다음의 파이썬 함수를 통해, [그림  1] 그래프의  인접 행렬 표현을 구해봅시다."
   ]
  },
  {
   "cell_type": "code",
   "execution_count": 2,
   "metadata": {},
   "outputs": [],
   "source": [
    "def Adj_Mat(adjL):  \n",
    "    n=len(adjL)\n",
    "    nodes =list()    \n",
    "    for key in adjL:\n",
    "        nodes.append(key)\n",
    "   #nodes=['B', 'E', 'F', 'L', 'N', 'S']\n",
    "    adM= [[] for _ in range(n)]  # key 갯수와 같은 리스트 요소를 갖는 리스트 어레이 만듬  \n",
    "    #adM=[[A],[],[],[],[],[],[]]\n",
    "    k=0 # 인접행렬의 행 인덱스 [A]\n",
    "    j=0  # 각 노드에 대해, 인접노드 목록에서 마지막 인접 노드 순번의  다음 차례\n",
    "    for node in nodes:\n",
    "        print(\"nodes=\", nodes)\n",
    "        print(type(nodes))\n",
    "        if adjL[node]: #\n",
    "            for s in adjL[node]: #(1);\n",
    "                i=0  #노드 목록의 인덱스\n",
    "               # print(\"node={}, str={}\".format(node,s))\n",
    "                while(i < n):                   \n",
    "                    if i>=j:      #(2)                 \n",
    "                        if s == nodes[i]:\n",
    "                            adM[k].append(1)\n",
    "                            j=i+1           \n",
    "                            i=n\n",
    "                        else:\n",
    "                            adM[k].append(0)  \n",
    "                            i+=1\n",
    "                    else:\n",
    "                        i+=1\n",
    "            if j< n: #  (3)\n",
    "                for _ in range(j, n):\n",
    "                    adM[k].append(0)  \n",
    "            \n",
    "        else:\n",
    "            for _ in range(n):\n",
    "                adM[k].append(0)\n",
    "        k+=1\n",
    "        j=0\n",
    "    return adM    "
   ]
  },
  {
   "cell_type": "markdown",
   "metadata": {},
   "source": [
    "![Alttext](fig11_exp_1.png)"
   ]
  },
  {
   "cell_type": "code",
   "execution_count": 4,
   "metadata": {
    "scrolled": true
   },
   "outputs": [
    {
     "name": "stdout",
     "output_type": "stream",
     "text": [
      "nodes= ['B', 'E', 'F', 'L', 'N', 'S']\n",
      "<class 'list'>\n",
      "nodes= ['B', 'E', 'F', 'L', 'N', 'S']\n",
      "<class 'list'>\n",
      "nodes= ['B', 'E', 'F', 'L', 'N', 'S']\n",
      "<class 'list'>\n",
      "nodes= ['B', 'E', 'F', 'L', 'N', 'S']\n",
      "<class 'list'>\n",
      "nodes= ['B', 'E', 'F', 'L', 'N', 'S']\n",
      "<class 'list'>\n",
      "nodes= ['B', 'E', 'F', 'L', 'N', 'S']\n",
      "<class 'list'>\n"
     ]
    },
    {
     "data": {
      "text/plain": [
       "[[0, 0, 1, 1, 1, 1],\n",
       " [0, 0, 1, 1, 0, 0],\n",
       " [1, 1, 0, 1, 1, 0],\n",
       " [1, 1, 1, 0, 1, 1],\n",
       " [1, 0, 1, 1, 0, 1],\n",
       " [1, 0, 0, 1, 1, 0]]"
      ]
     },
     "execution_count": 4,
     "metadata": {},
     "output_type": "execute_result"
    }
   ],
   "source": [
    "adjMatrix=Adj_Mat(adjL_s)\n",
    "adjMatrix"
   ]
  },
  {
   "cell_type": "code",
   "execution_count": 5,
   "metadata": {},
   "outputs": [
    {
     "name": "stdout",
     "output_type": "stream",
     "text": [
      "[[0 0 1 1 1 1]\n",
      " [0 0 1 1 0 0]\n",
      " [1 1 0 1 1 0]\n",
      " [1 1 1 0 1 1]\n",
      " [1 0 1 1 0 1]\n",
      " [1 0 0 1 1 0]]\n"
     ]
    },
    {
     "data": {
      "text/plain": [
       "numpy.matrixlib.defmatrix.matrix"
      ]
     },
     "execution_count": 5,
     "metadata": {},
     "output_type": "execute_result"
    }
   ],
   "source": [
    "import numpy as np\n",
    "MA=np.matrix(adjMatrix)\n",
    "print(MA)\n",
    "type(MA)"
   ]
  },
  {
   "cell_type": "code",
   "execution_count": 6,
   "metadata": {},
   "outputs": [
    {
     "data": {
      "text/plain": [
       "1"
      ]
     },
     "execution_count": 6,
     "metadata": {},
     "output_type": "execute_result"
    }
   ],
   "source": [
    "MA[2,1]"
   ]
  },
  {
   "cell_type": "code",
   "execution_count": 7,
   "metadata": {},
   "outputs": [
    {
     "data": {
      "text/plain": [
       "matrix([[4, 2, 2, 3, 3, 2],\n",
       "        [2, 2, 1, 1, 2, 1],\n",
       "        [2, 1, 4, 3, 2, 3],\n",
       "        [3, 1, 3, 5, 3, 2],\n",
       "        [3, 2, 2, 3, 4, 2],\n",
       "        [2, 1, 3, 2, 2, 3]])"
      ]
     },
     "execution_count": 7,
     "metadata": {},
     "output_type": "execute_result"
    }
   ],
   "source": [
    "MA*MA"
   ]
  },
  {
   "cell_type": "markdown",
   "metadata": {},
   "source": [
    "####  그래프에서  노드 $v_i$ 에서  노드 $v_j$ 까지의 거리 $r$ 인 경로의 수 찾기는 \n",
    "#### 인접행렬 $A$ 에 대해 $A^r $ 의 $(i,j)$ 요소의 값입니다. "
   ]
  },
  {
   "cell_type": "markdown",
   "metadata": {},
   "source": [
    "#### 상기 [그림 1] 에 대해,  노드  $S$ 에서 노드  $F$ 까지 의 최단거리를 구해 봅시다\n",
    "####  이는 $A^r$  의 요소 $(i=5,j=2) $ (여기서, $i$와 $j$는 노드들을 $['B, 'E', 'F', 'L', 'N', 'S'] $ 로 정렬할 때, $S$ 및 $F$의  위치 . 즉, $i=5$, $j=2$ 가 됨 ) 가 처음으로 0 아 인, $r$ 값이 최단 거리가 되며, 이때의  $A^r (i,j)$ 의 값이 경로의 수가 된다. "
   ]
  },
  {
   "cell_type": "code",
   "execution_count": 8,
   "metadata": {},
   "outputs": [],
   "source": [
    "def Matrix_Mul(A,r):\n",
    "    if r==0:\n",
    "        return 1\n",
    "    if r==1:\n",
    "        return A\n",
    "    return Matrix_Mul(A,r-1)*A"
   ]
  },
  {
   "cell_type": "code",
   "execution_count": 9,
   "metadata": {},
   "outputs": [
    {
     "data": {
      "text/plain": [
       "numpy.matrixlib.defmatrix.matrix"
      ]
     },
     "execution_count": 9,
     "metadata": {},
     "output_type": "execute_result"
    }
   ],
   "source": [
    "aa=Matrix_Mul(MA,2)\n",
    "type(aa)"
   ]
  },
  {
   "cell_type": "code",
   "execution_count": 10,
   "metadata": {},
   "outputs": [],
   "source": [
    "import numpy as np\n",
    "def find_shortest_dist(AdjM, nodes, start, end, Max=10):\n",
    "    if start==end:\n",
    "        return 0\n",
    "    start_int=0\n",
    "    end_int=0\n",
    "    MA=np.matrix(AdjM)    \n",
    "    NS=set(nodes)\n",
    "    if start not in nodes or end not in nodes:\n",
    "        return None\n",
    "    NL=list(nodes)\n",
    "    NL.sort()\n",
    "    i=0\n",
    "    for i, node in enumerate(NL):\n",
    "        if node==start:\n",
    "            start_int=i\n",
    "        if node ==end:\n",
    "            end_int=i\n",
    "    for r in range(1, Max+1):\n",
    "        A_r = Matrix_Mul(MA, r)\n",
    "        if A_r[start_int, end_int]!=0:\n",
    "            print(A_r) \n",
    "            val=A_r[start_int, end_int]            \n",
    "            return print(\"최단 경로 길이는 {} 이며, 길이 {}인 경로가 {}개 있다.\".format(r, r, val))     \n",
    "        "
   ]
  },
  {
   "cell_type": "code",
   "execution_count": 11,
   "metadata": {},
   "outputs": [
    {
     "name": "stdout",
     "output_type": "stream",
     "text": [
      "[[4 2 2 3 3 2]\n",
      " [2 2 1 1 2 1]\n",
      " [2 1 4 3 2 3]\n",
      " [3 1 3 5 3 2]\n",
      " [3 2 2 3 4 2]\n",
      " [2 1 3 2 2 3]]\n",
      "최단 경로 길이는 2 이며, 길이 2인 경로가 3개 있다.\n"
     ]
    }
   ],
   "source": [
    "nodes={'B', 'E', 'F', 'L', 'N',  'S' } \n",
    "find_shortest_dist(adjMatrix, nodes, 'S', 'F')"
   ]
  },
  {
   "cell_type": "markdown",
   "metadata": {},
   "source": [
    "##  2. 경로 찾기\n",
    "### 다음으로 두 노드 사이의 경로(path)를 찾는 알고리즘을 구해 봅시다. 본 실습에서는 일단 경로가 사이클은 포함하지 않는 것으로 합니다. (즉, 경로에서 동일한 노드가 두 번 이상 들어가지 않는 것으로 합니다.). 따라서 경로(path)에 대해서는 교재에서 배운 정의에 더하여 사이클을 포함하지 않도록 한 다음의 정의를 사용합니다. \n",
    "\n",
    "### 정의 :   $n$ 을 음이 아닌 정수, $G$ 를 무방향 그래프라 하자.   그래프 $G$ 의 노드 $u$ 에서 노드 $v$ 로의 길이  $n$ 의 경로 는 $G$  의  $n$ 개 에지  $e_1, … , e_n $ 시퀀스로 ,    $i,j=0,1,…, n ~~$ 와  $i \\neq j, x_{i} \\neq  x_{j} $ 에 대해 에지  $e_i$ 는 $x_{i-1}$ 과  $x_i$ 를 끝점으로 갖으며,  노드 $x_0 = u, x_1, …,x_n-1 , x_n = v $  를 만족한다. "
   ]
  },
  {
   "cell_type": "markdown",
   "metadata": {},
   "source": [
    "#### 먼저, Connected Graph 에서 주어진 시작 노드와 종단 노드 간의 경로가 있으면 찾은 경로를 반환하는 알고리즘을 파이썬 프로그래밍해봅시다. \n",
    "#### 아래 경로 찾는 함수는 그래프의 인접 목록과  시작 노드, 종단 노드, 경로를 인수로 취하며, 처음 찾은 경로를 이 경로를 구성하는 노드 목록 리스트(시작 및 종단 노드 포함)를 반환합니다. 경로를 찾을 수 없으면 'None'을 반환합니다. 경로에서는 동일한 노드가 두 번 이상 들어가지 않는 것으로 합니다 (즉, 회로(사이클)는 포함하지 않습니다). \n",
    "#### 이 때, 경로는 인접 노드 에지들로 구성되므로 일련의 인접 노드 리스트로 구성되며, 노드가 경로에  2번 이상 들어가지 않는 것에 유의합니다.   "
   ]
  },
  {
   "cell_type": "code",
   "execution_count": 14,
   "metadata": {},
   "outputs": [],
   "source": [
    "def find_path(graph, start, end, path=[]): #graph ;인접 노드 목록, start; 출발노드, end; 종단노드, path ; 경로\n",
    "        path = path + [start] #  (1) 시작 노드를 경로에 추가\n",
    "        \n",
    "        if start == end: #(2)  경로가 종단 노드에 도달했는 지 점검\n",
    "            return path\n",
    "        if not start in graph : #(3)  start 노드가 그래프의 노드들 중 하나 인지를 점검 \n",
    "            return None\n",
    "        for node in graph[start]: # (4)start 노드 의 인접노드들에 대해서 'for' loop.\n",
    "            #print(graph[start], node)\n",
    "            for comp1 in node:   #  (5)\n",
    "            #    print(\"comp1={}, node={}\".format(comp1, node))    \n",
    "                if comp1 not in path:  #(6) 인접노드가 경로에 없으면 수행\n",
    "                    #print(comp1)\n",
    "                    newpath = find_path(graph, comp1, end, path) #(7)인접노드가 경로에 없으면, 이 인접노드를 시작노드로하여 경로찾기를 다시 수행      행 \n",
    "                    if newpath: \n",
    "                        return newpath\n",
    "        return None "
   ]
  },
  {
   "cell_type": "markdown",
   "metadata": {},
   "source": [
    "![Alttext](fig11_Find_Paths.png)\n",
    "- graph -> [그림 1]의 인접노드 리스트 표현, \n",
    "- start=’S’ , end=’F’ , path=[]\n",
    "#### 1. 첫 루프 \n",
    "(1) 시작 노드를 경로에 추가\n",
    "   - path=path+[‘start’]  ==> path=[‘S’]\n",
    "(2) 경로가 종점 노드에 도달했는 지 점검. \n",
    "    - 같으면 path 복귀 \n",
    "    - 현재 start=’S’ , end=’F --> 같지 않음 \n",
    "(3) start 가 그래프의 노드들 중의 하나인 지를 점검\n",
    "    - start(현재는 ’S’) 가 그래프 노드들 중 하나가 아니면, 문제가 있으므로 \n",
    "       ’None’ 복귀. \n",
    "    - 이 때 ‘graph' 는 dictionary 타입인데,  ‘graph' 의 키 들은 그래프의 노드\n",
    "      들을 가르키며, 즉  'B', 'E', 'F', 'L',  'N', 'S' . 따라서,  ‘start(현재는 ’S’)’ 가  그래프의 노드들 중의 하나인 지를 점검.\n",
    "    - start=‘S’ ∈ {'B', 'E', 'F', 'L',  'N', 'S'} 이므로 그래프 노드 들 중의 하나 \n",
    " (4) start 노드 의 인접노드들에 대해서 'for' loop\n",
    "    - graph[‘S’]=['B', 'L', 'N']   \n",
    "    - 따라서,   ‘for node in graph[start]: ’에서 node 는 'B', 'L', 'N' 가 순차적\n",
    "      으로 됨. 첫 번째 경우  node=’B’\n",
    "(5)  “for comp1 in node” ; node 에 있는  comp1 에 대해 루프 \n",
    "    - 이 경우는 불필요한(redundant) 코드이나, 혹시 ‘node’ 가 컨테이너 타입인 \n",
    "      경우를 대비하여 삽입된 코드\n",
    "(6)  인접 노드가 경로에 없으면 수행\n",
    "   ‘B’∉ path==[‘S’]\n",
    "(7)  인접노드가 경로에 없으면, 이 인접노드를 시작노드로 하여 경로 찾기를 다시 수\n",
    "     행 . 이때, start=’B’ end=’F’ , path=[‘S’] \n",
    "     \n",
    "#### 2. 2번째 루프     \n",
    "◦  start=’B’ end=’F’ , path=[‘S’] \n",
    "\n",
    "(1) 시작 노드를 경로에 추가\n",
    "   - path=path+[‘start’]  ==> path=[‘S’, ‘B’]\n",
    "(2) 경로가 종점 노드에 도달했는 지 점검. \n",
    "    - 같으면 path 복귀 \n",
    "    - 현재 start=’B’ , end=’F --> 같지 않음 \n",
    "(3) start 가 그래프의 노드들 중의 하나인 지를 점검\n",
    "    - start(현재는 ’B’) 가 그래프 노드들 중 하나가 아니면, 문제가 있으므로 \n",
    "       ’None’ 복귀. \n",
    "    - 이 때 ‘graph' 는 dictionary 타입인데,  ‘graph' 의 키 들은 그래프의 노드\n",
    "      들을 가르키며, 즉  {'B', 'E', 'F', 'L',  'N', 'S'} . 따라서,  ‘start(현재는               ’S’ )가  그래프의 노드들 중의 하나인 지를 점검.\n",
    "    - start=‘B’ ∈ {'B', 'E', 'F', 'L',  'N', 'S'} 이므로 그래프 노드 들 중의 하나  \n",
    " (4) start 노드(=‘B’)는 그래프 노드 들 중의 하나  의 인접노드들에 대해서 'for'           loop\n",
    "    - graph[‘B’]=['F', 'L', 'N', 'S']   \n",
    "    - 따라서,  ‘for node in graph[start]: ’에서 node 는 'F', 'L', 'N', 'S' 가 \n",
    "      순차적으로 됨. 첫 번째 경우  node=’F’\n",
    "\n",
    "(5)  “for comp1 in node” ; node 에 있는  comp1 에 대해 루프 \n",
    "    - 이 경우는 불필요한(redundant) 코드이나, 혹시 ‘node’ 가 컨테이너 타입인 \n",
    "      경우를 대비하여 삽입된 코드\n",
    "(6)  인접 노드가 경로에 없으면 수행\n",
    "  'F' ∉ path==[‘S’, ‘B’]\n",
    "(7)  인접노드가 경로에 없으면, 이 인접노드를 시작노드로 하여 경로 찾기를 다시 수\n",
    "     행 . 이때, start=’F’ end=’F’ , path=[‘S’, ‘B’] \n",
    "\n",
    "\n",
    "#### 3번째 루프 \n",
    "◦  start=’F’ end=’F’ , path=[‘S’, ‘B’] \n",
    "(1) 시작 노드를 경로에 추가\n",
    "   - path=path+[‘start’]  ==> path=[‘S’, ‘B’, ‘F’]\n",
    "(2) 경로가 종점 노드에 도달했는 지 점검. \n",
    "    - 도달했으면 path 복귀 \n",
    "    - 현재 start=’F’ , end=’F --> 같음 \n",
    "    - 도달했으므로, path=[‘S’, ‘B’, ‘F’]"
   ]
  },
  {
   "cell_type": "code",
   "execution_count": 15,
   "metadata": {},
   "outputs": [],
   "source": [
    "graph = {\n",
    "       'B': ['F', 'L', 'N', 'S'],\n",
    "       'E': ['F', 'L'],\n",
    "       'F': ['B', 'E', 'L', 'N'],\n",
    "       'L': ['B', 'E', 'F', 'N', 'S'],\n",
    "       'N': ['B', 'F', 'L', 'S'],\n",
    "       'S': ['B', 'L', 'N']  }\n"
   ]
  },
  {
   "cell_type": "code",
   "execution_count": 16,
   "metadata": {},
   "outputs": [
    {
     "data": {
      "text/plain": [
       "['S', 'B', 'F']"
      ]
     },
     "execution_count": 16,
     "metadata": {},
     "output_type": "execute_result"
    }
   ],
   "source": [
    "find_path(graph, 'S', 'F')"
   ]
  },
  {
   "cell_type": "code",
   "execution_count": 17,
   "metadata": {},
   "outputs": [
    {
     "data": {
      "text/plain": [
       "['S', 'B', 'F', 'E', 'L', 'N']"
      ]
     },
     "execution_count": 17,
     "metadata": {},
     "output_type": "execute_result"
    }
   ],
   "source": [
    "find_path(graph, 'S', 'N')"
   ]
  },
  {
   "cell_type": "markdown",
   "metadata": {},
   "source": [
    "#### 처음 경로  찾는 상기 알고리즘은 인접 목록의 노드 리스트의 노드들의 순서에 따라 달라짐을 알 수있습니다.  "
   ]
  },
  {
   "cell_type": "code",
   "execution_count": 18,
   "metadata": {},
   "outputs": [],
   "source": [
    "graph2 = {\n",
    "       'B': [ 'L', 'F', 'N', 'S'],\n",
    "       'E': ['F', 'L'],\n",
    "       'F': ['B', 'E', 'L', 'N'],\n",
    "       'L': ['B', 'E', 'F', 'N', 'S'],\n",
    "       'N': ['B', 'F', 'L', 'S'],\n",
    "       'S': ['B', 'L', 'N']  }\n"
   ]
  },
  {
   "cell_type": "code",
   "execution_count": 19,
   "metadata": {},
   "outputs": [
    {
     "data": {
      "text/plain": [
       "['S', 'B', 'L', 'E', 'F']"
      ]
     },
     "execution_count": 19,
     "metadata": {},
     "output_type": "execute_result"
    }
   ],
   "source": [
    "find_path(graph2, 'S', 'F')"
   ]
  },
  {
   "cell_type": "markdown",
   "metadata": {},
   "source": [
    "#### 이제, 그래프를 인접 목록으로 표현하지 않고,  노드 집합 $V$ 및 에지 집합 $E$ 의 튜플  $G=(V,E)$ 로 표현하는 경우에, 처음 경로 를 찾는 파이썬 함수 코딩을 살펴 보기로 합시다."
   ]
  },
  {
   "cell_type": "code",
   "execution_count": 20,
   "metadata": {},
   "outputs": [],
   "source": [
    "V = {'B', 'E', 'F', 'L', 'N',  'S' }\n",
    "E={('B', 'F'), ('B', 'L'), ('B', 'N'), ('B', 'S'),('E', 'F'),('E', 'L'), ('F', 'L'), ('F', 'N'), ('L', 'N'), ('L', 'S'), ('N', 'S')}\n",
    "G2=(V, E)"
   ]
  },
  {
   "cell_type": "code",
   "execution_count": 21,
   "metadata": {},
   "outputs": [],
   "source": [
    "def find_path2(graph, start, end, path=[]): #  G=(V,E) ; V 는 노드 집합 및 E 는 에지 집합으로 처리\n",
    "        \n",
    "        path = path + [start] #path 는 노드 리스트로 처리        \n",
    "        V=graph[0]\n",
    "        E=graph[1]                \n",
    "       \n",
    "        if start == end:\n",
    "            return path\n",
    "        if start not in V or end not in V:\n",
    "            return None\n",
    "        \n",
    "        for edge in E: # node 는 노드 start 의 인접노드 리스트임\n",
    "            if edge[0] ==start:                \n",
    "                if edge[1] not in path:\n",
    "                    NE=E-{edge}                                                        \n",
    "                    new_graph=(V, NE)                    \n",
    "                    newpath = find_path2(new_graph, edge[1], end, path)\n",
    "                    if newpath:\n",
    "                        return newpath\n",
    "                else:\n",
    "                    exit\n",
    "            elif edge[1]==start:                   \n",
    "                if edge[0] not in path:                \n",
    "                    NE=E-{edge}                                     \n",
    "                    new_graph=(V, NE)\n",
    "                    newpath = find_path2(new_graph, edge[0], end, path)\n",
    "                    if newpath:\n",
    "                        return newpath\n",
    "                else:\n",
    "                    exit\n",
    "        \n",
    "        return None "
   ]
  },
  {
   "cell_type": "code",
   "execution_count": 22,
   "metadata": {},
   "outputs": [
    {
     "data": {
      "text/plain": [
       "['S', 'N', 'B', 'F']"
      ]
     },
     "execution_count": 22,
     "metadata": {},
     "output_type": "execute_result"
    }
   ],
   "source": [
    "find_path2(G2, 'S', 'F')"
   ]
  },
  {
   "cell_type": "code",
   "execution_count": 23,
   "metadata": {},
   "outputs": [],
   "source": [
    "def find_path3(graph, start, end, path=[]):       \n",
    "        path = path + [start] #path 는 노드 리스트로 처리        \n",
    "        V=list(graph[0]) #노드 집합을 노드 리스트로 변환 처리\n",
    "        E=graph[1]            \n",
    "        EL=list(E)\n",
    "        EL.sort() # 에지 집합을  에지 리스트로 변환 처리\n",
    "       \n",
    "        if start == end:\n",
    "            return path\n",
    "        if start not in V or end not in V:\n",
    "            return None\n",
    "        \n",
    "        for edge in EL: # node 는 노드 start 의 인접노드 리스트임\n",
    "  \n",
    "            if edge[0] ==start:                \n",
    "                if edge[1] not in path:\n",
    "                    NE=E-{edge}                                                        \n",
    "                    new_graph=(V, NE)                    \n",
    "                    newpath = find_path3(new_graph, edge[1], end, path)\n",
    "                    if newpath:\n",
    "                        return newpath\n",
    "                else:\n",
    "                    exit\n",
    "            elif edge[1]==start:                   \n",
    "                if edge[0] not in path:                    \n",
    "                    NE=E-{edge}                                  \n",
    "                    new_graph=(V, NE)\n",
    "                    newpath = find_path3(new_graph, edge[0], end, path)\n",
    "                    if newpath:\n",
    "                        return newpath\n",
    "                else:\n",
    "                    exit\n",
    "        \n",
    "        return None "
   ]
  },
  {
   "cell_type": "code",
   "execution_count": 24,
   "metadata": {},
   "outputs": [
    {
     "data": {
      "text/plain": [
       "['S', 'B', 'F']"
      ]
     },
     "execution_count": 24,
     "metadata": {},
     "output_type": "execute_result"
    }
   ],
   "source": [
    "find_path3(G2, 'S', 'F')"
   ]
  },
  {
   "cell_type": "markdown",
   "metadata": {},
   "source": [
    "#### 이상의 코드 비교에서 그래프 에서 경로 찾는 문제의 경우에, 그래프 표현이 인접 목록인 경우가 $G=(V,E)$ 표현보다 보다 알고리즘이 간결해짐을 잘 알수 있습니다. "
   ]
  },
  {
   "cell_type": "markdown",
   "metadata": {},
   "source": [
    "###  다음은 그래프 표현이 인접 목록으로 주어질 때, 주어진 시작 노드와 종단 노드간의 모든 경로를 찾는 알고리즘입니다. "
   ]
  },
  {
   "cell_type": "code",
   "execution_count": 25,
   "metadata": {},
   "outputs": [],
   "source": [
    "def find_all_paths(graph, start, end, path=[]):\n",
    "        path = path + [start] # (1) ; 경로 업데이트 \n",
    "        if start == end:  # (2) 시작노드 와 종단 노드간 경로를 찾았는 지 점검\n",
    "            return [path]  # 'find_all_paths'의 return  타입을 리스트의 리스트로 맞추기 위해, [path] 로 함\n",
    "        if not start in graph : # (3) 시작노드가  그래프 노드 인지 점검\n",
    "            return []\n",
    "        all_paths = [] # (4) 모든 시작노드 와 종단 노드간의 모든 경로를 담는 경로(리스트 타입)의 리스트\n",
    "        for node in graph[start]: # (5) 시작 노드의 인접 노드 탐색 \n",
    "            if node not in path:\n",
    "                newpaths = find_all_paths(graph, node, end, path) # (6) newpaths 는 해당 노드를 시작로 한 모든 경로들의 리스트\n",
    "              #  print(\"NewPaths=\", newpaths)\n",
    "                for newpath in newpaths:  # (7) all_paths에  newpaths에 있는 모든 경로를 추가 \n",
    "                    all_paths.append(newpath)\n",
    "            # 이때 \"all_paths\" 는 graph[start] 에 있는 인접노드들중 처음부터 'node' 까지의 각각을 통과하는 '시작' 노드 및 '종단' 노드 까지의 \n",
    "            # 의 경로들의 모임 \n",
    "            # 따라서, 'start' 가 시작노드 이며, 'for' loop 동안 시작노드에서 시작노드에서 시작하여  시작노드의 인접노드들을 종단노드에 도달하는 \n",
    "            # 모든 경로가  all_paths 에 포함됨\n",
    "        return all_paths"
   ]
  },
  {
   "cell_type": "markdown",
   "metadata": {},
   "source": [
    "#### $graph['S']= ['B', 'L', 'N'] $"
   ]
  },
  {
   "cell_type": "code",
   "execution_count": 26,
   "metadata": {},
   "outputs": [
    {
     "data": {
      "text/plain": [
       "[['S', 'B', 'F'],\n",
       " ['S', 'B', 'L', 'E', 'F'],\n",
       " ['S', 'B', 'L', 'F'],\n",
       " ['S', 'B', 'L', 'N', 'F'],\n",
       " ['S', 'B', 'N', 'F'],\n",
       " ['S', 'B', 'N', 'L', 'E', 'F'],\n",
       " ['S', 'B', 'N', 'L', 'F'],\n",
       " ['S', 'L', 'B', 'F'],\n",
       " ['S', 'L', 'B', 'N', 'F'],\n",
       " ['S', 'L', 'E', 'F'],\n",
       " ['S', 'L', 'F'],\n",
       " ['S', 'L', 'N', 'B', 'F'],\n",
       " ['S', 'L', 'N', 'F'],\n",
       " ['S', 'N', 'B', 'F'],\n",
       " ['S', 'N', 'B', 'L', 'E', 'F'],\n",
       " ['S', 'N', 'B', 'L', 'F'],\n",
       " ['S', 'N', 'F'],\n",
       " ['S', 'N', 'L', 'B', 'F'],\n",
       " ['S', 'N', 'L', 'E', 'F'],\n",
       " ['S', 'N', 'L', 'F']]"
      ]
     },
     "execution_count": 26,
     "metadata": {},
     "output_type": "execute_result"
    }
   ],
   "source": [
    "find_all_paths(graph, 'S', 'F')"
   ]
  },
  {
   "cell_type": "markdown",
   "metadata": {},
   "source": [
    "###  다음은 그래프 표현이 $G=(V,E)$ 로 주어질 때, 주어진 시작 노드와 종단 노드간의 모든 경로를 찾는 알고리즘입니다. "
   ]
  },
  {
   "cell_type": "code",
   "execution_count": 27,
   "metadata": {},
   "outputs": [],
   "source": [
    "def find_all_paths2(graph, start, end, path=[]):       \n",
    "        path = path + [start] #path 는 노드 리스트로 처리        \n",
    "        V=list(graph[0]) #노드 집합을 노드 리스트로 변환 처리\n",
    "        E=graph[1]            \n",
    "        EL=list(E)\n",
    "        EL.sort() # 에지 집합을  에지 리스트로 변환 처리\n",
    "       \n",
    "        if start == end:\n",
    "            return [path]\n",
    "        if start not in V or end not in V:\n",
    "            return []\n",
    "        \n",
    "        all_paths=[]\n",
    "       \n",
    "        for edge in EL: # node 는 노드 start 의 인접노드 리스트임\n",
    "  \n",
    "            if edge[0] ==start:                \n",
    "                if edge[1] not in path:\n",
    "                    NE=E-{edge}\n",
    "                    NNE=list(NE)\n",
    "                    NNE.sort()                                     \n",
    "                    new_graph=(V, NE)                    \n",
    "                    newpaths = find_all_paths2(new_graph, edge[1], end, path)\n",
    "                    for newpath in newpaths:\n",
    "                        all_paths.append(newpath)\n",
    "                else:\n",
    "                    exit\n",
    "            elif edge[1]==start:                   \n",
    "                if edge[0] not in path:                    \n",
    "                    NE=E-{edge}\n",
    "                    NNE=list(NE)\n",
    "                    NNE.sort()                   \n",
    "                    new_graph=(V, NE)\n",
    "                    newpaths = find_all_paths2(new_graph, edge[0], end, path)\n",
    "                    for newpath in newpaths:\n",
    "                        all_paths.append(newpath)\n",
    "                else:\n",
    "                    exit\n",
    "        \n",
    "        return all_paths"
   ]
  },
  {
   "cell_type": "code",
   "execution_count": 28,
   "metadata": {},
   "outputs": [
    {
     "data": {
      "text/plain": [
       "[['S', 'B', 'F'],\n",
       " ['S', 'B', 'L', 'E', 'F'],\n",
       " ['S', 'B', 'L', 'F'],\n",
       " ['S', 'B', 'L', 'N', 'F'],\n",
       " ['S', 'B', 'N', 'F'],\n",
       " ['S', 'B', 'N', 'L', 'E', 'F'],\n",
       " ['S', 'B', 'N', 'L', 'F'],\n",
       " ['S', 'L', 'B', 'F'],\n",
       " ['S', 'L', 'B', 'N', 'F'],\n",
       " ['S', 'L', 'E', 'F'],\n",
       " ['S', 'L', 'F'],\n",
       " ['S', 'L', 'N', 'B', 'F'],\n",
       " ['S', 'L', 'N', 'F'],\n",
       " ['S', 'N', 'B', 'F'],\n",
       " ['S', 'N', 'B', 'L', 'E', 'F'],\n",
       " ['S', 'N', 'B', 'L', 'F'],\n",
       " ['S', 'N', 'F'],\n",
       " ['S', 'N', 'L', 'B', 'F'],\n",
       " ['S', 'N', 'L', 'E', 'F'],\n",
       " ['S', 'N', 'L', 'F']]"
      ]
     },
     "execution_count": 28,
     "metadata": {},
     "output_type": "execute_result"
    }
   ],
   "source": [
    "find_all_paths2(G2, 'S', 'F')"
   ]
  },
  {
   "cell_type": "code",
   "execution_count": 29,
   "metadata": {},
   "outputs": [
    {
     "data": {
      "text/plain": [
       "20"
      ]
     },
     "execution_count": 29,
     "metadata": {},
     "output_type": "execute_result"
    }
   ],
   "source": [
    "len(find_all_paths(graph, 'S', 'F'))"
   ]
  },
  {
   "cell_type": "code",
   "execution_count": 30,
   "metadata": {},
   "outputs": [
    {
     "data": {
      "text/plain": [
       "True"
      ]
     },
     "execution_count": 30,
     "metadata": {},
     "output_type": "execute_result"
    }
   ],
   "source": [
    "find_all_paths2(G2, 'S', 'F')==find_all_paths(graph, 'S', 'F')"
   ]
  },
  {
   "cell_type": "markdown",
   "metadata": {},
   "source": [
    "## 3. 최단 경로 찾기 \n",
    "### 다음은 상기 [그림 1]에서 각 에지의 거리(weight)가 1 일때, 최단 경로를 찾는 알고리즘입니다."
   ]
  },
  {
   "cell_type": "markdown",
   "metadata": {},
   "source": [
    "#### 최단 경로 찾는 문제는 그래프의 인접 목록의 순서에 상관하지 않습니다. "
   ]
  },
  {
   "cell_type": "code",
   "execution_count": 31,
   "metadata": {},
   "outputs": [],
   "source": [
    "graph = {'B': ['F', 'L', 'N', 'S'],\n",
    "        'E': ['F', 'L'],\n",
    "        'F': ['B', 'E', 'N'],\n",
    "        'L': ['B', 'E', 'F', 'N', 'S'],\n",
    "        'N': ['B', 'F', 'L', 'S'],\n",
    "        'S': ['B', 'L', 'N']}\n",
    "graph2= {'S': ['B', 'L', 'N'],\n",
    "       'B': ['L', 'N', 'S', 'F'],\n",
    "       'L': ['B', 'E', 'F', 'N', 'S'],\n",
    "       'N': ['B', 'F', 'L', 'S'],\n",
    "       'E': ['F', 'L'],\n",
    "       'F': ['B', 'E', 'N'] }"
   ]
  },
  {
   "cell_type": "code",
   "execution_count": 32,
   "metadata": {},
   "outputs": [],
   "source": [
    "def find_shortest_path(graph, start, end, path=[]):        \n",
    "        path = path + [start]  # (1)경로 업데이트\n",
    "        if start == end:   # (2)경로가 주어진 시작노드로부터 주어진 종단노드 까지의 경로인지를 점검\n",
    "            return path\n",
    "        if not start in graph:  \n",
    "            return None\n",
    "        shortest = None  \n",
    "        for node in graph[start]: #(3) 시작노드 의 인접노드 목록 의 노드들에 대한 'for' 루프            \n",
    "            if node not in path:                \n",
    "                newpath = find_shortest_path(graph, node, end, path) # (4)주어진 시작노드로부터 주어진 종단노드 까지의 경로가  newpath에               \n",
    "                if newpath:\n",
    "                    if not shortest or len(newpath) < len(shortest): #(5) 기존 최단 경로와 비교 \n",
    "                        shortest = newpath                        \n",
    "        return shortest"
   ]
  },
  {
   "cell_type": "code",
   "execution_count": 33,
   "metadata": {
    "scrolled": false
   },
   "outputs": [
    {
     "data": {
      "text/plain": [
       "['S', 'B', 'F']"
      ]
     },
     "execution_count": 33,
     "metadata": {},
     "output_type": "execute_result"
    }
   ],
   "source": [
    "find_shortest_path(graph, 'S', 'F')"
   ]
  },
  {
   "cell_type": "code",
   "execution_count": 34,
   "metadata": {},
   "outputs": [
    {
     "data": {
      "text/plain": [
       "['S', 'B', 'F']"
      ]
     },
     "execution_count": 34,
     "metadata": {},
     "output_type": "execute_result"
    }
   ],
   "source": [
    "find_shortest_path(graph2, 'S', 'F')"
   ]
  },
  {
   "cell_type": "code",
   "execution_count": 35,
   "metadata": {},
   "outputs": [
    {
     "data": {
      "text/plain": [
       "['E', 'F', 'N']"
      ]
     },
     "execution_count": 35,
     "metadata": {},
     "output_type": "execute_result"
    }
   ],
   "source": [
    "find_shortest_path(graph, 'E', 'N')"
   ]
  },
  {
   "cell_type": "code",
   "execution_count": 36,
   "metadata": {},
   "outputs": [
    {
     "data": {
      "text/plain": [
       "['E', 'F', 'N']"
      ]
     },
     "execution_count": 36,
     "metadata": {},
     "output_type": "execute_result"
    }
   ],
   "source": [
    "find_shortest_path(graph2, 'E', 'N')"
   ]
  },
  {
   "cell_type": "code",
   "execution_count": 37,
   "metadata": {},
   "outputs": [
    {
     "data": {
      "text/plain": [
       "['S', 'N']"
      ]
     },
     "execution_count": 37,
     "metadata": {},
     "output_type": "execute_result"
    }
   ],
   "source": [
    "find_shortest_path(graph2, 'S', 'N')"
   ]
  },
  {
   "cell_type": "code",
   "execution_count": 38,
   "metadata": {},
   "outputs": [],
   "source": [
    "def find_shortest_path2(graph, start, end, path=[], shortest=[]):\n",
    "        path = path + [start]       \n",
    "        if start == end:\n",
    "            return path\n",
    "        if not start in graph:\n",
    "            return None\n",
    "      \n",
    "        for node in graph[start]:      \n",
    "            if node not in path:                \n",
    "                newpath = find_shortest_path2(graph, node, end, path, shortest)                \n",
    "                if newpath:\n",
    "                    if not shortest or len(newpath) < len(shortest):\n",
    "                        shortest = newpath\n",
    "                        \n",
    "        return shortest"
   ]
  },
  {
   "cell_type": "code",
   "execution_count": 39,
   "metadata": {},
   "outputs": [
    {
     "data": {
      "text/plain": [
       "['S', 'B', 'F']"
      ]
     },
     "execution_count": 39,
     "metadata": {},
     "output_type": "execute_result"
    }
   ],
   "source": [
    "find_shortest_path2(graph, 'S', 'F')"
   ]
  },
  {
   "cell_type": "code",
   "execution_count": 40,
   "metadata": {},
   "outputs": [
    {
     "data": {
      "text/plain": [
       "['S', 'B', 'F']"
      ]
     },
     "execution_count": 40,
     "metadata": {},
     "output_type": "execute_result"
    }
   ],
   "source": [
    "find_shortest_path2(graph2, 'S', 'F')"
   ]
  },
  {
   "cell_type": "code",
   "execution_count": 41,
   "metadata": {},
   "outputs": [
    {
     "data": {
      "text/plain": [
       "['E', 'F', 'N']"
      ]
     },
     "execution_count": 41,
     "metadata": {},
     "output_type": "execute_result"
    }
   ],
   "source": [
    "find_shortest_path2(graph, 'E', 'N')"
   ]
  },
  {
   "cell_type": "code",
   "execution_count": 42,
   "metadata": {},
   "outputs": [
    {
     "data": {
      "text/plain": [
       "['E', 'F', 'N']"
      ]
     },
     "execution_count": 42,
     "metadata": {},
     "output_type": "execute_result"
    }
   ],
   "source": [
    "find_shortest_path2(graph2, 'E', 'N')"
   ]
  },
  {
   "cell_type": "code",
   "execution_count": 43,
   "metadata": {},
   "outputs": [],
   "source": [
    "shortest=[]\n",
    "def find_shortest_path3(graph, start, end, path=[]):\n",
    "   \n",
    "        path = path + [start]\n",
    "        if start == end:\n",
    "            return path\n",
    "        if not start in graph:\n",
    "            return None\n",
    "        global shortest \n",
    "\n",
    "        for node in graph[start]:\n",
    "            if node not in path:\n",
    "                newpath = find_shortest_path3(graph, node, end, path)\n",
    "                if newpath:\n",
    "                    if not shortest or len(newpath) <= len(shortest):\n",
    "                        shortest = newpath                   \n",
    "        return shortest"
   ]
  },
  {
   "cell_type": "code",
   "execution_count": 44,
   "metadata": {},
   "outputs": [
    {
     "data": {
      "text/plain": [
       "['S', 'N', 'F']"
      ]
     },
     "execution_count": 44,
     "metadata": {},
     "output_type": "execute_result"
    }
   ],
   "source": [
    "find_shortest_path3(graph, 'S', 'F')"
   ]
  },
  {
   "cell_type": "code",
   "execution_count": 45,
   "metadata": {},
   "outputs": [
    {
     "data": {
      "text/plain": [
       "['E', 'L', 'N']"
      ]
     },
     "execution_count": 45,
     "metadata": {},
     "output_type": "execute_result"
    }
   ],
   "source": [
    "find_shortest_path3(graph, 'E', 'N')"
   ]
  },
  {
   "cell_type": "code",
   "execution_count": 46,
   "metadata": {},
   "outputs": [
    {
     "data": {
      "text/plain": [
       "['S', 'N', 'F']"
      ]
     },
     "execution_count": 46,
     "metadata": {},
     "output_type": "execute_result"
    }
   ],
   "source": [
    "find_shortest_path3(graph, 'S', 'F')"
   ]
  },
  {
   "cell_type": "code",
   "execution_count": 47,
   "metadata": {},
   "outputs": [
    {
     "data": {
      "text/plain": [
       "['E', 'L', 'N']"
      ]
     },
     "execution_count": 47,
     "metadata": {},
     "output_type": "execute_result"
    }
   ],
   "source": [
    "find_shortest_path3(graph2, 'E', 'N')"
   ]
  },
  {
   "cell_type": "markdown",
   "metadata": {},
   "source": [
    "### 상기 알고리즘에서 최단 경로가 여러 개가 있더라도 처음 찾아지는 최단 경로를 복귀합니다. "
   ]
  },
  {
   "cell_type": "code",
   "execution_count": 48,
   "metadata": {},
   "outputs": [
    {
     "data": {
      "text/plain": [
       "['S', 'N', 'F']"
      ]
     },
     "execution_count": 48,
     "metadata": {},
     "output_type": "execute_result"
    }
   ],
   "source": [
    "find_shortest_path3(graph, 'S', 'F')"
   ]
  },
  {
   "cell_type": "markdown",
   "metadata": {},
   "source": [
    "### 이제, [그림 2]과 같이 에지에 다양한 거리(weight)를 갖는 그래프에서 경로 찾는 문제의 경우에서, 자료 구조 표현 및 알고리즘 등을 살펴보기로 합니다,\n",
    "![Alttext](fig11-2.png)"
   ]
  },
  {
   "cell_type": "markdown",
   "metadata": {},
   "source": [
    "#### 다음과 같이 상기 adjacency list 에 에지 거리(weigth)를 추가한 가중치 adjacency list 를 고려해봅시다."
   ]
  },
  {
   "cell_type": "code",
   "execution_count": 49,
   "metadata": {},
   "outputs": [],
   "source": [
    "graph_w = {'S': [['B', 175], ['L', 125],['N', 320]],\n",
    "             'B': [['F', 245], ['L', 115], ['N', 145], ['S', 175]],\n",
    "             'L': [['B', 115], ['E', 645],['F', 220],['N', 260],['S', 125]],\n",
    "             'N': [['B', 145], ['F', 385],['L', 260],['S', 320]],\n",
    "             'E': [['F', 450],['L', 645]],\n",
    "             'F': [['B', 245], ['E', 450],['N', 385]]}\n"
   ]
  },
  {
   "cell_type": "markdown",
   "metadata": {},
   "source": [
    "#### [그림 2]의 그래프를 상기 weighted adjacency list 로 표현한 경우에, 경로 찾기 알고리즘은 다음과 같이 표현 자료구조에 따라 약간의 변형이 필요합니다. "
   ]
  },
  {
   "cell_type": "code",
   "execution_count": 50,
   "metadata": {},
   "outputs": [],
   "source": [
    "def find_path_w(graph, start, end, path=[]):\n",
    "        path = path + [start]\n",
    "        \n",
    "        if start == end:\n",
    "            return path\n",
    "        if not start in graph:\n",
    "            return None\n",
    "        for node in graph[start]: #  node는 graph[start] 의 한 료소. 예; graph['S']라면, graph['S']=[['B', 175], ['L', 125],['N', 320]]\n",
    "            #node= ['B', 175], or  []'L', 125], or ['N', 320]\n",
    "            if node[0] not in path: #node[0]='B' or 'L' or 'N'\n",
    "                newpath = find_path_w(graph, node[0], end, path) #node[0] 를 시작노드로 하여 재귀적으로 함수 호출 \n",
    "                if newpath: return newpath\n",
    "        return None \n"
   ]
  },
  {
   "cell_type": "code",
   "execution_count": 51,
   "metadata": {
    "scrolled": true
   },
   "outputs": [
    {
     "data": {
      "text/plain": [
       "['S', 'B', 'F']"
      ]
     },
     "execution_count": 51,
     "metadata": {},
     "output_type": "execute_result"
    }
   ],
   "source": [
    "find_path_w(graph_w, 'S', 'F')"
   ]
  },
  {
   "cell_type": "markdown",
   "metadata": {},
   "source": [
    "#### [그림 2]경우에, 시작노드에서 종단노드까지의 모든 경로를 찾아 봅시다. "
   ]
  },
  {
   "cell_type": "code",
   "execution_count": 52,
   "metadata": {},
   "outputs": [],
   "source": [
    "def find_all_paths_w(graph, start, end, path=[]):\n",
    "        path = path + [start]\n",
    "        if start == end:\n",
    "            return [path]        \n",
    "        if not start in graph:\n",
    "            return []  \n",
    "        \n",
    "        all_paths = []\n",
    "        for node in graph[start]: #graph['S']=[['B', 175], ['L', 125],['N', 320]] #node=['B', 175]\n",
    "            if node[0] not in path:        \n",
    "                newpaths = find_all_paths_w(graph, node[0], end, path)\n",
    "                for newpath in newpaths:\n",
    "                    all_paths.append(newpath)\n",
    "        return all_paths"
   ]
  },
  {
   "cell_type": "code",
   "execution_count": 53,
   "metadata": {},
   "outputs": [
    {
     "data": {
      "text/plain": [
       "[['S', 'B', 'F'],\n",
       " ['S', 'B', 'L', 'E', 'F'],\n",
       " ['S', 'B', 'L', 'F'],\n",
       " ['S', 'B', 'L', 'N', 'F'],\n",
       " ['S', 'B', 'N', 'F'],\n",
       " ['S', 'B', 'N', 'L', 'E', 'F'],\n",
       " ['S', 'B', 'N', 'L', 'F'],\n",
       " ['S', 'L', 'B', 'F'],\n",
       " ['S', 'L', 'B', 'N', 'F'],\n",
       " ['S', 'L', 'E', 'F'],\n",
       " ['S', 'L', 'F'],\n",
       " ['S', 'L', 'N', 'B', 'F'],\n",
       " ['S', 'L', 'N', 'F'],\n",
       " ['S', 'N', 'B', 'F'],\n",
       " ['S', 'N', 'B', 'L', 'E', 'F'],\n",
       " ['S', 'N', 'B', 'L', 'F'],\n",
       " ['S', 'N', 'F'],\n",
       " ['S', 'N', 'L', 'B', 'F'],\n",
       " ['S', 'N', 'L', 'E', 'F'],\n",
       " ['S', 'N', 'L', 'F']]"
      ]
     },
     "execution_count": 53,
     "metadata": {},
     "output_type": "execute_result"
    }
   ],
   "source": [
    "find_all_paths_w(graph_w, 'S', 'F')"
   ]
  },
  {
   "cell_type": "markdown",
   "metadata": {},
   "source": [
    "#### 다음은 [그림 2]에서  최단 경로와 그 때의 최단 경로 길이를 찾는 알고리즘입니다."
   ]
  },
  {
   "cell_type": "code",
   "execution_count": 54,
   "metadata": {},
   "outputs": [],
   "source": [
    "from math import *\n",
    "def find_shortest_path_w(graph, start, end, path=[], distance=0):\n",
    "        path = path+ [start]            \n",
    "        if start == end:\n",
    "            return path, distance\n",
    "        if not start in graph:\n",
    "            return None, inf\n",
    "        \n",
    "        shortest_path = None\n",
    "        shortest_path_distance = inf #inf=무한대\n",
    "\n",
    "        for node in graph[start]: #graph['S']=[['B', 175], ['L', 125],['N', 320]] #node=['B', 175]\n",
    "            if node[0] not in path:   #node[0]='B'             \n",
    "                distance= distance+node[1]  #node[1]=175 \n",
    "                \n",
    "                new_path, new_path_distance = find_shortest_path_w(graph, node[0], end, path, distance)\n",
    "                distance=distance-node[1] #한 단계 위로 올라가 다시 게산하여야 해서 \n",
    "                if new_path:\n",
    "                    if not shortest_path or new_path_distance < shortest_path_distance:\n",
    "                        shortest_path = new_path\n",
    "                        shortest_path_distance = new_path_distance\n",
    "        return shortest_path, shortest_path_distance"
   ]
  },
  {
   "cell_type": "code",
   "execution_count": 55,
   "metadata": {},
   "outputs": [
    {
     "data": {
      "text/plain": [
       "(['S', 'L', 'F'], 345)"
      ]
     },
     "execution_count": 55,
     "metadata": {},
     "output_type": "execute_result"
    }
   ],
   "source": [
    "find_shortest_path_w(graph_w, 'S', 'F')"
   ]
  },
  {
   "cell_type": "code",
   "execution_count": 56,
   "metadata": {},
   "outputs": [
    {
     "data": {
      "text/plain": [
       "(['N', 'F', 'E'], 835)"
      ]
     },
     "execution_count": 56,
     "metadata": {},
     "output_type": "execute_result"
    }
   ],
   "source": [
    "find_shortest_path_w(graph_w, 'N', 'E')"
   ]
  },
  {
   "cell_type": "markdown",
   "metadata": {},
   "source": [
    "## 4. 오일러 경로(Euler Path) 찾기"
   ]
  },
  {
   "cell_type": "markdown",
   "metadata": {},
   "source": [
    "### 오일러 경로는 그래프의 모든 에지를 한 번씩만 통과하면서 방문하는 경로로, circuit 은 아닙니다. 그래프에 홀수점이 없으면, 아무른 짝수점에서 출발하여 그래프의 각 에지들을 거쳐 다시 해당 출발 짝수점으로 복귀할 수있습니다  이 경우에 오일러 회로라고 합니다.  오일러 경로는 홀수점이 2개가 있어야만, 오일러 경로의 존재가 보장됩니다. 따라서, 1개의 홀수점에서 시작해서 다른 홀수점에서 끝나야 합니다.  따라서,  시작 홀수ㅈ점에서 출발하여 circuit 이 있으면 circuit 에지들을 순회하여 다른 종단 홀수점으로 방문해가야 합니다. 이러한 아이디어를 기반으로 오일러 경로는 다음과 같은 절차로 구합니다.\n",
    "\n",
    "#### 1) 주어진 그래프에서 홀수점의 갯수를 찾는다. 홀수점이  2개가 아니면 오일러 경로는 없습니다. 홀수점이 2개인 경우에 2개 중 하나는 시작노드로 다른 하나는 종단노드로 구성합니다. 이후 다음의 과정을 거침니다. \n",
    "#### 2) 주어진 그래프에서 시작노드에서 시작하여 종단노드까지의 시작-종단 경로(백본경로)를 찾습니다.\n",
    "#### 3) 그래프에서  이 경로 또는 순환경로(circuit)에 있는 에지들은 제거한 남은 그래프를 만듬니다.\n",
    "#### 4) 남은 그래프에 대해 시작-종단 백본 경로에 있는 각 노드에 대해 순환 경로(circuit)가 있으면  찾습니다. \n",
    "#### 5) 남은 그래프에서 남은 에지가 없어질 때까지  3)과 4)의 과정을 되풀이 합니다. \n",
    "#### 6) 이때, 오일러 경로는 백본 경로의 시작 노드. 시작노드에서의 순환 경로들, 백본 시작노드에서 백본의 다음 중간 노드까지 경로, 이 백본 중간노드들에서의 순환 경로들,  백본 중간노드에서 백본 다음 중간노드까지의 경로, 이 백본 중간노드에서의 순환경로, ... , 백본 중간노드에서 백본 종단노드까지의 경로,  종단노드에서의 순환 경로들 로 구성됩니다. "
   ]
  },
  {
   "cell_type": "markdown",
   "metadata": {},
   "source": [
    "![alt text](fig11-3.png)  \n",
    "\n",
    "#  \n",
    "\n",
    "### 상기 [그림 3]의  그래프를 예제로 오일러 경로 알고리즘을 살펴 보기로 합니다.  \n",
    "#### 그래프를 표현하는 방법으로는 다음과 같이 adjacency list를 사용하며,  파이썬에서는 adjacency list를 dictionary 로 표현한 것이 유용하는 것을 이미 학습했습니다.  \n",
    "####  (예 ; [그림 3] 그래프 경우)\n",
    "~~~python\n",
    "graph_E = {'B': ['F', 'L', 'N', 'S'],\n",
    "       'E': ['F', 'L'],\n",
    "       'F': ['B', 'E', 'N'],   \n",
    "       'L': ['B', 'E', 'N', 'S'],\n",
    "       'N': ['B', 'F', 'L', 'S'],       \n",
    "       'S': ['B', 'L', 'N'],}.\n",
    "~~~\n",
    " \n",
    "### 그래프의 에지는 에지를 구성하는 2개의 노드(vertex) 쌍 의 튜플(tuple) 로 표현할 수 있습니다. \n",
    "#### 즉, 상기 [그림 3]에서 노드 'S' 와 노드 'N' 을 연결하는 에지는 ('S', 'N') 으로 표현한다.  이때, 노드쌍 튜플의 첫번째  노드 'S'들 시작노드 , 두번째 노드 'N' 을 종단 노드로 간주하는 경우에 이 에지를 방향성 에지라 하며, 이를 구분하지 않는 경우를 비방향성 에지라 한다. 방향성 에지에서는 ('S', 'N') 와 ('N', 'S' ) 는 다른 에지이나,  비방향성 에지에서는 둘다 같은 에지이다.\n"
   ]
  },
  {
   "cell_type": "markdown",
   "metadata": {},
   "source": [
    "### 1) 그래프에서 홀수점 찾기 "
   ]
  },
  {
   "cell_type": "code",
   "execution_count": 57,
   "metadata": {},
   "outputs": [],
   "source": [
    "def find_odd_points(graph):\n",
    "    odds=[]\n",
    "    for i in graph:\n",
    "        if len(graph[i])%2 != 0:\n",
    "            odds.append(i)\n",
    "    return odds        "
   ]
  },
  {
   "cell_type": "markdown",
   "metadata": {},
   "source": [
    "#### 상기 홀수점 찾는 함수가 제대로 동작하는 지를 점검해 봅시다.  "
   ]
  },
  {
   "cell_type": "code",
   "execution_count": 58,
   "metadata": {},
   "outputs": [],
   "source": [
    "fig3_graph = {\n",
    "       'B': ['F', 'L', 'N', 'S'],\n",
    "       'E': ['F', 'L'],\n",
    "       'F': ['B', 'E', 'N'],\n",
    "       'L': ['B', 'E',  'N', 'S'],\n",
    "       'N': ['B', 'F', 'L', 'S'],       \n",
    "       'S': ['B', 'L', 'N']  }"
   ]
  },
  {
   "cell_type": "code",
   "execution_count": 59,
   "metadata": {},
   "outputs": [
    {
     "name": "stdout",
     "output_type": "stream",
     "text": [
      "start_odd_point= F\n",
      "end_odd_point= S\n"
     ]
    }
   ],
   "source": [
    "odds=find_odd_points(fig3_graph)\n",
    "start_odd_point = odds[0]\n",
    "end_odd_point = odds[1]\n",
    "print(\"start_odd_point=\", start_odd_point)\n",
    "print(\"end_odd_point=\", end_odd_point)"
   ]
  },
  {
   "cell_type": "markdown",
   "metadata": {},
   "source": [
    "### 2) 주어진 그래프에서 시작노드에서 시작하여 종단노드까지의 시작-종단 경로(백본경로) 찾기."
   ]
  },
  {
   "cell_type": "code",
   "execution_count": 60,
   "metadata": {},
   "outputs": [],
   "source": [
    "def find_shortest_path2(graph, start, end, path=[], shortest=[]):\n",
    "        path = path + [start]       \n",
    "        if start == end:\n",
    "            return path\n",
    "        if not start in graph:\n",
    "            return None\n",
    "      \n",
    "        for node in graph[start]:      \n",
    "            if node not in path:                \n",
    "                newpath = find_shortest_path2(graph, node, end, path, shortest)                \n",
    "                if newpath:\n",
    "                    if not shortest or len(newpath) < len(shortest):\n",
    "                        shortest = newpath\n",
    "                        \n",
    "        return shortest"
   ]
  },
  {
   "cell_type": "code",
   "execution_count": 61,
   "metadata": {},
   "outputs": [
    {
     "name": "stdout",
     "output_type": "stream",
     "text": [
      "odds[0]= F\n",
      "odds[1]= S\n",
      "['F', 'B', 'S']\n"
     ]
    }
   ],
   "source": [
    "odds=find_odd_points(fig3_graph)\n",
    "print(\"odds[0]=\", odds[0])\n",
    "print(\"odds[1]=\", odds[1])\n",
    "backbone_path=find_shortest_path2(fig3_graph, odds[0], odds[1])\n",
    "print(backbone_path)    "
   ]
  },
  {
   "cell_type": "markdown",
   "metadata": {},
   "source": [
    "### 3) 그래프에서  경로 또는 순환경로(circuit)에 있는 에지들은 제거한 남은 그래프 생성하기"
   ]
  },
  {
   "cell_type": "code",
   "execution_count": 62,
   "metadata": {},
   "outputs": [],
   "source": [
    "def remove_path_from_graph(graph, path):\n",
    "    if len(path) < 2:\n",
    "        return graph\n",
    "    for i in range(len(path)-1):       \n",
    "        if path[i+1] in graph[path[i]]:\n",
    "                graph[path[i]].remove(path[i+1])\n",
    "        if path[i] in graph[path[i+1]]:\n",
    "                graph[path[i+1]].remove(path[i])\n",
    "                \n",
    "    return graph            "
   ]
  },
  {
   "cell_type": "code",
   "execution_count": 63,
   "metadata": {},
   "outputs": [
    {
     "name": "stdout",
     "output_type": "stream",
     "text": [
      "odds[0]= F\n",
      "odds[1]= S\n",
      "Backbone path= ['F', 'B', 'S']\n",
      "Figure_4 graph= {'B': ['L', 'N'], 'E': ['F', 'L'], 'F': ['E', 'N'], 'L': ['B', 'E', 'N', 'S'], 'N': ['B', 'F', 'L', 'S'], 'S': ['L', 'N']}\n"
     ]
    }
   ],
   "source": [
    "odds=find_odd_points(fig3_graph)\n",
    "print(\"odds[0]=\", odds[0])\n",
    "print(\"odds[1]=\", odds[1])\n",
    "backbone_path=find_shortest_path2(fig3_graph, odds[0], odds[1])\n",
    "print(\"Backbone path=\", backbone_path)    \n",
    "fig4_graph=remove_path_from_graph(fig3_graph, backbone_path)\n",
    "print(\"Figure_4 graph=\", fig4_graph)"
   ]
  },
  {
   "cell_type": "markdown",
   "metadata": {},
   "source": [
    "#### 상기 결과는 [그림 3] 그래프에서 백본 경로 [ 'F', 'B', 'S'] 가 제거된, 다음 [그림 4] 그래프 표현입니다.\n",
    "![alt text](./fig11-4.png)"
   ]
  },
  {
   "cell_type": "markdown",
   "metadata": {},
   "source": [
    "### 4) 그래프의 노드에 대해 순환 경로(circuit)가 있으면  찾기"
   ]
  },
  {
   "cell_type": "code",
   "execution_count": 64,
   "metadata": {},
   "outputs": [],
   "source": [
    "def find_circuit(graph, start, end, circuit=[]):\n",
    "        circuit = circuit+ [start]\n",
    "        if len(circuit) > 3 and start == end:\n",
    "#        ('S', 'L', 'S' ) 같은 경우를 배제하기 위해, \"len(circuit) > 3 \" 사용\n",
    "           return circuit\n",
    "        if not start in graph:\n",
    "            return None\n",
    "        for node in graph[start]:\n",
    "            for comp1 in node:\n",
    "                if comp1 not in circuit or (len(circuit) >2 and (comp1==end)):\n",
    "                    newcircuit = find_circuit(graph, comp1, end, circuit)\n",
    "                    if newcircuit: return newcircuit\n",
    "        return None "
   ]
  },
  {
   "cell_type": "code",
   "execution_count": 65,
   "metadata": {},
   "outputs": [
    {
     "name": "stdout",
     "output_type": "stream",
     "text": [
      "{'B': ['L', 'N'], 'E': ['F', 'L'], 'F': ['E', 'N'], 'L': ['B', 'E', 'N', 'S'], 'N': ['B', 'F', 'L', 'S'], 'S': ['L', 'N']}\n",
      "Circuit at 'F'= ['F', 'E', 'L', 'B', 'N', 'F']\n"
     ]
    }
   ],
   "source": [
    "print(fig4_graph)\n",
    "circuit_s=find_circuit(fig4_graph, 'F', 'F')\n",
    "print(\"Circuit at 'F'=\", circuit_s)"
   ]
  },
  {
   "cell_type": "markdown",
   "metadata": {},
   "source": [
    "#### 상기 출력된 circuit ['F', 'E', 'L', 'B', 'N', 'F'] 는 다음 [그림 5]의 빨간색 회로 부분입니다.\n",
    "![Altext](./fig11-5.png)"
   ]
  },
  {
   "cell_type": "markdown",
   "metadata": {},
   "source": [
    "#### [그림 5]에서 빨간색 부분 에지를 제거하면 다음과 [그림 6]의 그래프이며, 이 그래프의 표현은 \n",
    "{S': [], 'B': [], 'L': ['E', 'N'], 'N': ['F', 'L'], 'E': ['F', 'L'], 'F': ['E', 'N']}\n",
    "![Altext](./fig11-6.png) 이고, 이 그래프 표현은 다음과 같이 구합니다.  "
   ]
  },
  {
   "cell_type": "code",
   "execution_count": 66,
   "metadata": {},
   "outputs": [
    {
     "name": "stdout",
     "output_type": "stream",
     "text": [
      "{'B': [], 'E': [], 'F': [], 'L': ['N', 'S'], 'N': ['L', 'S'], 'S': ['L', 'N']}\n"
     ]
    }
   ],
   "source": [
    "fig6_graph=remove_path_from_graph(fig4_graph, circuit_s)\n",
    "print(fig6_graph)\n"
   ]
  },
  {
   "cell_type": "markdown",
   "metadata": {},
   "source": [
    "#### 여기서 계속, 남아 있는 그래프, [그림 6] 에서 순회 경로를 찾아 보면  다음과 같습니다. "
   ]
  },
  {
   "cell_type": "code",
   "execution_count": 67,
   "metadata": {},
   "outputs": [
    {
     "name": "stdout",
     "output_type": "stream",
     "text": [
      "Circuit at 'S'= ['S', 'L', 'N', 'S']\n"
     ]
    }
   ],
   "source": [
    "circuit_f=find_circuit(fig6_graph, 'S', 'S')\n",
    "print(\"Circuit at 'S'=\", circuit_f)"
   ]
  },
  {
   "cell_type": "markdown",
   "metadata": {},
   "source": [
    "#### 이제, 이상 각 구현된 함수들을 이용하여 오일러 경로 찾기 함수를 구현한 결과는 다음과 같습니다. "
   ]
  },
  {
   "cell_type": "code",
   "execution_count": 68,
   "metadata": {},
   "outputs": [],
   "source": [
    "def find_Euler_path(graph):\n",
    "    circuit=[]\n",
    "    add_circuit=[]\n",
    "    path=[]\n",
    "    Euler_path=[]\n",
    "    temp=True\n",
    "    odds=find_odd_points(graph)\n",
    "    print(\"odds=\", odds) \n",
    "    if len(odds)!= 2:        \n",
    "        print(\"No Euler path Exists\")\n",
    "        return\n",
    "        \n",
    "    Euler_path=find_shortest_path2(graph, odds[0], odds[1])\n",
    "    print(\"Backbone Path\", Euler_path) \n",
    "    \n",
    "    graph=remove_path_from_graph(graph, Euler_path)\n",
    "    \n",
    "    path = Euler_path.copy()\n",
    "    \n",
    "    for i in range(len(path)):\n",
    "        while temp==True:\n",
    "            add_circuit=find_circuit(graph, path[i], path[i]) \n",
    "\n",
    "            if add_circuit: \n",
    "                if len(circuit)>1 and circuit[-1]==add_circuit[0]:\n",
    "                    circuit=circuit[0:-1]+add_circuit\n",
    "                else:    \n",
    "                    circuit=circuit+add_circuit\n",
    "                graph=remove_path_from_graph(graph, add_circuit)\n",
    "                temp=True\n",
    "            else:\n",
    "                temp=False\n",
    "        if circuit:\n",
    "            Euler_path[i]=circuit \n",
    "        circuit=[] \n",
    "        temp=True\n",
    "    return Euler_path    "
   ]
  },
  {
   "cell_type": "code",
   "execution_count": 69,
   "metadata": {},
   "outputs": [],
   "source": [
    "fig3_graph = {\n",
    "       'B': ['F', 'L', 'N', 'S'],\n",
    "       'E': ['F', 'L'],\n",
    "       'F': ['B', 'E', 'N'],\n",
    "       'L': ['B', 'E',  'N', 'S'],\n",
    "       'N': ['B', 'F', 'L', 'S'],       \n",
    "       'S': ['B', 'L', 'N']  }"
   ]
  },
  {
   "cell_type": "code",
   "execution_count": 70,
   "metadata": {},
   "outputs": [
    {
     "name": "stdout",
     "output_type": "stream",
     "text": [
      "odds= ['F', 'S']\n",
      "Backbone Path ['F', 'B', 'S']\n"
     ]
    },
    {
     "data": {
      "text/plain": [
       "[['F', 'E', 'L', 'B', 'N', 'F'], 'B', ['S', 'L', 'N', 'S']]"
      ]
     },
     "execution_count": 70,
     "metadata": {},
     "output_type": "execute_result"
    }
   ],
   "source": [
    "find_Euler_path(fig3_graph)"
   ]
  },
  {
   "cell_type": "markdown",
   "metadata": {},
   "source": [
    "#### 상기 결과 출력값은 홀수점 'F'에서 시작하여 'B', 'S' 순으로 백본 경로를 진행할 때, 각 백본 경로의 시작 노드점 'ㄹ' 에서의 순환 경로 ['F', 'E', 'L', 'B', 'N', 'F'], 백본 경로의 중간노드, 'B', 백본 경로의 종단노드 'S' 에서의 순환 경로 ['S', 'L', 'N', 'S'] 로 구성된 오일러 경로를 나타냅니다.\n",
    "![Altext](./fig11-7.png)"
   ]
  },
  {
   "cell_type": "markdown",
   "metadata": {},
   "source": [
    "## 5. 'networkx'  패키지를 활용한 그래프 문제 풀기 "
   ]
  },
  {
   "cell_type": "markdown",
   "metadata": {},
   "source": [
    "### Graph 다루는 파이썬 패키지로 'networkx' (https://networkx.github.io/) 가 있습니다.   "
   ]
  },
  {
   "cell_type": "markdown",
   "metadata": {},
   "source": [
    "'networkx' 패키지 활용 참고 자료 : http://pythonkr.github.io/pyconkr-2014/pdf/pyconkr-2014-07_networkx.pdf"
   ]
  },
  {
   "cell_type": "markdown",
   "metadata": {},
   "source": [
    "#### 이를 이용하여 그래프 문제를 풀어 봅시다."
   ]
  },
  {
   "cell_type": "code",
   "execution_count": 71,
   "metadata": {},
   "outputs": [],
   "source": [
    "import networkx as nx # networkx 패키지 임포트"
   ]
  },
  {
   "cell_type": "code",
   "execution_count": 72,
   "metadata": {},
   "outputs": [
    {
     "name": "stdout",
     "output_type": "stream",
     "text": [
      "Nodes of graph: \n",
      "['S', 'B', 'L', 'N', 'E', 'F']\n",
      "Edges of graph: \n",
      "[('S', 'L'), ('S', 'B'), ('S', 'N'), ('B', 'F'), ('B', 'L'), ('B', 'N'), ('L', 'E'), ('L', 'F'), ('L', 'N'), ('N', 'F'), ('E', 'F')]\n"
     ]
    }
   ],
   "source": [
    "G=nx.Graph()\n",
    "Nodes=['S', 'B', 'L', 'N', 'E', 'F' ]\n",
    "G.add_nodes_from(Nodes)\n",
    "\n",
    "# adding a list of edges:\n",
    "G.add_edges_from([('S', 'L'), ('S', 'B'), ('S', 'N'), ('B', 'F'), ('B', 'L'), ('B', 'N'), ('L', 'E'), ('L', 'F'), ('L', 'N'), \n",
    "                   ('N', 'F'), ('E', 'F') ])\n",
    "print(\"Nodes of graph: \")\n",
    "print(G.nodes())\n",
    "print(\"Edges of graph: \")\n",
    "print(G.edges())"
   ]
  },
  {
   "cell_type": "markdown",
   "metadata": {},
   "source": [
    "#### 'S' 노드와 연결되어 있는 노드는 아래 코드로 찾을 수 있다."
   ]
  },
  {
   "cell_type": "code",
   "execution_count": 73,
   "metadata": {
    "scrolled": true
   },
   "outputs": [
    {
     "name": "stdout",
     "output_type": "stream",
     "text": [
      "{'L': {}, 'B': {}, 'N': {}}\n"
     ]
    }
   ],
   "source": [
    "print(G['S'])"
   ]
  },
  {
   "cell_type": "markdown",
   "metadata": {},
   "source": [
    "#### 'networkx' 패키지에서 경로 찾기는 다음과 같이 찾습니다."
   ]
  },
  {
   "cell_type": "code",
   "execution_count": 74,
   "metadata": {},
   "outputs": [
    {
     "data": {
      "text/plain": [
       "[['S', 'L', 'B', 'F'],\n",
       " ['S', 'L', 'B', 'N', 'F'],\n",
       " ['S', 'L', 'E', 'F'],\n",
       " ['S', 'L', 'F'],\n",
       " ['S', 'L', 'N', 'B', 'F'],\n",
       " ['S', 'L', 'N', 'F'],\n",
       " ['S', 'B', 'F'],\n",
       " ['S', 'B', 'L', 'E', 'F'],\n",
       " ['S', 'B', 'L', 'F'],\n",
       " ['S', 'B', 'L', 'N', 'F'],\n",
       " ['S', 'B', 'N', 'L', 'E', 'F'],\n",
       " ['S', 'B', 'N', 'L', 'F'],\n",
       " ['S', 'B', 'N', 'F'],\n",
       " ['S', 'N', 'B', 'F'],\n",
       " ['S', 'N', 'B', 'L', 'E', 'F'],\n",
       " ['S', 'N', 'B', 'L', 'F'],\n",
       " ['S', 'N', 'L', 'B', 'F'],\n",
       " ['S', 'N', 'L', 'E', 'F'],\n",
       " ['S', 'N', 'L', 'F'],\n",
       " ['S', 'N', 'F']]"
      ]
     },
     "execution_count": 74,
     "metadata": {},
     "output_type": "execute_result"
    }
   ],
   "source": [
    "list(nx.all_simple_paths(G, \"S\", \"F\"))"
   ]
  },
  {
   "cell_type": "code",
   "execution_count": 75,
   "metadata": {},
   "outputs": [
    {
     "data": {
      "text/plain": [
       "20"
      ]
     },
     "execution_count": 75,
     "metadata": {},
     "output_type": "execute_result"
    }
   ],
   "source": [
    "len(list(nx.all_simple_paths(G, \"S\", \"F\")))"
   ]
  },
  {
   "cell_type": "code",
   "execution_count": 76,
   "metadata": {},
   "outputs": [
    {
     "data": {
      "text/plain": [
       "[['S', 'B', 'F'],\n",
       " ['S', 'B', 'L', 'E', 'F'],\n",
       " ['S', 'B', 'L', 'F'],\n",
       " ['S', 'B', 'L', 'N', 'F'],\n",
       " ['S', 'B', 'N', 'F'],\n",
       " ['S', 'B', 'N', 'L', 'E', 'F'],\n",
       " ['S', 'B', 'N', 'L', 'F'],\n",
       " ['S', 'L', 'B', 'F'],\n",
       " ['S', 'L', 'B', 'N', 'F'],\n",
       " ['S', 'L', 'E', 'F'],\n",
       " ['S', 'L', 'F'],\n",
       " ['S', 'L', 'N', 'B', 'F'],\n",
       " ['S', 'L', 'N', 'F'],\n",
       " ['S', 'N', 'B', 'F'],\n",
       " ['S', 'N', 'B', 'L', 'E', 'F'],\n",
       " ['S', 'N', 'B', 'L', 'F'],\n",
       " ['S', 'N', 'F'],\n",
       " ['S', 'N', 'L', 'B', 'F'],\n",
       " ['S', 'N', 'L', 'E', 'F'],\n",
       " ['S', 'N', 'L', 'F']]"
      ]
     },
     "execution_count": 76,
     "metadata": {},
     "output_type": "execute_result"
    }
   ],
   "source": [
    "paths=list(nx.all_simple_paths(G, \"S\", \"F\"))\n",
    "paths.sort()\n",
    "paths"
   ]
  },
  {
   "cell_type": "code",
   "execution_count": 77,
   "metadata": {},
   "outputs": [
    {
     "data": {
      "text/plain": [
       "True"
      ]
     },
     "execution_count": 77,
     "metadata": {},
     "output_type": "execute_result"
    }
   ],
   "source": [
    "paths==find_all_paths(graph, 'S', 'F')"
   ]
  },
  {
   "cell_type": "markdown",
   "metadata": {},
   "source": [
    "\n",
    "#### 'networkx' 패키지에서 최단 경로는 다음과 같이 찾습니다."
   ]
  },
  {
   "cell_type": "code",
   "execution_count": 78,
   "metadata": {},
   "outputs": [
    {
     "data": {
      "text/plain": [
       "['S', 'L', 'F']"
      ]
     },
     "execution_count": 78,
     "metadata": {},
     "output_type": "execute_result"
    }
   ],
   "source": [
    "nx.shortest_path(G, 'S', 'F', 'weight')"
   ]
  },
  {
   "cell_type": "markdown",
   "metadata": {},
   "source": [
    "## 실습 문제 "
   ]
  },
  {
   "cell_type": "markdown",
   "metadata": {},
   "source": [
    "###  실습 1. \n",
    "####  가중치가 없는 그래프 표현이 $G=(V,E)$ 로 주어자는 경우에, 주어진 source node 와 destination node 간의 최단 경로를 찾는 파이썬 함수를 코딩하여 보시오. \n",
    "#### 또한, 이 경우에 [그림 1]에 대하여, 노드 'E' 에서 노드 'N' 까지의 최단 경로, shortest_path 를 구하고, 출력이 \"The shortest path from node 'E' to node 'N' = shortest_path \" 로 나오도록 해보시오."
   ]
  },
  {
   "cell_type": "markdown",
   "metadata": {},
   "source": [
    "###  실습 2.\n",
    "#### 실습 1의 파이썬 함수를 활용하여, 주어진 그래프의 각 노드 간의 최단 경로를 구해보시오. 단, 2개 노드 $v_i, v_j $ 쌍에 대해서,  2 노드간의 최단 경로는 노드 $v_i $ 에서 $v_j$ 의 최단 경로만을 구하고,  $v_j $ 에서 $v_i$ 는 구하지 마시오. 즉 2개 노드 쌍 간의 최단 경로는 알파벳ㅅ이 작은 노드에서 큰 노드간의 최단 경로만을 구합니다. "
   ]
  },
  {
   "cell_type": "markdown",
   "metadata": {},
   "source": [
    "### 실습  3, 4. \n",
    "#### 다음과 같은 그래프가 주어진다고 하자.</h3>\n",
    "![Alttext](11-exer.png)"
   ]
  },
  {
   "cell_type": "markdown",
   "metadata": {},
   "source": [
    "### 실습 3.\n",
    "#### \"networkx' 파이썬 패키지를 사용하지 말고, 노드 F 에서 각 노드 B, C, D, H, G 까지의 최단 경로와 최단 거리를 구하는 파이썬 프로그래밍을 해보시오.\n"
   ]
  },
  {
   "cell_type": "markdown",
   "metadata": {},
   "source": [
    "※ 풀이조건\n",
    "<ol>\n",
    "    <li><b>직접 프로그래밍을 하여</b> 시작 노드를 F로, 도착 노드를 B, C, D, H, G 중 하나씩 설정해서 총 5개의 최단 경로와 최단 거리를 구하여 출력한다.(예: (F-B), (F-C), (F-D), (F-H), (F-G) 로, 총 5개)</li>\n",
    "    <li>최단 경로가 2개 이상일 경우 아무 것이나 1개를 택하여 출력한다.</li>\n",
    "</ol>\n",
    "<br/> ※ 제한조건\n",
    "<ol>\n",
    "    <li>5개 경로 및 거리가 모두 올바른 값이면 정답 처리 한다.</li>\n",
    "    <li>코드 내 import 문을 사용할 경우 0점 처리한다. <b>위 실습 코드 중 'from math import *'을 그대로 사용하지 않도록 주의한다.</b></li>\n",
    "</ol>\n"
   ]
  },
  {
   "cell_type": "markdown",
   "metadata": {},
   "source": [
    "### 실습 4.\n",
    "#### 그래프 이론을 공부했던 이산이는 문득 지금까지 배웠던 최단 거리 말고 최장 거리를 구하려면 어떻게 해야하는 지 궁금했다, 이를 위해 이산이는 반 친구들의 이름을 빌려 아래처럼 그래프를 그려보았다."
   ]
  },
  {
   "cell_type": "markdown",
   "metadata": {},
   "source": [
    "<b>노드 정보</b>\n",
    "<br/>'노리', '새롬', '나래', '하은', '시내', '아름', '푸름', '마루', '하랑', '진운', '영현', '이산'"
   ]
  },
  {
   "cell_type": "markdown",
   "metadata": {},
   "source": [
    "<b>엣지(거리) 정보</b>\n",
    "<br/>[('나래', '영현', 1), ('하은', '하랑', 8), ('하랑', '진운', 1), ('시내', '마루', 7), ('나래', '진운', 2), ('푸름', '하랑', 5), ('새롬', '영현', 7), ('새롬', '시내', 8), ('노리', '아름', 3), ('나래', '하은', 9), ('하은', '아름', 3), ('나래', '마루', 4), ('시내', '푸름', 6), ('하은', '시내', 3), ('노리', '시내', 4), ('푸름', '진운', 7), ('아름', '푸름', 2), ('새롬', '하랑', 7), ('푸름', '영현', 0),\n",
    " ('아름', '마루', 6), ('노리', '이산', 7), ('새롬', '나래', 1), ('하은', '마루', 10), ('나래', '아름', 1), ('아름', '이산', 10), ('노리', '하랑', 8), ('영현', '이산', 2), ('시내', '하랑', 6), ('노리', '새롬', 9), ('노리', '마루', 4), ('마루', '이산', 8), ('새롬', '푸름', 9), ('새롬', '하은', 8), ('아름', '하랑', 8), ('나래', '시내', 7), ('새롬', '마루', 3), ('노리', '진운', 4), ('아름', '영현', 9),\n",
    " ('노리', '푸름', 5), ('시내', '진운', 1), ('새롬', '이산', 3), ('나래', '이산', 4), ('시내', '이산', 4), ('하은', '이산', 10)]"
   ]
  },
  {
   "cell_type": "markdown",
   "metadata": {},
   "source": [
    "![prob4](fig11-prob4.png)"
   ]
  },
  {
   "cell_type": "markdown",
   "metadata": {},
   "source": [
    "<br/>위 그래프에서 각 노드 간 엣지는 친구 관계를 나타내며 거리 값은 친밀도를 나타낸다. (높을수록 서로 더 친밀하다)\n",
    "<br/>이산이는 최대 2명의 친구를 거쳐 새로운 친구를 소개받고 싶다고 했을 때 서로 서로 매우 친한 사이였으면 좋겠다고 생각했다.\n",
    "<br/>현재 이산이와 친구 관계를 맺지 않은 반 친구들을 찾고 어떤 친구에게 소개를 받아야 하는 지 파이썬 프로그래밍을 통해 구하시오."
   ]
  },
  {
   "cell_type": "markdown",
   "metadata": {},
   "source": [
    "하은이에게 진운이를 소개할 경우 출력 예시는 아래와 같다.\n",
    "<br/><b>\"하은에게 진운을 소개하려면 ['새롬', '푸름'] 를 거쳐야 한다. 이때 친밀도(거리값)는 24 으로 가장 높다.\"</b>"
   ]
  },
  {
   "cell_type": "markdown",
   "metadata": {},
   "source": [
    "※ 풀이조건\n",
    "<ol>\n",
    "    <li>시작 노드를 '이산'으로, 도착 노드들을 '이산과 친구 관계가 아닌' 노드로 하고 각 도착 노드에 대해 어떤 친구를 거쳐 소개를 받아야 하는 지 출력한다.</li>\n",
    "    <li><b>최대 2명</b>의 친구를 거쳐야 하며, 친구 관계가 아닌 친구를 거쳐서 소개를 받을 수 없다.</li>\n",
    "</ol>\n",
    "<br/> ※ 제한조건\n",
    "<ol>\n",
    "    <li>이산이와 친구 관계가 아닌 친구들을 찾을 때 반드시 프로그래밍을 통해 찾을 필요는 없다.</li>\n",
    "    <li>2명보다 많은 친구들을 거칠 경우 0.5점 감점한다.</li>\n",
    "    <li>기타 제한은 없다.(라이브러리 자유롭게 사용)</li>\n",
    "</ol>\n"
   ]
  }
 ],
 "metadata": {
  "kernelspec": {
   "display_name": "Python 3",
   "language": "python",
   "name": "python3"
  },
  "language_info": {
   "codemirror_mode": {
    "name": "ipython",
    "version": 3
   },
   "file_extension": ".py",
   "mimetype": "text/x-python",
   "name": "python",
   "nbconvert_exporter": "python",
   "pygments_lexer": "ipython3",
   "version": "3.6.5"
  }
 },
 "nbformat": 4,
 "nbformat_minor": 2
}
