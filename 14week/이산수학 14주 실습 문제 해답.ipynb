{
 "cells": [
  {
   "cell_type": "markdown",
   "metadata": {},
   "source": [
    "## 실습1:"
   ]
  },
  {
   "cell_type": "markdown",
   "metadata": {},
   "source": [
    "####  다음  [그림 6] 의 트리를 읽어,  [그림 4] 의 균형 이진 탐색 트리로 변환하고자 한다. 다음에 답하시오.  \n",
    "![Altext](fig14-6.png)"
   ]
  },
  {
   "cell_type": "markdown",
   "metadata": {},
   "source": [
    "### (a). [그림 6] 의 3-ary 트리를 생성하는 파이썬 코드를 작성해 보시오. "
   ]
  },
  {
   "cell_type": "code",
   "execution_count": 1,
   "metadata": {},
   "outputs": [],
   "source": [
    "class M_ary_Node_Traversal2:\n",
    "  # 노드 object 생성 초기화\n",
    "    def __init__(self, data, m=2, distance=0): \n",
    "\n",
    "        self.children=[]   # 자식 노드(자식 서브트리)들 리스트\n",
    "        self.m_ary=m  # 최대 허용 자식 노드  갯수  \n",
    "        self.value = [data, distance]   # 자신(루트노드) 데이터 값(data) 및 루트노드로부터의 거리 distance 설정 \n",
    "  \n",
    "  # 자식 노드 갯수를 넘지 않는 범위에서 자식 노드를 생성하고 삽입 새 데이터 값을 노드 데이터값 으로 셋팅       \n",
    "    def add_child(self, data, m=2, distance=1):  # interval_distance ; 부모노드로부터 자식노드까지의 거리        \n",
    "        #print(\"data1={}, m1={}\".format(data,m))\n",
    "        #print(\"self.value=\", self.value)\n",
    "        queue=[]\n",
    "        queue.append(self)\n",
    "        while queue:\n",
    "            current_exploring_node=queue.pop(0)            \n",
    "            if current_exploring_node.value!=None:    \n",
    "            #print(\"data2={}, m2={}\".format(data,m))\n",
    "                if len(current_exploring_node.children)< current_exploring_node.m_ary:           \n",
    "                    current_exploring_node.children.append(M_ary_Node_Traversal2(data, m, current_exploring_node.value[1]+ distance))                \n",
    "                    return \n",
    "                else: # 최대 허용 자식 노드 갯수를 넘었을 경우, 손자 노드를 생성\n",
    "                    for i in range(current_exploring_node.m_ary):                   \n",
    "                         \n",
    "                        if (len(current_exploring_node.children[i].children)< current_exploring_node.children[i].m_ary):                            \n",
    "                            current_exploring_node.children[i].children.append(M_ary_Node_Traversal2(data, m, current_exploring_node.children[i].value[1]+distance))\n",
    "                            return \n",
    "                        queue.append(current_exploring_node.children[i])                \n",
    "            else:           \n",
    "                current_exploring_node.value = [data, distance]\n",
    "        return \n",
    "    def remove_child(self, data):\n",
    "        queue=[]        \n",
    "        queue.append(self)\n",
    "        while queue:\n",
    "            test=queue.pop(0)               \n",
    "            for i, node in enumerate(test.children):                \n",
    "                if node.value[0]==data:                     \n",
    "                    test.children.pop(i)\n",
    "                    if test.children==[]:\n",
    "                        del(test) \n",
    "                    return 1\n",
    "                queue.append(node)\n",
    "            \n",
    "        return None\n",
    "    def remove_all(self):      #자식 노드를 추가하지 않은 처음 루트노드 생성때로 돌아 감    \n",
    "        if self.children==[]:           \n",
    "            return \n",
    "        for node in self.children:           \n",
    "            node.remove_all()\n",
    "            #잎새 노도들 제거\n",
    "            del(node.children)\n",
    "            del(node.m_ary)\n",
    "            del(node.value)\n",
    "            del(node)\n",
    "        self.children=[]   #자식 잎새노드들이 제거되었으면 부모 노드 가 자식이 없으므로 초기화   \n",
    "        return\n",
    "# 트리 노드 값들을 'preorder' 형식으로 출력 ('preorder' 형식은 깊이 우선 탐색임)\n",
    "    def PrintTree(self):\n",
    "        if self:\n",
    "            print(self.value)\n",
    "        for i in range(len(self.children)):         \n",
    "            if self.children[i]:                \n",
    "                self.children[i].PrintTree()      \n",
    "# 이제, 트리 순회에 대해 살펴보자\n",
    "# Preorder traversal ; Root -> Left ->Right\n",
    "    def PreorderTraversal(self):\n",
    "        res = []\n",
    "        if self:\n",
    "            res.append(self.value[0])\n",
    "            for i in range(len(self.children)):\n",
    "                if self.children[i]:\n",
    "                    res = res + self.children[i].PreorderTraversal()\n",
    "        return res\n",
    "\n",
    "# Postorder traversal ; Left ->Right -> Root\n",
    "    def PostorderTraversal(self):\n",
    "        res = []\n",
    "        if self:\n",
    "            for i in range(len(self.children)):\n",
    "                if self.children[i]:    \n",
    "                    res = res + self.children[i].PostorderTraversal()\n",
    "            res.append(self.value[0])\n",
    "        return res    \n",
    "\n",
    "# Inorder traversal ; Left -> Root -> Right\n",
    "    def InorderTraversal(self):\n",
    "        res = []\n",
    "        if self:            \n",
    "            if len(self.children)!=0:           \n",
    "                res = res + self.children[0].InorderTraversal()\n",
    "            res.append(self.value[0])\n",
    "            for i in range(1, len(self.children)):\n",
    "                if self.children[i]:\n",
    "                    res = res + self.children[i].InorderTraversal()\n",
    "            \n",
    "        return res                    "
   ]
  },
  {
   "cell_type": "code",
   "execution_count": 2,
   "metadata": {},
   "outputs": [],
   "source": [
    "Mary6 = M_ary_Node_Traversal2('a', 3)\n",
    "Mary6.add_child('b', 3)\n",
    "Mary6.add_child('c', 0)\n",
    "Mary6.add_child('d', 3)\n",
    "Mary6.add_child('e',3)\n",
    "Mary6.add_child('f', 0)\n",
    "Mary6.add_child('g',1)\n",
    "Mary6.add_child('h', 1)\n",
    "Mary6.add_child('i', 0)\n",
    "Mary6.add_child('j')\n",
    "Mary6.add_child('k', 0)\n",
    "Mary6.add_child('l', 0)\n",
    "Mary6.add_child('m',0)\n",
    "Mary6.add_child('n')\n",
    "Mary6.add_child('o', 0)  \n",
    "Mary6.add_child('p', 1)\n",
    "Mary6.add_child('q', 0)\n",
    "Mary6.add_child('r', 0)\n",
    "Mary6.add_child('s', 0)"
   ]
  },
  {
   "cell_type": "code",
   "execution_count": 3,
   "metadata": {},
   "outputs": [
    {
     "data": {
      "text/plain": [
       "19"
      ]
     },
     "execution_count": 3,
     "metadata": {},
     "output_type": "execute_result"
    }
   ],
   "source": [
    "len(Mary6.PreorderTraversal())"
   ]
  },
  {
   "cell_type": "markdown",
   "metadata": {},
   "source": [
    "### (b). [그림 6]의 3-ary 트리의 깊이(높이)가 4이다. 이를 '균형 이진 탐색 트리'(BBST)로 변형하는 경우에, BBST 의 깊이를 계산하는 파이썬 코드를 작성해 보시오. "
   ]
  },
  {
   "cell_type": "code",
   "execution_count": 4,
   "metadata": {},
   "outputs": [],
   "source": [
    "from math import *\n",
    "\n",
    "def depth_of_BBST(nodes): #\n",
    "    m=len(nodes)\n",
    "    return ceil(log2(m+1)-1)"
   ]
  },
  {
   "cell_type": "code",
   "execution_count": 5,
   "metadata": {},
   "outputs": [
    {
     "data": {
      "text/plain": [
       "4"
      ]
     },
     "execution_count": 5,
     "metadata": {},
     "output_type": "execute_result"
    }
   ],
   "source": [
    "depth_of_BBST(Mary6.PreorderTraversal())"
   ]
  },
  {
   "cell_type": "markdown",
   "metadata": {},
   "source": [
    "### (b). [그림 6]의 3-ary 트리의 깊이(높이)가 4이다. 이를 '균형 이진 탐색 트리'(BBST)로 변형하는 경우에, 해당 BBST를 생성하는 파이썬 코드를 작성해 보시오"
   ]
  },
  {
   "cell_type": "code",
   "execution_count": 6,
   "metadata": {},
   "outputs": [],
   "source": [
    "class BTree_Node_Traversal:\n",
    "   # object 생성 초기화\n",
    "    def __init__(self, data):\n",
    "        self.parent = None\n",
    "        self.left = None   # 왼쪽 서브트리 루트 노드값 설정\n",
    "        self.right = None  # 오른쪽 서브트리 루트 노그값 설정 \n",
    "        self.data = data   # 루트 노드 값  설정 \n",
    "\n",
    "  # 삽입되는 새 값을  왼쪽 서브트리의 루트 노드값  또는 오른쪽 서브트리  루트노트값과 비교하여  적절한 위치에  노드를 생성하고 삽입 새 데이터 값을 \n",
    "  # 노드값 으로 셋팅       \n",
    "    def insert(self, data):\n",
    "        if self.data:\n",
    "            if data < self.data:\n",
    "                if self.left is None:\n",
    "                    self.left = BTree_Node_Traversal(data) ####\n",
    "                else:\n",
    "                    self.left.insert(data)                                        \n",
    "            elif data > self.data:\n",
    "                if self.right is None:\n",
    "                    self.right = BTree_Node_Traversal(data) ####\n",
    "                else:\n",
    "                    self.right.insert(data)                    \n",
    "        else:\n",
    "            self.data = data\n",
    "            self.parent=self\n",
    "    def search(self, data, explored=[]): \n",
    "        explored.append(self.data)       \n",
    "        if data < self.data:\n",
    "            if self.left==None:\n",
    "                return print(\"The tree does not have  the item({})\".format(data))                      \n",
    "            else:\n",
    "                    self.left.search(data, explored)\n",
    "        elif data > self.data:\n",
    "            if self.right == None:\n",
    "                return print(\"The tree does not have  the item({})\".format(data))                      \n",
    "            else:\n",
    "                self.right.search(data, explored)\n",
    "        else:         \n",
    "            return print(explored)\n",
    "# 트리 노드 값들을 프린팅\n",
    "    def PrintTree(self):\n",
    "        if self.left:\n",
    "            self.left.PrintTree()\n",
    "        print( self.data),\n",
    "        if self.right:\n",
    "            self.right.PrintTree()\n",
    "            \n",
    "          \n",
    " # Preorder traversal\n",
    "# Root -> Left ->Right\n",
    "    def PreorderTraversal(self):\n",
    "        res = []\n",
    "        if self:\n",
    "            res.append(self.data)\n",
    "            if self.left:\n",
    "                res = res + self.left.PreorderTraversal()\n",
    "            if self.right:    \n",
    "                res = res + self.right.PreorderTraversal()\n",
    "        return res\n",
    "\n",
    "# Postorder traversal\n",
    "# Left ->Right -> Root\n",
    "    def PostorderTraversal(self):\n",
    "        res = []\n",
    "        if self:\n",
    "            if self.left:\n",
    "                res = self.left.PostorderTraversal()\n",
    "            if self.right:    \n",
    "                res = res + self.right.PostorderTraversal()\n",
    "            res.append(self.data)\n",
    "        return res    \n",
    "\n",
    "# Inorder traversal\n",
    "# Left -> Root -> Right\n",
    "    def InorderTraversal(self):\n",
    "        res = []\n",
    "        if self:\n",
    "            if self.left:\n",
    "                res = self.left.InorderTraversal()\n",
    "            res.append(self.data)\n",
    "            if self.right:\n",
    "                res = res + self.right.InorderTraversal()\n",
    "        return res    "
   ]
  },
  {
   "cell_type": "code",
   "execution_count": 7,
   "metadata": {},
   "outputs": [],
   "source": [
    "from math import *\n",
    "\n",
    "def depth_of_BBST(nodes): #\n",
    "    m=len(nodes)\n",
    "    return ceil(log2(m+1)-1)\n",
    "\n",
    "def num_tree_nodes(depth):\n",
    "    return 2**(depth+1)-1\n",
    "\n",
    "def Select_from_BST_list(node_list): # node_list; 트리의 노드 리스트\n",
    "    number=len(node_list) # 트리 노드 갯수 \n",
    "    node_list.sort()   # 트리 노드를  정렬함 \n",
    "    \n",
    "    #정렬된 노드 리스트들로부터 균형 이진 탐색 트리구성을 위해, 트리 노드값 중 중앙값을 찾아 루트에 배치 \n",
    "    bst=[] #균평 트리 노드 리스트\n",
    "    start=0\n",
    "    if number< 1:\n",
    "        return bst\n",
    "    end= number-1\n",
    "    middle=(end-start+1)//2 # middle= 중앙 위치값 \n",
    "    bst.append(node_list[middle]) # 중앙 위치의 노드 값이  먼저  균형 트리 노드 리스트에 등록 \n",
    "    left=node_list[start:middle]    \n",
    "    right=node_list[middle+1:end+1]    \n",
    "    left_number = number//2\n",
    "    if number%2==0:\n",
    "        right_number=number//2 -1\n",
    "    else: \n",
    "        right_number=number//2 \n",
    "    \n",
    "    bst+=Select_from_BST_list(left)    \n",
    "    bst+=Select_from_BST_list(right)\n",
    " #   if len(bst)==number:\n",
    " #       return bst\n",
    "    return bst\n",
    "\n",
    "\n",
    "def To_BST(sel_node_list):\n",
    "    bst_root=BTree_Node_Traversal(sel_node_list[0])\n",
    "    for i in sel_node_list[1:]:\n",
    "        bst_root.insert(i)\n",
    "    return bst_root\n"
   ]
  },
  {
   "cell_type": "code",
   "execution_count": 8,
   "metadata": {},
   "outputs": [],
   "source": [
    "sel_lst6=Select_from_BST_list(Mary6.PreorderTraversal())\n",
    "bst6=To_BST(sel_lst6)"
   ]
  },
  {
   "cell_type": "code",
   "execution_count": 9,
   "metadata": {},
   "outputs": [
    {
     "data": {
      "text/plain": [
       "['j',\n",
       " 'e',\n",
       " 'c',\n",
       " 'b',\n",
       " 'a',\n",
       " 'd',\n",
       " 'h',\n",
       " 'g',\n",
       " 'f',\n",
       " 'i',\n",
       " 'o',\n",
       " 'm',\n",
       " 'l',\n",
       " 'k',\n",
       " 'n',\n",
       " 'r',\n",
       " 'q',\n",
       " 'p',\n",
       " 's']"
      ]
     },
     "execution_count": 9,
     "metadata": {},
     "output_type": "execute_result"
    }
   ],
   "source": [
    "sel_lst6"
   ]
  },
  {
   "cell_type": "markdown",
   "metadata": {},
   "source": [
    "### (c)  생성한 '균형 이진 탐색 트리(BBST)'에 대해 Inorder 순회로 하는 경우에 , 알파벳순으로 출력됨을 보이시오."
   ]
  },
  {
   "cell_type": "code",
   "execution_count": 10,
   "metadata": {},
   "outputs": [
    {
     "data": {
      "text/plain": [
       "['a',\n",
       " 'b',\n",
       " 'c',\n",
       " 'd',\n",
       " 'e',\n",
       " 'f',\n",
       " 'g',\n",
       " 'h',\n",
       " 'i',\n",
       " 'j',\n",
       " 'k',\n",
       " 'l',\n",
       " 'm',\n",
       " 'n',\n",
       " 'o',\n",
       " 'p',\n",
       " 'q',\n",
       " 'r',\n",
       " 's']"
      ]
     },
     "execution_count": 10,
     "metadata": {},
     "output_type": "execute_result"
    }
   ],
   "source": [
    "bst6.InorderTraversal()"
   ]
  },
  {
   "cell_type": "markdown",
   "metadata": {},
   "source": [
    "### (d) 상기 생성된  '균형 이진 탐색 트리(BBST)'를 NetworkX를 사용하여 그려보시오. "
   ]
  },
  {
   "cell_type": "code",
   "execution_count": 11,
   "metadata": {},
   "outputs": [],
   "source": [
    "def edges_in_tree(tree, edges=[]):\n",
    "    if tree.data == None:\n",
    "        return  []    \n",
    "    edges, left_edges, right_edges = list(), list(), list() \n",
    "\n",
    "    if tree.left != None:            \n",
    "        edges.append((tree.data, tree.left.data))\n",
    "        left_edges= edges_in_tree(tree.left, edges)        \n",
    "    if tree.right != None:       \n",
    "        edges.append((tree.data, tree.right.data))\n",
    "        right_edges=edges_in_tree(tree.right, edges)\n",
    "        \n",
    "    return edges + left_edges + right_edges"
   ]
  },
  {
   "cell_type": "code",
   "execution_count": 12,
   "metadata": {},
   "outputs": [
    {
     "data": {
      "text/plain": [
       "[('j', 'e'),\n",
       " ('j', 'o'),\n",
       " ('e', 'c'),\n",
       " ('e', 'h'),\n",
       " ('c', 'b'),\n",
       " ('c', 'd'),\n",
       " ('b', 'a'),\n",
       " ('h', 'g'),\n",
       " ('h', 'i'),\n",
       " ('g', 'f'),\n",
       " ('o', 'm'),\n",
       " ('o', 'r'),\n",
       " ('m', 'l'),\n",
       " ('m', 'n'),\n",
       " ('l', 'k'),\n",
       " ('r', 'q'),\n",
       " ('r', 's'),\n",
       " ('q', 'p')]"
      ]
     },
     "execution_count": 12,
     "metadata": {},
     "output_type": "execute_result"
    }
   ],
   "source": [
    "edges_in_tree(bst6)"
   ]
  },
  {
   "cell_type": "code",
   "execution_count": 13,
   "metadata": {},
   "outputs": [],
   "source": [
    "import networkx as nx\n",
    "import matplotlib.pyplot as plt"
   ]
  },
  {
   "cell_type": "code",
   "execution_count": 14,
   "metadata": {},
   "outputs": [],
   "source": [
    "def draw_balanced_binary_search_tree(BBT_tree, pos = None) :\n",
    "    G = nx.Graph()\n",
    "    nodes = BBT_tree.InorderTraversal()\n",
    "    edges = edges_in_tree(BBT_tree)\n",
    "   \n",
    "    G.add_nodes_from(nodes)\n",
    "    G.add_edges_from(edges)\n",
    "\n",
    "    \n",
    "    plt.figure(figsize=(10, 10))\n",
    "    \n",
    "    nx.draw_networkx_nodes(G, pos=pos, node_size=2000, node_color=\"g\",)\n",
    "    nx.draw_networkx_edges(G, pos=pos)\n",
    "    nx.draw_networkx_labels(G, pos=pos, font_size=30)\n",
    "    plt.show()"
   ]
  },
  {
   "cell_type": "code",
   "execution_count": 15,
   "metadata": {},
   "outputs": [
    {
     "data": {
      "image/png": "[encoded data removed]",
      "text/plain": [
       "<Figure size 720x720 with 1 Axes>"
      ]
     },
     "metadata": {},
     "output_type": "display_data"
    }
   ],
   "source": [
    "pos = {'a':(-3.5, 0), 'b':(-3,1), 'c':(-2.5, 2), 'd':(-2.1,1), 'e':(-2, 3), 'f':(-1.8, 0), 'g':(-1.4, 1), 'h':(-1.0, 2), 'i':(-0.6,1), 'j':(0,4), 'k':(-0.3, 0),\n",
    "      'l':(0.5, 1),'m':(1,2),'n':(1.3, 1),'o':(2,3),'p':(1.5, 0),'q':(2.2, 1),'r':(2.5, 2), 's':(3,1)}\n",
    "draw_balanced_binary_search_tree(bst6, pos) "
   ]
  },
  {
   "cell_type": "markdown",
   "metadata": {},
   "source": [
    "## 실습 2:\n",
    "### (a) 너비 우선 탐색으로 주어진 그래프에서 주어진 소스 노드에서의 신장 트리 하나를 찾는 파이썬 코드를 작성하시오. "
   ]
  },
  {
   "cell_type": "code",
   "execution_count": 16,
   "metadata": {},
   "outputs": [],
   "source": [
    "import copy\n",
    "def find_SpanningTree_by_bfs(graph, start, edges=[]): \n",
    "    graph_nodes= list(graph.keys())\n",
    "    explored, edges, queue = list(), list(), [start]\n",
    "    explored.append(start)\n",
    "    while queue: #탐색할 큐에 노드가 있는 한 계속 수행  \n",
    "        v = queue.pop(0)  # 큐에서  FIFO 순으로 큐의 제일앞에 있는 노드을  뽑음\n",
    "        for w in graph[v]:   #현재 노드 v 의 인접 모드들에 대해 for looping        \n",
    "            if w not in explored:                \n",
    "                explored.append(w) #현 노드가 순회되지 않았으면 현 노드를 순회된 리스트에 등록               \n",
    "                if (v,w) not in edges and (w,v) not in edges:              #if (v,w) not in edges :    \n",
    "                    edges.append((v, w))\n",
    "                    if len(edges)==len(graph) and explored.sort()==graph_nodes:\n",
    "                        return edges  \n",
    "                    #else: edges.pop(-1)\n",
    "                queue.append(w) # 다음 레벨 탐색을 위해  큐에 해당 노드 를 저장함\n",
    "    return edges"
   ]
  },
  {
   "cell_type": "markdown",
   "metadata": {},
   "source": [
    "### (b) 상기 너비우선 탐색 기반 신장트리 검출 파이썬 코드를 이용하여 [그림 5] 의 그래프에서 노드 \"S\" 에서 출발하는 신장 트리를 하나 구해 보시오."
   ]
  },
  {
   "cell_type": "code",
   "execution_count": 17,
   "metadata": {},
   "outputs": [
    {
     "data": {
      "text/plain": [
       "{'B': ['F', 'L', 'N', 'S'],\n",
       " 'E': ['F', 'L'],\n",
       " 'F': ['B', 'E', 'L', 'N'],\n",
       " 'L': ['B', 'E', 'F', 'S'],\n",
       " 'N': ['B', 'F', 'S'],\n",
       " 'S': ['B', 'L', 'N']}"
      ]
     },
     "execution_count": 17,
     "metadata": {},
     "output_type": "execute_result"
    }
   ],
   "source": [
    "graph5 = {\n",
    "       'B': ['F', 'L', 'N', 'S'],\n",
    "       'E': ['F', 'L'],\n",
    "       'F': ['B', 'E', 'L', 'N'],  \n",
    "       'L': ['B', 'E', 'F', 'S'],\n",
    "       'N': ['B', 'F', 'S'],\n",
    "       'S': ['B', 'L', 'N']}\n",
    "graph5"
   ]
  },
  {
   "cell_type": "code",
   "execution_count": 18,
   "metadata": {},
   "outputs": [
    {
     "data": {
      "text/plain": [
       "[('S', 'B'), ('S', 'L'), ('S', 'N'), ('B', 'F'), ('L', 'E')]"
      ]
     },
     "execution_count": 18,
     "metadata": {},
     "output_type": "execute_result"
    }
   ],
   "source": [
    "find_SpanningTree_by_bfs(graph5, 'S') "
   ]
  },
  {
   "cell_type": "markdown",
   "metadata": {},
   "source": [
    "### (c) 상기 너비우선 탐색 기반 신장트리 검출 파이썬 코드를 이용하여,  교과서 예제 Fig. 6 의 그래프에서 노드 \"f' 에서 출발하는 신장 트리를 구해 보시오."
   ]
  },
  {
   "cell_type": "code",
   "execution_count": 19,
   "metadata": {},
   "outputs": [
    {
     "data": {
      "text/plain": [
       "{'a': ['c'],\n",
       " 'b': ['c'],\n",
       " 'c': ['a', 'b', 'e'],\n",
       " 'd': ['e', 'f'],\n",
       " 'e': ['c', 'd', 'f'],\n",
       " 'f': ['d', 'e', 'g', 'h'],\n",
       " 'g': ['f', 'h'],\n",
       " 'h': ['f', 'g', 'i', 'k'],\n",
       " 'i': ['h'],\n",
       " 'j': ['k'],\n",
       " 'k': ['h', 'j']}"
      ]
     },
     "execution_count": 19,
     "metadata": {},
     "output_type": "execute_result"
    }
   ],
   "source": [
    "graph6 = {\n",
    "       'a': ['c'],\n",
    "       'b': ['c'],\n",
    "       'c': ['a', 'b', 'e'],\n",
    "       'd': ['e', 'f'],  \n",
    "       'e': ['c', 'd', 'f'],\n",
    "       'f': ['d', 'e', 'g', 'h'],\n",
    "       'g': ['f', 'h'],\n",
    "       'h': ['f', 'g', 'i', 'k'], \n",
    "       'i': ['h'],\n",
    "       'j': ['k'],\n",
    "       'k': ['h', 'j']    \n",
    "      }\n",
    "graph6"
   ]
  },
  {
   "cell_type": "code",
   "execution_count": 20,
   "metadata": {},
   "outputs": [
    {
     "data": {
      "text/plain": [
       "[('f', 'd'),\n",
       " ('f', 'e'),\n",
       " ('f', 'g'),\n",
       " ('f', 'h'),\n",
       " ('e', 'c'),\n",
       " ('h', 'i'),\n",
       " ('h', 'k'),\n",
       " ('c', 'a'),\n",
       " ('c', 'b'),\n",
       " ('k', 'j')]"
      ]
     },
     "execution_count": 20,
     "metadata": {},
     "output_type": "execute_result"
    }
   ],
   "source": [
    "find_SpanningTree_by_bfs(graph6, 'f') "
   ]
  },
  {
   "cell_type": "markdown",
   "metadata": {},
   "source": [
    "아래 그림처럼 엣지 정보가 일치함을 알 수 있다."
   ]
  },
  {
   "cell_type": "markdown",
   "metadata": {},
   "source": [
    "![Alttext](fig14_sol3.png)"
   ]
  }
 ],
 "metadata": {
  "kernelspec": {
   "display_name": "Python 3",
   "language": "python",
   "name": "python3"
  },
  "language_info": {
   "codemirror_mode": {
    "name": "ipython",
    "version": 3
   },
   "file_extension": ".py",
   "mimetype": "text/x-python",
   "name": "python",
   "nbconvert_exporter": "python",
   "pygments_lexer": "ipython3",
   "version": "3.8.3"
  }
 },
 "nbformat": 4,
 "nbformat_minor": 2
}
