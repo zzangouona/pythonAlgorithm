{
 "cells": [
  {
   "cell_type": "markdown",
   "metadata": {},
   "source": [
    "###  실습 1: \n",
    "#### 1(a) 상기 M-ary 트리 클래스, \" M_ary_Node\"  클래스로 구성된 M-ary Tree 의 깊이를 구하는 파이썬 코드를 프로그래밍하여 보시오."
   ]
  },
  {
   "cell_type": "code",
   "execution_count": 1,
   "metadata": {},
   "outputs": [],
   "source": [
    "class M_ary_Node:\n",
    "  # 노드 object 생성 초기화\n",
    "    def __init__(self, data, m=2, distance=0): \n",
    "\n",
    "        self.children=[]   # 자식 노드(자식 서브트리)들 리스트\n",
    "        self.m_ary=m  # 최대 허용 자식 노드  갯수  \n",
    "        self.value = [data, distance]   # 자신(루트노드) 데이터 값(data) 및 루트노드로부터의 거리 distance 설정 \n",
    "  \n",
    "  # 자식 노드 갯수를 넘지 않는 범위에서 자식 노드를 생성하고 삽입 새 데이터 값을 노드 데이터값 으로 셋팅       \n",
    "    def add_child(self, data, m=2, distance=1):  # interval_distance ; 부모노드로부터 자식노드까지의 거리        \n",
    "        #print(\"data1={}, m1={}\".format(data,m))\n",
    "        #print(\"self.value=\", self.value)\n",
    "        queue=[]\n",
    "        queue.append(self)\n",
    "        while queue:\n",
    "            current_exploring_node=queue.pop(0)            \n",
    "            if current_exploring_node.value!=None:    \n",
    "            #print(\"data2={}, m2={}\".format(data,m))\n",
    "                if len(current_exploring_node.children)< current_exploring_node.m_ary:           \n",
    "                    current_exploring_node.children.append(M_ary_Node(data, m, current_exploring_node.value[1]+ distance))                \n",
    "                    return \n",
    "                else: # 최대 허용 자식 노드 갯수를 넘었을 경우, 손자 노드를 생성\n",
    "                    for i in range(current_exploring_node.m_ary):                   \n",
    "                         \n",
    "                        if (len(current_exploring_node.children[i].children)< current_exploring_node.children[i].m_ary):                            \n",
    "                            current_exploring_node.children[i].children.append(M_ary_Node(data, m, current_exploring_node.children[i].value[1]+distance))\n",
    "                            return \n",
    "                        queue.append(current_exploring_node.children[i])                \n",
    "            else:           \n",
    "                current_exploring_node.value = [data, distance]\n",
    "        return \n",
    "    def remove_child(self, data):\n",
    "        queue=[]        \n",
    "        queue.append(self)\n",
    "        while queue:\n",
    "            test=queue.pop(0)               \n",
    "            for i, node in enumerate(test.children):                \n",
    "                if node.value[0]==data:                     \n",
    "                    test.children.pop(i)\n",
    "                    if test.children==[]:\n",
    "                        del(test) \n",
    "                    return 1\n",
    "                queue.append(node)\n",
    "            \n",
    "        return None\n",
    "    def remove_all(self):      #자식 노드를 추가하지 않은 처음 루트노드 생성때로 돌아 감    \n",
    "        if self.children==[]:           \n",
    "            return \n",
    "        for node in self.children:           \n",
    "            node.remove_all()\n",
    "            #잎새 노도들 제거\n",
    "            del(node.children)\n",
    "            del(node.m_ary)\n",
    "            del(node.value)\n",
    "            del(node)\n",
    "        self.children=[]   #자식 잎새노드들이 제거되었으면 부모 노드 가 자식이 없으므로 초기화   \n",
    "        return\n",
    "# 트리 노드 값들을 'preorder' 형식으로 출력 ('preorder' 형식은 깊이 우선 탐색임)\n",
    "    def PrintTree(self):\n",
    "        if self:\n",
    "            print(self.value)\n",
    "        for i in range(len(self.children)):         \n",
    "            if self.children[i]:                \n",
    "                self.children[i].PrintTree()        "
   ]
  },
  {
   "cell_type": "markdown",
   "metadata": {},
   "source": [
    "#### M-ary 트리의 깊이는 상기  'M-ary_Node' 클래스를 이용하여 다음과 같은 파이썬 함수로 구할 수있습니다."
   ]
  },
  {
   "cell_type": "code",
   "execution_count": 2,
   "metadata": {},
   "outputs": [],
   "source": [
    "def M_ary_Tree_depth(root, length=0):\n",
    "    tree_depth =0   \n",
    "    p_length=0\n",
    "    if root:\n",
    "        length +=1\n",
    "    for child in root.children:    \n",
    "        p_length = M_ary_Tree_depth(child, length)        \n",
    "        if tree_depth < p_length:\n",
    "                tree_depth=p_length\n",
    "    if tree_depth < length - 1:            \n",
    "        tree_depth = length-1\n",
    "        \n",
    "    return tree_depth  "
   ]
  },
  {
   "cell_type": "markdown",
   "metadata": {},
   "source": [
    "#### 1(b) 상기에서 구한 파이썬 코드를 이용하여 [그림 1]   3진 트리의 깊이를 확인하시오. "
   ]
  },
  {
   "cell_type": "code",
   "execution_count": 3,
   "metadata": {},
   "outputs": [],
   "source": [
    "Mary_depth1 = M_ary_Node('a', 3)\n",
    "Mary_depth1.add_child('b')\n",
    "Mary_depth1.add_child('c', 0)\n",
    "Mary_depth1.add_child('d', 3)\n",
    "Mary_depth1.add_child('e')\n",
    "Mary_depth1.add_child('f', 0)\n",
    "Mary_depth1.add_child('g')\n",
    "Mary_depth1.add_child('h', 0)\n",
    "Mary_depth1.add_child('i', 0)\n",
    "Mary_depth1.add_child('j', 0)\n",
    "Mary_depth1.add_child('k', 3)\n",
    "Mary_depth1.add_child('l', 0)\n",
    "Mary_depth1.add_child('m', 2)\n",
    "Mary_depth1.add_child('n', 2)\n",
    "Mary_depth1.add_child('o', 0)  \n",
    "Mary_depth1.add_child('p', 1)\n",
    "Mary_depth1.add_child('q', 0)\n",
    "Mary_depth1.add_child('r', 0)\n",
    "Mary_depth1.add_child('s', 0)\n",
    "Mary_depth1.add_child('t', 0)\n",
    "Mary_depth1.add_child('u', 0)\n"
   ]
  },
  {
   "cell_type": "code",
   "execution_count": 4,
   "metadata": {},
   "outputs": [
    {
     "data": {
      "text/plain": [
       "5"
      ]
     },
     "execution_count": 4,
     "metadata": {},
     "output_type": "execute_result"
    }
   ],
   "source": [
    "M_ary_Tree_depth(Mary_depth1)"
   ]
  },
  {
   "cell_type": "markdown",
   "metadata": {},
   "source": [
    "#### 1(c) 상기에서 구한 파이썬 코드를 이용하여 [그림 3]  2진 트리의 깊이를 확인하시오. "
   ]
  },
  {
   "cell_type": "code",
   "execution_count": 5,
   "metadata": {},
   "outputs": [],
   "source": [
    "Mary_tree3 = M_ary_Node('j')\n",
    "Mary_tree3.add_child('e')\n",
    "Mary_tree3.add_child('l')\n",
    "Mary_tree3.add_child('b')\n",
    "Mary_tree3.add_child('h')\n",
    "Mary_tree3.add_child('k',0)\n",
    "Mary_tree3.add_child('n')\n",
    "Mary_tree3.add_child('a',0)\n",
    "Mary_tree3.add_child('d',1)\n",
    "Mary_tree3.add_child('f',1)\n",
    "Mary_tree3.add_child('i',0)\n",
    "Mary_tree3.add_child('m',0)\n",
    "Mary_tree3.add_child('o',0)\n",
    "Mary_tree3.add_child('c',0)\n",
    "Mary_tree3.add_child('g',0)"
   ]
  },
  {
   "cell_type": "code",
   "execution_count": 6,
   "metadata": {},
   "outputs": [
    {
     "data": {
      "text/plain": [
       "4"
      ]
     },
     "execution_count": 6,
     "metadata": {},
     "output_type": "execute_result"
    }
   ],
   "source": [
    "M_ary_Tree_depth(Mary_tree3)"
   ]
  },
  {
   "cell_type": "markdown",
   "metadata": {
    "collapsed": true
   },
   "source": [
    "###  실습 2: \n",
    "#### a) 상기 [그림 4] 를 preorder 로 순회했을 때, 순회되는 순서대로, postorder 로 순회했을 때 나오도록 하는 'Balanced Binary Tree'(Binary Search Tree 아님)  를 상기 'M_ary_Node_Traversal' 클래스를 이용하여 생성하시오. "
   ]
  },
  {
   "cell_type": "code",
   "execution_count": 7,
   "metadata": {},
   "outputs": [],
   "source": [
    "class M_ary_Node_Traversal:\n",
    "  # 노드 object 생성 초기화\n",
    "    def __init__(self, data, m=2, distance=0): \n",
    "\n",
    "        self.children=[]   # 자식 노드(자식 서브트리)들 리스트\n",
    "        self.m_ary=m  # 최대 허용 자식 노드  갯수  \n",
    "        self.value = [data, distance]   # 자신(루트노드) 데이터 값(data) 및 루트노드로부터의 거리 distance 설정 \n",
    "  \n",
    "  # 자식 노드 갯수를 넘지 않는 범위에서 자식 노드를 생성하고 삽입 새 데이터 값을 노드 데이터값 으로 셋팅       \n",
    "    def add_child(self, data, m=2, distance=1):  # interval_distance ; 부모노드로부터 자식노드까지의 거리        \n",
    "        #print(\"data1={}, m1={}\".format(data,m))\n",
    "        #print(\"self.value=\", self.value)\n",
    "        queue=[]\n",
    "        queue.append(self)\n",
    "        while queue:\n",
    "            current_exploring_node=queue.pop(0)            \n",
    "            if current_exploring_node.value!=None:    \n",
    "            #print(\"data2={}, m2={}\".format(data,m))\n",
    "                if len(current_exploring_node.children)< current_exploring_node.m_ary:           \n",
    "                    current_exploring_node.children.append(M_ary_Node(data, m, current_exploring_node.value[1]+ distance))                \n",
    "                    return \n",
    "                else: # 최대 허용 자식 노드 갯수를 넘었을 경우, 손자 노드를 생성\n",
    "                    for i in range(current_exploring_node.m_ary):                   \n",
    "                         \n",
    "                        if (len(current_exploring_node.children[i].children)< current_exploring_node.children[i].m_ary):                            \n",
    "                            current_exploring_node.children[i].children.append(M_ary_Node(data, m, current_exploring_node.children[i].value[1]+distance))\n",
    "                            return \n",
    "                        queue.append(current_exploring_node.children[i])                \n",
    "            else:           \n",
    "                current_exploring_node.value = [data, distance]\n",
    "        return \n",
    "    def remove_child(self, data):\n",
    "        queue=[]        \n",
    "        queue.append(self)\n",
    "        while queue:\n",
    "            test=queue.pop(0)               \n",
    "            for i, node in enumerate(test.children):                \n",
    "                if node.value[0]==data:                     \n",
    "                    test.children.pop(i)\n",
    "                    if test.children==[]:\n",
    "                        del(test) \n",
    "                    return 1\n",
    "                queue.append(node)\n",
    "            \n",
    "        return None\n",
    "    def remove_all(self):      #자식 노드를 추가하지 않은 처음 루트노드 생성때로 돌아 감    \n",
    "        if self.children==[]:           \n",
    "            return \n",
    "        for node in self.children:           \n",
    "            node.remove_all()\n",
    "            #잎새 노도들 제거\n",
    "            del(node.children)\n",
    "            del(node.m_ary)\n",
    "            del(node.value)\n",
    "            del(node)\n",
    "        self.children=[]   #자식 잎새노드들이 제거되었으면 부모 노드 가 자식이 없으므로 초기화   \n",
    "        return\n",
    "# 트리 노드 값들을 'preorder' 형식으로 출력 ('preorder' 형식은 깊이 우선 탐색임)\n",
    "    def PrintTree(self):\n",
    "        if self:\n",
    "            print(self.value)\n",
    "        for i in range(len(self.children)):         \n",
    "            if self.children[i]:                \n",
    "                self.children[i].PrintTree()      \n",
    "# 이제, 트리 순회에 대해 살펴보자\n",
    "# Preorder traversal ; Root -> Left ->Right\n",
    "    def PreorderTraversal(self, root):\n",
    "        res = []\n",
    "        if root:\n",
    "            res.append(root.value[0])\n",
    "            for i in range(len(root.children)):\n",
    "                res = res + self.PreorderTraversal(root.children[i])\n",
    "        return res\n",
    "\n",
    "# Postorder traversal ; Left ->Right -> Root\n",
    "    def PostorderTraversal(self, root):\n",
    "        res = []\n",
    "        if root:\n",
    "            for i in range(len(root.children)):\n",
    "                res = res + self.PostorderTraversal(root.children[i])\n",
    "            res.append(root.value[0])\n",
    "        return res    \n",
    "\n",
    "# Inorder traversal ; Left -> Root -> Right\n",
    "    def InorderTraversal(self, root):\n",
    "        res = []\n",
    "        if root:            \n",
    "            if len(root.children)!=0:           \n",
    "                res = res + self.InorderTraversal(root.children[0])\n",
    "            res.append(root.value[0])\n",
    "            for i in range(1, len(root.children)):\n",
    "                res = res + self.InorderTraversal(root.children[i])\n",
    "            \n",
    "        return res                    "
   ]
  },
  {
   "cell_type": "code",
   "execution_count": 8,
   "metadata": {},
   "outputs": [],
   "source": [
    "btree4 = M_ary_Node_Traversal('o')\n",
    "btree4.add_child('e')\n",
    "btree4.add_child('m')\n",
    "btree4.add_child('b')\n",
    "btree4.add_child('f')\n",
    "btree4.add_child('j')\n",
    "btree4.add_child('n')\n",
    "btree4.add_child('h',0)\n",
    "btree4.add_child('d',0)\n",
    "btree4.add_child('a',0)\n",
    "btree4.add_child('c',0)\n",
    "btree4.add_child('g',0)\n",
    "btree4.add_child('l',0)\n",
    "btree4.add_child('i',0)\n",
    "btree4.add_child('k',0)"
   ]
  },
  {
   "cell_type": "markdown",
   "metadata": {},
   "source": [
    "#### b) 생성된 트리를 바탕으로  생성된 이진 트리에 대해  'postorder'  메소드를 수행시켜 이를 확인해보시오."
   ]
  },
  {
   "cell_type": "markdown",
   "metadata": {},
   "source": [
    "![Altext](13-fig34-bst.png)"
   ]
  },
  {
   "cell_type": "code",
   "execution_count": 9,
   "metadata": {},
   "outputs": [
    {
     "name": "stdout",
     "output_type": "stream",
     "text": [
      "['o', 'e', 'b', 'h', 'd', 'f', 'a', 'c', 'm', 'j', 'g', 'l', 'n', 'i', 'k']\n",
      "['h', 'b', 'd', 'e', 'a', 'f', 'c', 'o', 'g', 'j', 'l', 'm', 'i', 'n', 'k']\n",
      "['h', 'd', 'b', 'a', 'c', 'f', 'e', 'g', 'l', 'j', 'i', 'k', 'n', 'm', 'o']\n"
     ]
    }
   ],
   "source": [
    "print(btree4.PreorderTraversal(btree4))  # root - Left- Right \n",
    "print(btree4.InorderTraversal(btree4))   # Left-root-Right \n",
    "print(btree4.PostorderTraversal(btree4)) # Left - Right - root"
   ]
  },
  {
   "cell_type": "markdown",
   "metadata": {},
   "source": [
    "####  상기 [그림 4] 를 postorder 로 순회했을 때, 순회되는 순서는 ['h', 'd', 'b', 'a', 'c', 'f', 'e', 'g', 'l', 'j', 'i', 'k', 'n', 'm', 'o'] 와 같다. "
   ]
  },
  {
   "cell_type": "code",
   "execution_count": 10,
   "metadata": {},
   "outputs": [
    {
     "name": "stdout",
     "output_type": "stream",
     "text": [
      "['h', 'd', 'b', 'a', 'c', 'f', 'e', 'g', 'l', 'j', 'i', 'k', 'n', 'm', 'o']\n"
     ]
    }
   ],
   "source": [
    "print(btree4.PostorderTraversal(btree4)) # Left - Right - root "
   ]
  }
 ],
 "metadata": {
  "kernelspec": {
   "display_name": "Python 3",
   "language": "python",
   "name": "python3"
  },
  "language_info": {
   "codemirror_mode": {
    "name": "ipython",
    "version": 3
   },
   "file_extension": ".py",
   "mimetype": "text/x-python",
   "name": "python",
   "nbconvert_exporter": "python",
   "pygments_lexer": "ipython3",
   "version": "3.8.3"
  }
 },
 "nbformat": 4,
 "nbformat_minor": 2
}
