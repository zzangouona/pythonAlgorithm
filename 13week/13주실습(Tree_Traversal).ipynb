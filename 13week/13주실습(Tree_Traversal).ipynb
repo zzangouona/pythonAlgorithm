{
 "cells": [
  {
   "cell_type": "markdown",
   "metadata": {},
   "source": [
    "# Chapter 11. Tree\n",
    "#### 본 실습에서는 'M-ary Tree' 생성 및 'Tree traversal algorithms(트리 순회 알고리즘)' 인  'preorder', 'inorder', 'postorder'  방법의 파이썬 구현에 대해 학습합니다."
   ]
  },
  {
   "cell_type": "markdown",
   "metadata": {},
   "source": [
    "## 1. 트리 표현 및 생성 \n",
    "####   M-ary 트리(자식 노드 갯수가 최대 m개인 트리) 생성 및 관리를 위해서 클래스를 고려하는 게 편리합니다. 이는 트리가 하나의 객체로써 내부적으로는 루트노드를 비롯한 내부노드, 잎새노드들을 갖는데, 내부노드 및 잎새노드를 루트로 하는 트리는 서브트리로써 원래 트리 타입과 같은 자료구조를 가지므로, 트리를 클래스로 설계하면 서브트리도 동일한 클래스로 설계되므로 유용합니다. \n",
    "#### 다음의 Python 클래스  'M-ary_Node' 를 검토하여 봅시다.        'M-ary_Node'  클래스는 자신(루트 노드) 데이터 ,  'Node' 클래스 타입의 자식 노드들 리스트, 자식 노드 최대 허용 갯수 등을  속성으로 가집니다. 자식 노드들은  'M-ary_Node'  클래스 타입이므로, 결국 자식노드들은 자신을 루트로 하는 서브트리를 갖을 수있게 됩니다.   'M-ary_Node'  클래스 타입 객체 생성 초기화, 노드 삽입, 노드 제거,  삽입된 모든 자식 노드 삭제 shem wprj, 트리내의 각 노드 프린팅 등을 메소드로 갖습니다.   "
   ]
  },
  {
   "cell_type": "code",
   "execution_count": 170,
   "metadata": {},
   "outputs": [],
   "source": [
    "class M_ary_Node:\n",
    "  # 노드 object 생성 초기화\n",
    "    def __init__(self, data, m=2, distance=0): \n",
    "\n",
    "        self.children=[]   # 자식 노드(자식 서브트리)들 리스트\n",
    "        self.m_ary=m  # 최대 허용 자식 노드  갯수  \n",
    "        self.value = [data, distance]   # 자신(루트노드) 데이터 값(data) 및 루트노드로부터의 거리 distance 설정 \n",
    "  \n",
    "  # 자식 노드 갯수를 넘지 않는 범위에서 자식 노드를 생성하고 삽입 새 데이터 값을 노드 데이터값 으로 셋팅       \n",
    "    def add_child(self, data, m=2, distance=1):  # interval_distance ; 부모노드로부터 자식노드까지의 거리        \n",
    "        #print(\"data1={}, m1={}\".format(data,m))\n",
    "        #print(\"self.value=\", self.value)\n",
    "        queue=[]\n",
    "        queue.append(self)\n",
    "        while queue:\n",
    "            current_exploring_node=queue.pop(0)            \n",
    "            if current_exploring_node.value!=None:    \n",
    "            #print(\"data2={}, m2={}\".format(data,m))\n",
    "                if len(current_exploring_node.children)< current_exploring_node.m_ary:           \n",
    "                    current_exploring_node.children.append(M_ary_Node(data, m, current_exploring_node.value[1]+ distance))                \n",
    "                    return \n",
    "                else: # 최대 허용 자식 노드 갯수를 넘었을 경우, 손자 노드를 생성\n",
    "                    for i in range(current_exploring_node.m_ary):                   \n",
    "                         \n",
    "                        if (len(current_exploring_node.children[i].children)< current_exploring_node.children[i].m_ary):                            \n",
    "                            current_exploring_node.children[i].children.append(M_ary_Node(data, m, current_exploring_node.children[i].value[1]+distance))\n",
    "                            return \n",
    "                        queue.append(current_exploring_node.children[i])                \n",
    "            else:           \n",
    "                current_exploring_node.value = [data, distance]\n",
    "        return \n",
    "    def remove_child(self, data):\n",
    "        queue=[]        \n",
    "        queue.append(self)\n",
    "        while queue:\n",
    "            test=queue.pop(0)               \n",
    "            for i, node in enumerate(test.children):                \n",
    "                if node.value[0]==data:                     \n",
    "                    test.children.pop(i)\n",
    "                    if test.children==[]:\n",
    "                        del(test) \n",
    "                    return 1\n",
    "                queue.append(node)\n",
    "            \n",
    "        return None\n",
    "    def remove_all(self):      #자식 노드를 추가하지 않은 처음 루트노드 생성때로 돌아 감    \n",
    "        if self.children==[]:           \n",
    "            return \n",
    "        for node in self.children:           \n",
    "            node.remove_all()\n",
    "            #잎새 노도들 제거\n",
    "            del(node.children)\n",
    "            del(node.m_ary)\n",
    "            del(node.value)\n",
    "            del(node)\n",
    "        self.children=[]   #자식 잎새노드들이 제거되었으면 부모 노드 가 자식이 없으므로 초기화   \n",
    "        return\n",
    "# 트리 노드 값들을 'preorder' 형식으로 출력 ('preorder' 형식은 깊이 우선 탐색임)\n",
    "    def PrintTree(self):\n",
    "        if self:\n",
    "            print(self.value)\n",
    "        for i in range(len(self.children)):         \n",
    "            if self.children[i]:                \n",
    "                self.children[i].PrintTree()        "
   ]
  },
  {
   "cell_type": "markdown",
   "metadata": {},
   "source": [
    "#### 상기 코드에서 \"PrintTree' 는 'Preorder' 순서의 트리의 노드값들의 출력입니다('preorder' 형식은 깊이 우선 탐색입니다.)"
   ]
  },
  {
   "cell_type": "markdown",
   "metadata": {},
   "source": [
    "#### 교과서 11장 3절의 트리 순회 에서 나오는 다음 [Figure 3] 을 좀 더 확장한 다음 [그림 1] 의 'm-ary 트리'를 상기  파이썬 'M-ary_Node' 클래스를 이용하여 생성해보고, 몇개 노드를 출력해 봅시다.\n",
    "![Alt text](13-fig1.png)"
   ]
  },
  {
   "cell_type": "code",
   "execution_count": 173,
   "metadata": {},
   "outputs": [],
   "source": [
    "Mary1 = M_ary_Node('a', 3)\n",
    "Mary1.add_child('b')\n",
    "Mary1.add_child('c', 0)\n",
    "Mary1.add_child('d', 3)\n",
    "Mary1.add_child('e')\n",
    "Mary1.add_child('f', 0)\n",
    "Mary1.add_child('g')\n",
    "Mary1.add_child('h', 0)\n",
    "Mary1.add_child('i', 0)\n",
    "Mary1.add_child('j', 0)\n",
    "Mary1.add_child('k', 3)\n",
    "Mary1.add_child('l', 0)\n",
    "Mary1.add_child('m', 2)\n",
    "Mary1.add_child('n', 2)\n",
    "Mary1.add_child('o', 0)  \n",
    "Mary1.add_child('p', 1)\n",
    "Mary1.add_child('q', 0)\n",
    "Mary1.add_child('r', 0)\n",
    "Mary1.add_child('s', 0)\n",
    "Mary1.add_child('t', 0)\n",
    "Mary1.add_child('u', 0)\n"
   ]
  },
  {
   "cell_type": "code",
   "execution_count": 174,
   "metadata": {},
   "outputs": [
    {
     "name": "stdout",
     "output_type": "stream",
     "text": [
      "['a', 0]\n",
      "['b', 1]\n",
      "['e', 2]\n",
      "['j', 3]\n",
      "['k', 3]\n",
      "['n', 4]\n",
      "['s', 5]\n",
      "['t', 5]\n",
      "['o', 4]\n",
      "['p', 4]\n",
      "['u', 5]\n",
      "['f', 2]\n",
      "['c', 1]\n",
      "['d', 1]\n",
      "['g', 2]\n",
      "['l', 3]\n",
      "['m', 3]\n",
      "['q', 4]\n",
      "['r', 4]\n",
      "['h', 2]\n",
      "['i', 2]\n"
     ]
    }
   ],
   "source": [
    "Mary1.PrintTree()"
   ]
  },
  {
   "cell_type": "code",
   "execution_count": 175,
   "metadata": {},
   "outputs": [
    {
     "data": {
      "text/plain": [
       "['c', 1]"
      ]
     },
     "execution_count": 175,
     "metadata": {},
     "output_type": "execute_result"
    }
   ],
   "source": [
    "Mary1.children[1].value"
   ]
  },
  {
   "cell_type": "code",
   "execution_count": 176,
   "metadata": {},
   "outputs": [
    {
     "data": {
      "text/plain": [
       "['r', 4]"
      ]
     },
     "execution_count": 176,
     "metadata": {},
     "output_type": "execute_result"
    }
   ],
   "source": [
    "Mary1.children[2].children[0].children[1].children[1].value"
   ]
  },
  {
   "cell_type": "code",
   "execution_count": 177,
   "metadata": {},
   "outputs": [
    {
     "name": "stdout",
     "output_type": "stream",
     "text": [
      "['k', 3]\n",
      "['n', 4]\n",
      "['s', 5]\n",
      "['t', 5]\n",
      "['o', 4]\n",
      "['p', 4]\n",
      "['u', 5]\n"
     ]
    }
   ],
   "source": [
    "Mary1.children[0].children[0].children[1].PrintTree()"
   ]
  },
  {
   "cell_type": "code",
   "execution_count": 178,
   "metadata": {},
   "outputs": [
    {
     "name": "stdout",
     "output_type": "stream",
     "text": [
      "['a', 0]\n",
      "['b', 1]\n",
      "['e', 2]\n",
      "['j', 3]\n",
      "['k', 3]\n",
      "['n', 4]\n",
      "['s', 5]\n",
      "['t', 5]\n",
      "['o', 4]\n",
      "['p', 4]\n",
      "['f', 2]\n",
      "['c', 1]\n",
      "['d', 1]\n",
      "['g', 2]\n",
      "['l', 3]\n",
      "['m', 3]\n",
      "['q', 4]\n",
      "['r', 4]\n",
      "['h', 2]\n",
      "['i', 2]\n"
     ]
    }
   ],
   "source": [
    "Mary1.remove_child('u')\n",
    "Mary1.PrintTree()"
   ]
  },
  {
   "cell_type": "code",
   "execution_count": 179,
   "metadata": {},
   "outputs": [
    {
     "name": "stdout",
     "output_type": "stream",
     "text": [
      "['a', 0]\n",
      "['b', 1]\n",
      "['e', 2]\n",
      "['j', 3]\n",
      "['f', 2]\n",
      "['c', 1]\n",
      "['d', 1]\n",
      "['g', 2]\n",
      "['l', 3]\n",
      "['m', 3]\n",
      "['q', 4]\n",
      "['r', 4]\n",
      "['h', 2]\n",
      "['i', 2]\n"
     ]
    }
   ],
   "source": [
    "Mary1.remove_child('k')\n",
    "Mary1.PrintTree()"
   ]
  },
  {
   "cell_type": "code",
   "execution_count": 180,
   "metadata": {},
   "outputs": [],
   "source": [
    "Mary1.remove_all()"
   ]
  },
  {
   "cell_type": "code",
   "execution_count": 181,
   "metadata": {},
   "outputs": [
    {
     "data": {
      "text/plain": [
       "[]"
      ]
     },
     "execution_count": 181,
     "metadata": {},
     "output_type": "execute_result"
    }
   ],
   "source": [
    "Mary1.children"
   ]
  },
  {
   "cell_type": "code",
   "execution_count": 182,
   "metadata": {},
   "outputs": [
    {
     "name": "stdout",
     "output_type": "stream",
     "text": [
      "['a', 0]\n"
     ]
    }
   ],
   "source": [
    "Mary1.PrintTree()"
   ]
  },
  {
   "cell_type": "markdown",
   "metadata": {},
   "source": [
    "## 2.  이진탐색 트리 \n",
    "####  이진탐색트리는 다음의 성질을 갖는 순서가 있는 노드들의 정렬된 트리입니다. 노드는 자식 노드를 최대 2개 가지며, 2개는 각각 왼쪽 자식  및 오른쪽 자식 노드라 합니다.  \n",
    "#### * 노드이 값은 왼쪽 자식 노드의 값보다는 크고, 오른쪽 자식 노드보다는 작습니다.\n",
    "#### * 따라서, 노드는 왼쪽 자식 서브그래프의 노드들 값보다는  크며, 오른쪽 서브그래프의 노드들 값보다는 작습니다.\n",
    "#### 사실상 정렬된 리스트의 표현이며, 이 경우에 이진탐색이 지원되듯이 리스트 요소들을 이진탐색트리로 표현하면, 어떤 값을 갖는 요소를 찾기 이진탐색 방버이 이진탐색트리에서도 동일하게 적용됩니다"
   ]
  },
  {
   "cell_type": "markdown",
   "metadata": {},
   "source": [
    "#### 다음은 상기 'M_ary_Node' 클래스를 변형한  이진 탐색 트리 자료구조 지원  'BTree_Node' 클래스  Python 코드입니다. "
   ]
  },
  {
   "cell_type": "code",
   "execution_count": 148,
   "metadata": {},
   "outputs": [],
   "source": [
    "class BTree_Node:\n",
    "  # object 생성 초기화\n",
    "    def __init__(self, data):\n",
    "\n",
    "        self.left = None   # 왼쪽 서브트리 루트 노드값 설정\n",
    "        self.right = None  # 오른쪽 서브트리 루트 노그값 설정 \n",
    "        self.data = data   # 루트 노드 값  설정 \n",
    "\n",
    "  # 삽입되는 새 값을  왼쪽 서브트리의 루트 노드값  또는 오른쪽 서브트리  루트노트값과 비교하여  적절한 위치에  노드를 생성하고 삽입 새 데이터 값을 \n",
    "  # 노드값 으로 셋팅       \n",
    "    def insert(self, data):\n",
    "        if self.data:\n",
    "            if data < self.data:\n",
    "                if self.left is None:\n",
    "                    self.left = BTree_Node(data)\n",
    "                else:\n",
    "                    self.left.insert(data)\n",
    "            elif data > self.data:\n",
    "                if self.right is None:\n",
    "                    self.right = BTree_Node(data)\n",
    "                else:\n",
    "                    self.right.insert(data)\n",
    "        else:\n",
    "            self.data = data\n",
    "    def search(self, data, explored=[]): \n",
    "        explored.append(self.data)       \n",
    "        if data < self.data:\n",
    "            if self.left==None:\n",
    "                return print(\"The tree does not have  the item({})\".format(data))                      \n",
    "            else:\n",
    "                    self.left.search(data, explored)\n",
    "        elif data > self.data:\n",
    "            if self.right == None:\n",
    "                return print(\"The tree does not have  the item({})\".format(data))                      \n",
    "            else:\n",
    "                self.right.search(data, explored)\n",
    "        else:         \n",
    "            return print(explored)\n",
    "# 트리 노드 값들을 프린팅\n",
    "    def PrintTree(self):\n",
    "        if self.left:\n",
    "            self.left.PrintTree()\n",
    "        print( self.data),\n",
    "        if self.right:\n",
    "            self.right.PrintTree()\n",
    "            \n"
   ]
  },
  {
   "cell_type": "code",
   "execution_count": 183,
   "metadata": {},
   "outputs": [
    {
     "name": "stdout",
     "output_type": "stream",
     "text": [
      "clueless\n",
      "complexify\n",
      "jazzed\n",
      "macchiato\n",
      "phat\n",
      "poset\n",
      "sheafify\n"
     ]
    }
   ],
   "source": [
    "btree2 = BTree_Node('macchiato')\n",
    "btree2.insert('complexify')\n",
    "btree2.insert('clueless')\n",
    "btree2.insert('poset')\n",
    "btree2.insert('jazzed')\n",
    "btree2.insert('phat')\n",
    "btree2.insert('sheafify')\n",
    "btree2.PrintTree()"
   ]
  },
  {
   "cell_type": "markdown",
   "metadata": {},
   "source": [
    "#### 상기 작업에 의한 이진 트리는 다음 그림과 같습니다. \n",
    "![Alt text](13-fig2_bin_tree_example.png)"
   ]
  },
  {
   "cell_type": "code",
   "execution_count": 184,
   "metadata": {},
   "outputs": [
    {
     "name": "stdout",
     "output_type": "stream",
     "text": [
      "['macchiato', 'poset', 'phat', 'macchiato', 'complexify', 'clueless', 'macchiato', 'poset', 'phat']\n"
     ]
    }
   ],
   "source": [
    "btree2.search('phat')"
   ]
  },
  {
   "cell_type": "code",
   "execution_count": 185,
   "metadata": {},
   "outputs": [
    {
     "name": "stdout",
     "output_type": "stream",
     "text": [
      "The tree does not have  the item(Tom)\n"
     ]
    }
   ],
   "source": [
    "btree2.search('Tom')"
   ]
  },
  {
   "cell_type": "markdown",
   "metadata": {},
   "source": [
    "## 3. 트리 순회 "
   ]
  },
  {
   "cell_type": "markdown",
   "metadata": {},
   "source": [
    "### Traversal Algorithms (순회 알고리즘) \n",
    "####  순회알고리즘은 자료구조의 데이터를 모두 순회하는 알고리즘을 말합니다.  자료구조 중에 'm-ary 트리' 자료 구조의 데이터를 모두 순회하는  트리 순회 알고리즘에 대해 살펴 봅시다.  'm-ary 트리'는 루트 노드를 가지며, 각 노드는 최대 m개의 자식 노드들을 갖는 트리입니다. 트리는 각 자식 노드 각각이 또 자식 노드들을  갖기 때문에 자식 노드 각각이 서브트리의 루트 노드가 되는 재귀적 자료 구조를 갖습니다.  즉, m-ary 트리 = 루트 노드 + 서브 트리들 ;  서브 트리 = 루트 노드 + 서브트리들 .  \n",
    "\n",
    "#### 트리 순회 알고리즘에는  'preorder', 'postorder', 'inorder' 방법이 있습니다.  Preorder 순회는  루트 노드, 자식 서브트리 순으로 순회하며, 자식 서브 트리는 왼쪽으로 부터 순회합니다. 따라서, 깊이 우선 순회와 동일합니다.  Postorder 순회는  자식 서브트리, 루트 노드 순으로 순회하며 자식 서브 트리는 왼쪽으로 부터 순회합니다.  Inorder 순회는 첫번째 왼쪽 서브트리,  루트 노드, 2번째 왼쪽부터의 서브 트리들 순으로 순회합니다. \n",
    "#### 다음 그림은,  이진트리 (m=2) 경우에 'Preorder', 'Postorder', 'Inorder' 순회 방법을 각각 보여 줍니다. \n",
    " ![Alt text](13-tree_traveral_algorithm.png)"
   ]
  },
  {
   "cell_type": "markdown",
   "metadata": {},
   "source": [
    "###  이제,  'Preorder', 'Postorder', 'Inorder'   순회 알고리즘  의사코드에 대해 살펴 봅시다. "
   ]
  },
  {
   "cell_type": "markdown",
   "metadata": {},
   "source": [
    "###  Algorithm 1. Preorder Traveral Algorithm \n",
    "#### Preconditions: T is an ordered rooted tree. \n",
    "#### Postconditions: Every node of T was visited exactly once.\n",
    "\n",
    "<pre><code> \n",
    "procedure preorder(T : ordered rooted tree)\n",
    "r := root of T\n",
    "list r //visit the root of T\n",
    "for  each child c of r from left to right \n",
    "  T(c):= subtree with c as its root\n",
    "  preorder(T(c))\n",
    "\n",
    "</code></pre>"
   ]
  },
  {
   "cell_type": "markdown",
   "metadata": {},
   "source": [
    "##  Algorithm 2. Inorder Traveral Algorithm \n",
    "### Preconditions: T is an ordered rooted tree. \n",
    "### Postconditions: Every node of T was visited exactly once.\n",
    "\n",
    "<pre><code> \n",
    "\n",
    "procedure inorder(T : ordered rooted tree)\n",
    "r := root of T\n",
    "if r is a leaf then list r\n",
    "else\n",
    "  l := first child of r from left to right\n",
    "  T (l) := subtree with l as its root\n",
    "  inorder(T (l))\n",
    "  list r\n",
    "  for each child c of r except for l from left to right\n",
    "    T (c) := subtree with c as its root\n",
    "    inorder(T (c))\n",
    "\n",
    "</code></pre>"
   ]
  },
  {
   "cell_type": "markdown",
   "metadata": {},
   "source": [
    "###  Algorithm 3 Postorder Traveral Algorithm \n",
    "#### Preconditions: T is an ordered rooted tree.\n",
    "#### Postconditions: Every node of T was visited exactly once.\n",
    "\n",
    "\n",
    "<pre><code> \n",
    "procedure postorder(T : ordered rooted tree)\n",
    "r := root of T\n",
    "for each child c of r from left to right\n",
    "   T (c) := subtree with c as its root\n",
    "   postorder(T (c))\n",
    "list r\n",
    "\n",
    "</code></pre>"
   ]
  },
  {
   "cell_type": "markdown",
   "metadata": {},
   "source": [
    "#### 이제, 상기 'M-ary_Node' 클래스를 확장하여    'preorder' , 'postorder', 'inorder'  traversal algorithm  를 다음과 같이 'M_ary_Node_Traversal' 클래스의 메소드로 구현하여 봅시다."
   ]
  },
  {
   "cell_type": "code",
   "execution_count": 187,
   "metadata": {},
   "outputs": [],
   "source": [
    "class M_ary_Node_Traversal:\n",
    "  # 노드 object 생성 초기화\n",
    "    def __init__(self, data, m=2, distance=0): \n",
    "\n",
    "        self.children=[]   # 자식 노드(자식 서브트리)들 리스트\n",
    "        self.m_ary=m  # 최대 허용 자식 노드  갯수  \n",
    "        self.value = [data, distance]   # 자신(루트노드) 데이터 값(data) 및 루트노드로부터의 거리 distance 설정 \n",
    "  \n",
    "  # 자식 노드 갯수를 넘지 않는 범위에서 자식 노드를 생성하고 삽입 새 데이터 값을 노드 데이터값 으로 셋팅       \n",
    "    def add_child(self, data, m=2, distance=1):  # interval_distance ; 부모노드로부터 자식노드까지의 거리        \n",
    "        #print(\"data1={}, m1={}\".format(data,m))\n",
    "        #print(\"self.value=\", self.value)\n",
    "        queue=[]\n",
    "        queue.append(self)\n",
    "        while queue:\n",
    "            current_exploring_node=queue.pop(0)            \n",
    "            if current_exploring_node.value!=None:    \n",
    "            #print(\"data2={}, m2={}\".format(data,m))\n",
    "                if len(current_exploring_node.children)< current_exploring_node.m_ary:           \n",
    "                    current_exploring_node.children.append(M_ary_Node(data, m, current_exploring_node.value[1]+ distance))                \n",
    "                    return \n",
    "                else: # 최대 허용 자식 노드 갯수를 넘었을 경우, 손자 노드를 생성\n",
    "                    for i in range(current_exploring_node.m_ary):                   \n",
    "                         \n",
    "                        if (len(current_exploring_node.children[i].children)< current_exploring_node.children[i].m_ary):                            \n",
    "                            current_exploring_node.children[i].children.append(M_ary_Node(data, m, current_exploring_node.children[i].value[1]+distance))\n",
    "                            return \n",
    "                        queue.append(current_exploring_node.children[i])                \n",
    "            else:           \n",
    "                current_exploring_node.value = [data, distance]\n",
    "        return \n",
    "    def remove_child(self, data):\n",
    "        queue=[]        \n",
    "        queue.append(self)\n",
    "        while queue:\n",
    "            test=queue.pop(0)               \n",
    "            for i, node in enumerate(test.children):                \n",
    "                if node.value[0]==data:                     \n",
    "                    test.children.pop(i)\n",
    "                    if test.children==[]:\n",
    "                        del(test) \n",
    "                    return 1\n",
    "                queue.append(node)\n",
    "            \n",
    "        return None\n",
    "    def remove_all(self):      #자식 노드를 추가하지 않은 처음 루트노드 생성때로 돌아 감    \n",
    "        if self.children==[]:           \n",
    "            return \n",
    "        for node in self.children:           \n",
    "            node.remove_all()\n",
    "            #잎새 노도들 제거\n",
    "            del(node.children)\n",
    "            del(node.m_ary)\n",
    "            del(node.value)\n",
    "            del(node)\n",
    "        self.children=[]   #자식 잎새노드들이 제거되었으면 부모 노드 가 자식이 없으므로 초기화   \n",
    "        return\n",
    "# 트리 노드 값들을 'preorder' 형식으로 출력 ('preorder' 형식은 깊이 우선 탐색임)\n",
    "    def PrintTree(self):\n",
    "        if self:\n",
    "            print(self.value)\n",
    "        for i in range(len(self.children)):         \n",
    "            if self.children[i]:                \n",
    "                self.children[i].PrintTree()      \n",
    "# 이제, 트리 순회에 대해 살펴보자\n",
    "# Preorder traversal ; Root -> Left ->Right\n",
    "    def PreorderTraversal(self, root):\n",
    "        res = []\n",
    "        if root:\n",
    "            res.append(root.value[0])\n",
    "            for i in range(len(root.children)):\n",
    "                res = res + self.PreorderTraversal(root.children[i])\n",
    "        return res\n",
    "\n",
    "# Postorder traversal ; Left ->Right -> Root\n",
    "    def PostorderTraversal(self, root):\n",
    "        res = []\n",
    "        if root:\n",
    "            for i in range(len(root.children)):\n",
    "                res = res + self.PostorderTraversal(root.children[i])\n",
    "            res.append(root.value[0])\n",
    "        return res    \n",
    "\n",
    "# Inorder traversal ; Left -> Root -> Right\n",
    "    def InorderTraversal(self, root):\n",
    "        res = []\n",
    "        if root:            \n",
    "            if len(root.children)!=0:           \n",
    "                res = res + self.InorderTraversal(root.children[0])\n",
    "            res.append(root.value[0])\n",
    "            for i in range(1, len(root.children)):\n",
    "                res = res + self.InorderTraversal(root.children[i])\n",
    "            \n",
    "        return res                    "
   ]
  },
  {
   "cell_type": "markdown",
   "metadata": {},
   "source": [
    "#### 교과서 11장 3절의 트리 순회 에서 나오는 다음 [Figure 3] 을 좀 더 확장한 다음 [그림 1] 의 'm-ary 트리'를 상기  파이썬 'M_ary_Node_Traversal' 클래스를 이용하여 생성해보고,  preorder,  postorder,  inorder 순회를  출력해 봅시다.\n",
    "![Alt text](13-fig1.png)"
   ]
  },
  {
   "cell_type": "code",
   "execution_count": 188,
   "metadata": {},
   "outputs": [],
   "source": [
    "tras1= M_ary_Node_Traversal('a', 3)\n",
    "tras1.add_child('b')\n",
    "tras1.add_child('c', 0)\n",
    "tras1.add_child('d', 3)\n",
    "tras1.add_child('e')\n",
    "tras1.add_child('f', 0)\n",
    "tras1.add_child('g')\n",
    "tras1.add_child('h', 0)\n",
    "tras1.add_child('i', 0)\n",
    "tras1.add_child('j', 0)\n",
    "tras1.add_child('k', 3)\n",
    "tras1.add_child('l', 0)\n",
    "tras1.add_child('m', 2)\n",
    "tras1.add_child('n', 2)\n",
    "tras1.add_child('o', 0)  \n",
    "tras1.add_child('p', 1)\n",
    "tras1.add_child('q', 0)\n",
    "tras1.add_child('r', 0)\n",
    "tras1.add_child('s', 0)\n",
    "tras1.add_child('t', 0)\n",
    "tras1.add_child('u', 0)"
   ]
  },
  {
   "cell_type": "markdown",
   "metadata": {},
   "source": [
    "#### 이제, 상기 [그림 1]의 트리에 대해 , 상기 확장된 클래스 'M_ary_Node_Trasversal' 에 구현된 'preorder', 'Inorder', 'Postorder' 를 수행시켜 봅시다. "
   ]
  },
  {
   "cell_type": "code",
   "execution_count": 189,
   "metadata": {},
   "outputs": [
    {
     "name": "stdout",
     "output_type": "stream",
     "text": [
      "['a', 'b', 'e', 'j', 'k', 'n', 's', 't', 'o', 'p', 'u', 'f', 'c', 'd', 'g', 'l', 'm', 'q', 'r', 'h', 'i']\n",
      "['j', 'e', 's', 'n', 't', 'k', 'o', 'u', 'p', 'b', 'f', 'a', 'c', 'l', 'g', 'q', 'm', 'r', 'd', 'h', 'i']\n",
      "['j', 's', 't', 'n', 'o', 'u', 'p', 'k', 'e', 'f', 'b', 'c', 'l', 'q', 'r', 'm', 'g', 'h', 'i', 'd', 'a']\n"
     ]
    }
   ],
   "source": [
    "print(tras1.PreorderTraversal(tras))  # root - Left- Right \n",
    "print(tras1.InorderTraversal(tras))   # Left-root-Right \n",
    "print(tras1.PostorderTraversal(tras)) # Left - Right - root "
   ]
  },
  {
   "cell_type": "markdown",
   "metadata": {},
   "source": [
    "## 이진 트리 순회  "
   ]
  },
  {
   "cell_type": "markdown",
   "metadata": {},
   "source": [
    "### 이진탐색트리에 대해서도 순회를 구현하여 봅시다. "
   ]
  },
  {
   "cell_type": "code",
   "execution_count": 190,
   "metadata": {},
   "outputs": [],
   "source": [
    "class BTree_Node_Traversal:\n",
    "   # object 생성 초기화\n",
    "    def __init__(self, data):\n",
    "\n",
    "        self.left = None   # 왼쪽 서브트리 루트 노드값 설정\n",
    "        self.right = None  # 오른쪽 서브트리 루트 노그값 설정 \n",
    "        self.data = data   # 루트 노드 값  설정 \n",
    "\n",
    "  # 삽입되는 새 값을  왼쪽 서브트리의 루트 노드값  또는 오른쪽 서브트리  루트노트값과 비교하여  적절한 위치에  노드를 생성하고 삽입 새 데이터 값을 \n",
    "  # 노드값 으로 셋팅       \n",
    "    def insert(self, data):\n",
    "        if self.data:\n",
    "            if data < self.data:\n",
    "                if self.left is None:\n",
    "                    self.left = BTree_Node(data)\n",
    "                else:\n",
    "                    self.left.insert(data)\n",
    "            elif data > self.data:\n",
    "                if self.right is None:\n",
    "                    self.right = BTree_Node(data)\n",
    "                else:\n",
    "                    self.right.insert(data)\n",
    "        else:\n",
    "            self.data = data\n",
    "    def search(self, data, explored=[]): \n",
    "        explored.append(self.data)       \n",
    "        if data < self.data:\n",
    "            if self.left==None:\n",
    "                return print(\"The tree does not have  the item({})\".format(data))                      \n",
    "            else:\n",
    "                    self.left.search(data, explored)\n",
    "        elif data > self.data:\n",
    "            if self.right == None:\n",
    "                return print(\"The tree does not have  the item({})\".format(data))                      \n",
    "            else:\n",
    "                self.right.search(data, explored)\n",
    "        else:         \n",
    "            return print(explored)\n",
    "# 트리 노드 값들을 프린팅\n",
    "    def PrintTree(self):\n",
    "        if self.left:\n",
    "            self.left.PrintTree()\n",
    "        print( self.data),\n",
    "        if self.right:\n",
    "            self.right.PrintTree()\n",
    "            \n",
    "          \n",
    " # Preorder traversal\n",
    "# Root -> Left ->Right\n",
    "    def PreorderTraversal(self, root):\n",
    "        res = []\n",
    "        if root:\n",
    "            res.append(root.data)\n",
    "            res = res + self.PreorderTraversal(root.left)\n",
    "            res = res + self.PreorderTraversal(root.right)\n",
    "        return res\n",
    "\n",
    "# Postorder traversal\n",
    "# Left ->Right -> Root\n",
    "    def PostorderTraversal(self, root):\n",
    "        res = []\n",
    "        if root:\n",
    "            res = self.PostorderTraversal(root.left)\n",
    "            res = res + self.PostorderTraversal(root.right)\n",
    "            res.append(root.data)\n",
    "        return res    \n",
    "\n",
    "# Inorder traversal\n",
    "# Left -> Root -> Right\n",
    "    def InorderTraversal(self, root):\n",
    "        res = []\n",
    "        if root:\n",
    "            res = self.InorderTraversal(root.left)\n",
    "            res.append(root.data)\n",
    "            res = res + self.InorderTraversal(root.right)\n",
    "        return res    "
   ]
  },
  {
   "cell_type": "markdown",
   "metadata": {},
   "source": [
    "#### 이제,  아래 [그림 2]의 이진탐색 트리에 대해 'preorder' , 'postorder', 'inorder' traversal algorithm  동작을 테스트 해봅시다.\n",
    "![Alt text](13-fig2_bin_tree_example.png)"
   ]
  },
  {
   "cell_type": "code",
   "execution_count": 191,
   "metadata": {},
   "outputs": [],
   "source": [
    "btreeTra2 = BTree_Node_Traversal('macchiato')\n",
    "btreeTra2.insert('complexify')\n",
    "btreeTra2.insert('clueless')\n",
    "btreeTra2.insert('poset')\n",
    "btreeTra2.insert('jazzed')\n",
    "btreeTra2.insert('phat')\n",
    "btreeTra2.insert('sheafify')"
   ]
  },
  {
   "cell_type": "markdown",
   "metadata": {},
   "source": [
    "#### 이제, 'preorder' (root-Left-Right), 'postorder' (L-R-r), 'inorder' (L-r-R)  traversal algorithm 을 수행해 봅시다. "
   ]
  },
  {
   "cell_type": "code",
   "execution_count": 192,
   "metadata": {
    "scrolled": true
   },
   "outputs": [
    {
     "name": "stdout",
     "output_type": "stream",
     "text": [
      "['macchiato', 'complexify', 'clueless', 'jazzed', 'poset', 'phat', 'sheafify']\n",
      "['clueless', 'jazzed', 'complexify', 'phat', 'sheafify', 'poset', 'macchiato']\n",
      "['clueless', 'complexify', 'jazzed', 'macchiato', 'phat', 'poset', 'sheafify']\n"
     ]
    }
   ],
   "source": [
    "print(btreeTra2.PreorderTraversal(broot))  # root - Left- Right \n",
    "print(btreeTra2.PostorderTraversal(broot)) # Left - Right - root \n",
    "print(btreeTra2.InorderTraversal(broot))   # Left-root-Right "
   ]
  },
  {
   "cell_type": "markdown",
   "metadata": {},
   "source": [
    "####  'full m-ary tree' 는 트리의 모든 내부 노드(잎새노드(leaf)가 아닌 노드) 가 자식 노드를 m 개 씩 가질 때의 트리를 말합니다. \n",
    "### (예) binary tree 들  ( 노드 옆의 문자는 노드에 저장된 값임)\n",
    "![Altext](13-fig34-bst.png)\n",
    "\n",
    "#### 균형 트리(Balanced Tree) 는 루트 노드와 트리내 각 잎새노드까지의 거리들의 차이가 1 이하인 이진트리를  말합니다. [그림 1] 과 [그림 3]의 트리는 균형트리가 아니고, [그림 2]와 [그림 4]의 트리는 균형트리입니다.  균형이진트리는 균형트리이면서 이진트리인 트리를 말합나다.  [그림 2]와 [그림 4] 는 모두 균형 이진 트리 입니다. \n",
    "#### 트리의 깊이 (depth) 는 루트로 부터 최종 단말 노드까지 단계별로 내려가면서 (올라 오는 것은 허용 안함) 도달하는 데 거치는 에지 갯수를 말합니다.  상기 [그림 1], [그림 2],  [그림 3] 및  [그림 4]의 binary tree 의 깊이는 각각 5,2 4와 3 입니다. "
   ]
  },
  {
   "cell_type": "markdown",
   "metadata": {},
   "source": [
    "#### 상기  파이썬 'Btree_Node' 클래스를 이용하여  [그림 3]의 이진 트리를 생성해 봅시다. "
   ]
  },
  {
   "cell_type": "code",
   "execution_count": 193,
   "metadata": {},
   "outputs": [],
   "source": [
    "btree3 = BTree_Node_Traversal('j')\n",
    "btree3.insert('e')\n",
    "btree3.insert('l')\n",
    "btree3.insert('b')\n",
    "btree3.insert('h')\n",
    "btree3.insert('a')\n",
    "btree3.insert('d')\n",
    "btree3.insert('c')\n",
    "btree3.insert('f')\n",
    "btree3.insert('i')\n",
    "btree3.insert('g')\n",
    "btree3.insert('k')\n",
    "btree3.insert('n')\n",
    "btree3.insert('m')\n",
    "btree3.insert('o')"
   ]
  },
  {
   "cell_type": "code",
   "execution_count": 194,
   "metadata": {},
   "outputs": [
    {
     "name": "stdout",
     "output_type": "stream",
     "text": [
      "['j', 'e', 'b', 'a', 'd', 'c', 'h', 'f', 'g', 'i', 'l', 'k', 'n', 'm', 'o']\n",
      "['a', 'b', 'c', 'd', 'e', 'f', 'g', 'h', 'i', 'j', 'k', 'l', 'm', 'n', 'o']\n",
      "['a', 'c', 'd', 'b', 'g', 'f', 'i', 'h', 'e', 'k', 'm', 'o', 'n', 'l', 'j']\n"
     ]
    }
   ],
   "source": [
    "print(btree3.PreorderTraversal(btree3))  # root - Left- Right \n",
    "print(btree3.InorderTraversal(btree3))   # Left-root-Right \n",
    "print(btree3.PostorderTraversal(btree3)) # Left - Right - root "
   ]
  },
  {
   "cell_type": "markdown",
   "metadata": {},
   "source": [
    "####  Preorder, Inorder, Postorder  순회의 경우에, 각각 'root-Left-Right', 'Left-root-Right', 'Left-Right-root' 의 순서로 순회합니다.  이 경우에, [그림 3]의 이진트리에서 'root' 는 'j'  입니다. [그림 3] 트리에서 Preorder, Inorder, Postorder  순서로 순회했을 때, 결과되는 리스트는  각각,  \"['j'] +  left subtree 순회 결과 list + right subtree 순회 결과 list\" , \"left subtree 순회 결과 list + ['j'] +  right subtree 순회 결과 list\",  \"left subtree 순회 결과 list + right subtree 순회 결과 list+['j'] \" 로 표현됨을 상기 'BTree_Node_Traversal' 클래스에 구현된 'Preorder', 'Inorder', 'Postorder' 순회 함수를 이용하여 확인하여 봅시다."
   ]
  },
  {
   "cell_type": "code",
   "execution_count": 195,
   "metadata": {},
   "outputs": [
    {
     "name": "stdout",
     "output_type": "stream",
     "text": [
      "['j', 'e', 'b', 'a', 'd', 'c', 'h', 'f', 'g', 'i', 'l', 'k', 'n', 'm', 'o']\n",
      "['a', 'b', 'c', 'd', 'e', 'f', 'g', 'h', 'i', 'j', 'k', 'l', 'm', 'n', 'o']\n",
      "['a', 'c', 'd', 'b', 'g', 'f', 'i', 'h', 'e', 'k', 'm', 'o', 'n', 'l', 'j']\n"
     ]
    }
   ],
   "source": [
    "print(['j']+btree3.PreorderTraversal(btree3.left)+btree3.PreorderTraversal(btree3.right))\n",
    "print(btree3.InorderTraversal(btree3.left)+['j']+ btree3.InorderTraversal(btree3.right))\n",
    "print(btree3.PostorderTraversal(btree3.left)+btree3.PostorderTraversal(btree3.right)+['j'])"
   ]
  },
  {
   "cell_type": "markdown",
   "metadata": {},
   "source": [
    "## 4. 트리 깊이"
   ]
  },
  {
   "cell_type": "markdown",
   "metadata": {},
   "source": [
    "![Altext](13-fig34-bst.png)"
   ]
  },
  {
   "cell_type": "markdown",
   "metadata": {},
   "source": [
    "#### 이진탐색트리의 깊이는 상기  ' BTree_Node' 클래스를 이용하여 다음과 같은 파이썬 함수로 구할 수있습니다.  "
   ]
  },
  {
   "cell_type": "code",
   "execution_count": 254,
   "metadata": {},
   "outputs": [],
   "source": [
    "def BTree_depth(root, length=0):\n",
    "    tree_depth =0   \n",
    "    if root:\n",
    "        length +=1\n",
    "        tree_depth = BTree_depth(root.left, length)        \n",
    "        if tree_depth < BTree_depth(root.right, length):\n",
    "                tree_depth=BTree_depth(root.right, length)\n",
    "    if tree_depth < length - 1:            \n",
    "        tree_depth = length-1\n",
    "        \n",
    "    return tree_depth  "
   ]
  },
  {
   "cell_type": "markdown",
   "metadata": {},
   "source": [
    "#### 상기  작성된 트리 깊이를 구하는  파이썬 함수를 적용하여 [그림 1] 트리의 깊이가 4임을 확인해 봅시다."
   ]
  },
  {
   "cell_type": "code",
   "execution_count": 255,
   "metadata": {},
   "outputs": [
    {
     "data": {
      "text/plain": [
       "4"
      ]
     },
     "execution_count": 255,
     "metadata": {},
     "output_type": "execute_result"
    }
   ],
   "source": [
    "BTree_depth(btree3)"
   ]
  },
  {
   "cell_type": "markdown",
   "metadata": {},
   "source": [
    "###  실습 1: \n",
    "#### 1(a) 상기 M-ary 트리 클래스, \" M_ary_Node\"  클래스로 구성된 M-ary Tree 의 깊이를 구하는 파이썬 코드를 프로그래밍하여 보시오."
   ]
  },
  {
   "cell_type": "markdown",
   "metadata": {},
   "source": [
    "#### 1(b) 상기에서 구한 파이썬 코드를 이용하여 [그림 1]   3진 트리의 깊이를 확인하시오. "
   ]
  },
  {
   "cell_type": "markdown",
   "metadata": {},
   "source": [
    "#### 1(c) 상기에서 구한 파이썬 코드를 이용하여 [그림 3]  2진 트리의 깊이를 확인하시오. "
   ]
  },
  {
   "cell_type": "markdown",
   "metadata": {
    "collapsed": true
   },
   "source": [
    "###  실습 2: \n",
    "#### a) 상기 [그림 4] 를 preorder 로 순회했을 때, 순회되는 순서대로, postorder 로 순회했을 때 나오도록 하는 'Balanced Binary Tree'(Binary Search Tree 아님)  를 상기 'M_ary_Node_Traversal' 클래스를 이용하여 생성하시오. \n",
    "#### b) 생성된 트리를 바탕으로  생성된 이진 트리에 대해  'postorder'  메소드를 수행시켜 이를 확인해보시오."
   ]
  }
 ],
 "metadata": {
  "kernelspec": {
   "display_name": "Python 3",
   "language": "python",
   "name": "python3"
  },
  "language_info": {
   "codemirror_mode": {
    "name": "ipython",
    "version": 3
   },
   "file_extension": ".py",
   "mimetype": "text/x-python",
   "name": "python",
   "nbconvert_exporter": "python",
   "pygments_lexer": "ipython3",
   "version": "3.6.5"
  }
 },
 "nbformat": 4,
 "nbformat_minor": 2
}
